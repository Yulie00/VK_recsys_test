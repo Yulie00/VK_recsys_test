{
 "cells": [
  {
   "cell_type": "markdown",
   "id": "153e7a32-4e2b-46c7-b7ec-da3b3f425e6d",
   "metadata": {},
   "source": [
    "# __Рекомендация музыки__"
   ]
  },
  {
   "cell_type": "markdown",
   "id": "b327b4e1-2868-4a00-90b6-985359bdd969",
   "metadata": {},
   "source": [
    "**Импортируем библиотеки:**"
   ]
  },
  {
   "cell_type": "code",
   "execution_count": 1,
   "id": "03b17643-21a4-4f3a-82d6-8abeadae2903",
   "metadata": {},
   "outputs": [],
   "source": [
    "import pandas as pd\n",
    "import numpy as np\n",
    "import matplotlib.pyplot as plt\n",
    "import seaborn as sns\n",
    "\n",
    "plt.style.use(['ggplot'])\n",
    "\n",
    "import warnings\n",
    "warnings.filterwarnings(\"ignore\")\n",
    "\n",
    "import scipy.stats as stats\n",
    "import statsmodels as sts\n",
    "import statistics\n",
    "import gc\n",
    "from sklearn.preprocessing import LabelEncoder\n",
    "from sklearn.preprocessing import MinMaxScaler\n",
    "import lightgbm as lgb\n",
    "import datetime\n",
    "import math"
   ]
  },
  {
   "cell_type": "markdown",
   "id": "d16662b9-18c8-4705-b3ab-094fe4700275",
   "metadata": {},
   "source": [
    "### __1. Exploratory data analysis__"
   ]
  },
  {
   "cell_type": "markdown",
   "id": "0daf0a0f-0b70-43f2-b2bf-27e45b7f3290",
   "metadata": {},
   "source": [
    "**Посмотрим на наши данные:**"
   ]
  },
  {
   "cell_type": "code",
   "execution_count": 2,
   "id": "a5cf727d-d271-44d4-90d0-f68c7bb427a9",
   "metadata": {},
   "outputs": [
    {
     "data": {
      "text/html": [
       "<div>\n",
       "<style scoped>\n",
       "    .dataframe tbody tr th:only-of-type {\n",
       "        vertical-align: middle;\n",
       "    }\n",
       "\n",
       "    .dataframe tbody tr th {\n",
       "        vertical-align: top;\n",
       "    }\n",
       "\n",
       "    .dataframe thead th {\n",
       "        text-align: right;\n",
       "    }\n",
       "</style>\n",
       "<table border=\"1\" class=\"dataframe\">\n",
       "  <thead>\n",
       "    <tr style=\"text-align: right;\">\n",
       "      <th></th>\n",
       "      <th>msno</th>\n",
       "      <th>song_id</th>\n",
       "      <th>source_system_tab</th>\n",
       "      <th>source_screen_name</th>\n",
       "      <th>source_type</th>\n",
       "      <th>target</th>\n",
       "    </tr>\n",
       "  </thead>\n",
       "  <tbody>\n",
       "    <tr>\n",
       "      <th>0</th>\n",
       "      <td>FGtllVqz18RPiwJj/edr2gV78zirAiY/9SmYvia+kCg=</td>\n",
       "      <td>BBzumQNXUHKdEBOB7mAJuzok+IJA1c2Ryg/yzTF6tik=</td>\n",
       "      <td>explore</td>\n",
       "      <td>Explore</td>\n",
       "      <td>online-playlist</td>\n",
       "      <td>1</td>\n",
       "    </tr>\n",
       "    <tr>\n",
       "      <th>1</th>\n",
       "      <td>Xumu+NIjS6QYVxDS4/t3SawvJ7viT9hPKXmf0RtLNx8=</td>\n",
       "      <td>bhp/MpSNoqoxOIB+/l8WPqu6jldth4DIpCm3ayXnJqM=</td>\n",
       "      <td>my library</td>\n",
       "      <td>Local playlist more</td>\n",
       "      <td>local-playlist</td>\n",
       "      <td>1</td>\n",
       "    </tr>\n",
       "    <tr>\n",
       "      <th>2</th>\n",
       "      <td>Xumu+NIjS6QYVxDS4/t3SawvJ7viT9hPKXmf0RtLNx8=</td>\n",
       "      <td>JNWfrrC7zNN7BdMpsISKa4Mw+xVJYNnxXh3/Epw7QgY=</td>\n",
       "      <td>my library</td>\n",
       "      <td>Local playlist more</td>\n",
       "      <td>local-playlist</td>\n",
       "      <td>1</td>\n",
       "    </tr>\n",
       "    <tr>\n",
       "      <th>3</th>\n",
       "      <td>Xumu+NIjS6QYVxDS4/t3SawvJ7viT9hPKXmf0RtLNx8=</td>\n",
       "      <td>2A87tzfnJTSWqD7gIZHisolhe4DMdzkbd6LzO1KHjNs=</td>\n",
       "      <td>my library</td>\n",
       "      <td>Local playlist more</td>\n",
       "      <td>local-playlist</td>\n",
       "      <td>1</td>\n",
       "    </tr>\n",
       "    <tr>\n",
       "      <th>4</th>\n",
       "      <td>FGtllVqz18RPiwJj/edr2gV78zirAiY/9SmYvia+kCg=</td>\n",
       "      <td>3qm6XTZ6MOCU11x8FIVbAGH5l5uMkT3/ZalWG1oo2Gc=</td>\n",
       "      <td>explore</td>\n",
       "      <td>Explore</td>\n",
       "      <td>online-playlist</td>\n",
       "      <td>1</td>\n",
       "    </tr>\n",
       "    <tr>\n",
       "      <th>...</th>\n",
       "      <td>...</td>\n",
       "      <td>...</td>\n",
       "      <td>...</td>\n",
       "      <td>...</td>\n",
       "      <td>...</td>\n",
       "      <td>...</td>\n",
       "    </tr>\n",
       "    <tr>\n",
       "      <th>7377413</th>\n",
       "      <td>6xdFzPlrasIDD95mQWXVC3Bg4ptnGYtBl4ztVEZMddU=</td>\n",
       "      <td>VJTxizih/o28kXCbtPbIyWXScoXGvxyYtl6R+0YB5JM=</td>\n",
       "      <td>my library</td>\n",
       "      <td>Local playlist more</td>\n",
       "      <td>local-playlist</td>\n",
       "      <td>1</td>\n",
       "    </tr>\n",
       "    <tr>\n",
       "      <th>7377414</th>\n",
       "      <td>ZxbVmt3Kh/XOH+h58c2Kdj6SjFZk+wnUO006IgWzMQE=</td>\n",
       "      <td>z1mqaU9YOX7T/PFDvUoWozdFq7rC3KwaQP7nFVprjMI=</td>\n",
       "      <td>search</td>\n",
       "      <td>Search</td>\n",
       "      <td>song</td>\n",
       "      <td>0</td>\n",
       "    </tr>\n",
       "    <tr>\n",
       "      <th>7377415</th>\n",
       "      <td>ZxbVmt3Kh/XOH+h58c2Kdj6SjFZk+wnUO006IgWzMQE=</td>\n",
       "      <td>750RprmFfLV0bymtDH88g24pLZGVi5VpBAI300P6UOA=</td>\n",
       "      <td>search</td>\n",
       "      <td>Search</td>\n",
       "      <td>song</td>\n",
       "      <td>1</td>\n",
       "    </tr>\n",
       "    <tr>\n",
       "      <th>7377416</th>\n",
       "      <td>0aH4Hd3ziPSRHClRX8rkeOEaAG5EPPkW1mKGCdXEok0=</td>\n",
       "      <td>G8wgqObgeAMER/rVCIlgcNeQ8mm0CzF/GsxiMK8TTnA=</td>\n",
       "      <td>discover</td>\n",
       "      <td>Discover Genre</td>\n",
       "      <td>online-playlist</td>\n",
       "      <td>1</td>\n",
       "    </tr>\n",
       "    <tr>\n",
       "      <th>7377417</th>\n",
       "      <td>0aH4Hd3ziPSRHClRX8rkeOEaAG5EPPkW1mKGCdXEok0=</td>\n",
       "      <td>Ju0VGkjWeBUZCd7r5Az2hUImhMoWxWLUicOedsmvG0g=</td>\n",
       "      <td>discover</td>\n",
       "      <td>Discover Genre</td>\n",
       "      <td>online-playlist</td>\n",
       "      <td>1</td>\n",
       "    </tr>\n",
       "  </tbody>\n",
       "</table>\n",
       "<p>7377418 rows × 6 columns</p>\n",
       "</div>"
      ],
      "text/plain": [
       "                                                 msno  \\\n",
       "0        FGtllVqz18RPiwJj/edr2gV78zirAiY/9SmYvia+kCg=   \n",
       "1        Xumu+NIjS6QYVxDS4/t3SawvJ7viT9hPKXmf0RtLNx8=   \n",
       "2        Xumu+NIjS6QYVxDS4/t3SawvJ7viT9hPKXmf0RtLNx8=   \n",
       "3        Xumu+NIjS6QYVxDS4/t3SawvJ7viT9hPKXmf0RtLNx8=   \n",
       "4        FGtllVqz18RPiwJj/edr2gV78zirAiY/9SmYvia+kCg=   \n",
       "...                                               ...   \n",
       "7377413  6xdFzPlrasIDD95mQWXVC3Bg4ptnGYtBl4ztVEZMddU=   \n",
       "7377414  ZxbVmt3Kh/XOH+h58c2Kdj6SjFZk+wnUO006IgWzMQE=   \n",
       "7377415  ZxbVmt3Kh/XOH+h58c2Kdj6SjFZk+wnUO006IgWzMQE=   \n",
       "7377416  0aH4Hd3ziPSRHClRX8rkeOEaAG5EPPkW1mKGCdXEok0=   \n",
       "7377417  0aH4Hd3ziPSRHClRX8rkeOEaAG5EPPkW1mKGCdXEok0=   \n",
       "\n",
       "                                              song_id source_system_tab  \\\n",
       "0        BBzumQNXUHKdEBOB7mAJuzok+IJA1c2Ryg/yzTF6tik=           explore   \n",
       "1        bhp/MpSNoqoxOIB+/l8WPqu6jldth4DIpCm3ayXnJqM=        my library   \n",
       "2        JNWfrrC7zNN7BdMpsISKa4Mw+xVJYNnxXh3/Epw7QgY=        my library   \n",
       "3        2A87tzfnJTSWqD7gIZHisolhe4DMdzkbd6LzO1KHjNs=        my library   \n",
       "4        3qm6XTZ6MOCU11x8FIVbAGH5l5uMkT3/ZalWG1oo2Gc=           explore   \n",
       "...                                               ...               ...   \n",
       "7377413  VJTxizih/o28kXCbtPbIyWXScoXGvxyYtl6R+0YB5JM=        my library   \n",
       "7377414  z1mqaU9YOX7T/PFDvUoWozdFq7rC3KwaQP7nFVprjMI=            search   \n",
       "7377415  750RprmFfLV0bymtDH88g24pLZGVi5VpBAI300P6UOA=            search   \n",
       "7377416  G8wgqObgeAMER/rVCIlgcNeQ8mm0CzF/GsxiMK8TTnA=          discover   \n",
       "7377417  Ju0VGkjWeBUZCd7r5Az2hUImhMoWxWLUicOedsmvG0g=          discover   \n",
       "\n",
       "          source_screen_name      source_type  target  \n",
       "0                    Explore  online-playlist       1  \n",
       "1        Local playlist more   local-playlist       1  \n",
       "2        Local playlist more   local-playlist       1  \n",
       "3        Local playlist more   local-playlist       1  \n",
       "4                    Explore  online-playlist       1  \n",
       "...                      ...              ...     ...  \n",
       "7377413  Local playlist more   local-playlist       1  \n",
       "7377414               Search             song       0  \n",
       "7377415               Search             song       1  \n",
       "7377416       Discover Genre  online-playlist       1  \n",
       "7377417       Discover Genre  online-playlist       1  \n",
       "\n",
       "[7377418 rows x 6 columns]"
      ]
     },
     "execution_count": 2,
     "metadata": {},
     "output_type": "execute_result"
    }
   ],
   "source": [
    "df_train = pd.read_csv('train.csv')\n",
    "df_train"
   ]
  },
  {
   "cell_type": "code",
   "execution_count": 3,
   "id": "f04516d9-564a-44f7-8c9a-f735e28333ea",
   "metadata": {},
   "outputs": [
    {
     "data": {
      "text/html": [
       "<div>\n",
       "<style scoped>\n",
       "    .dataframe tbody tr th:only-of-type {\n",
       "        vertical-align: middle;\n",
       "    }\n",
       "\n",
       "    .dataframe tbody tr th {\n",
       "        vertical-align: top;\n",
       "    }\n",
       "\n",
       "    .dataframe thead th {\n",
       "        text-align: right;\n",
       "    }\n",
       "</style>\n",
       "<table border=\"1\" class=\"dataframe\">\n",
       "  <thead>\n",
       "    <tr style=\"text-align: right;\">\n",
       "      <th></th>\n",
       "      <th>id</th>\n",
       "      <th>msno</th>\n",
       "      <th>song_id</th>\n",
       "      <th>source_system_tab</th>\n",
       "      <th>source_screen_name</th>\n",
       "      <th>source_type</th>\n",
       "    </tr>\n",
       "  </thead>\n",
       "  <tbody>\n",
       "    <tr>\n",
       "      <th>0</th>\n",
       "      <td>0</td>\n",
       "      <td>V8ruy7SGk7tDm3zA51DPpn6qutt+vmKMBKa21dp54uM=</td>\n",
       "      <td>WmHKgKMlp1lQMecNdNvDMkvIycZYHnFwDT72I5sIssc=</td>\n",
       "      <td>my library</td>\n",
       "      <td>Local playlist more</td>\n",
       "      <td>local-library</td>\n",
       "    </tr>\n",
       "    <tr>\n",
       "      <th>1</th>\n",
       "      <td>1</td>\n",
       "      <td>V8ruy7SGk7tDm3zA51DPpn6qutt+vmKMBKa21dp54uM=</td>\n",
       "      <td>y/rsZ9DC7FwK5F2PK2D5mj+aOBUJAjuu3dZ14NgE0vM=</td>\n",
       "      <td>my library</td>\n",
       "      <td>Local playlist more</td>\n",
       "      <td>local-library</td>\n",
       "    </tr>\n",
       "    <tr>\n",
       "      <th>2</th>\n",
       "      <td>2</td>\n",
       "      <td>/uQAlrAkaczV+nWCd2sPF2ekvXPRipV7q0l+gbLuxjw=</td>\n",
       "      <td>8eZLFOdGVdXBSqoAv5nsLigeH2BvKXzTQYtUM53I0k4=</td>\n",
       "      <td>discover</td>\n",
       "      <td>NaN</td>\n",
       "      <td>song-based-playlist</td>\n",
       "    </tr>\n",
       "    <tr>\n",
       "      <th>3</th>\n",
       "      <td>3</td>\n",
       "      <td>1a6oo/iXKatxQx4eS9zTVD+KlSVaAFbTIqVvwLC1Y0k=</td>\n",
       "      <td>ztCf8thYsS4YN3GcIL/bvoxLm/T5mYBVKOO4C9NiVfQ=</td>\n",
       "      <td>radio</td>\n",
       "      <td>Radio</td>\n",
       "      <td>radio</td>\n",
       "    </tr>\n",
       "    <tr>\n",
       "      <th>4</th>\n",
       "      <td>4</td>\n",
       "      <td>1a6oo/iXKatxQx4eS9zTVD+KlSVaAFbTIqVvwLC1Y0k=</td>\n",
       "      <td>MKVMpslKcQhMaFEgcEQhEfi5+RZhMYlU3eRDpySrH8Y=</td>\n",
       "      <td>radio</td>\n",
       "      <td>Radio</td>\n",
       "      <td>radio</td>\n",
       "    </tr>\n",
       "    <tr>\n",
       "      <th>...</th>\n",
       "      <td>...</td>\n",
       "      <td>...</td>\n",
       "      <td>...</td>\n",
       "      <td>...</td>\n",
       "      <td>...</td>\n",
       "      <td>...</td>\n",
       "    </tr>\n",
       "    <tr>\n",
       "      <th>2556785</th>\n",
       "      <td>2556785</td>\n",
       "      <td>XmA/cIkXJ8jZUfsUc4bBfJVWMMqmylnPW0WVkg/iz0s=</td>\n",
       "      <td>wJoWzZd7AL+qX9xZWZwRTzGRYg0Lxcl5Pe+9n5hZgAQ=</td>\n",
       "      <td>discover</td>\n",
       "      <td>Online playlist more</td>\n",
       "      <td>online-playlist</td>\n",
       "    </tr>\n",
       "    <tr>\n",
       "      <th>2556786</th>\n",
       "      <td>2556786</td>\n",
       "      <td>jvbujcxCExG0CrPShsEmZ6pePcHuRqru2OLEUw85iGk=</td>\n",
       "      <td>KCJ8BlSfRQRgB7EVuzFvg52AhR8m2fT032MzN5ewbEI=</td>\n",
       "      <td>discover</td>\n",
       "      <td>NaN</td>\n",
       "      <td>online-playlist</td>\n",
       "    </tr>\n",
       "    <tr>\n",
       "      <th>2556787</th>\n",
       "      <td>2556787</td>\n",
       "      <td>jvbujcxCExG0CrPShsEmZ6pePcHuRqru2OLEUw85iGk=</td>\n",
       "      <td>ySDsKJSnhFMESzC9mBhY0hnFEEBWDYx0FOMNcYDLb/A=</td>\n",
       "      <td>discover</td>\n",
       "      <td>NaN</td>\n",
       "      <td>online-playlist</td>\n",
       "    </tr>\n",
       "    <tr>\n",
       "      <th>2556788</th>\n",
       "      <td>2556788</td>\n",
       "      <td>jvbujcxCExG0CrPShsEmZ6pePcHuRqru2OLEUw85iGk=</td>\n",
       "      <td>WXH8kL8e+0H2jY+s2Y6FpHyyHdaMYV3b6yfDa3FAt9U=</td>\n",
       "      <td>discover</td>\n",
       "      <td>NaN</td>\n",
       "      <td>online-playlist</td>\n",
       "    </tr>\n",
       "    <tr>\n",
       "      <th>2556789</th>\n",
       "      <td>2556789</td>\n",
       "      <td>jvbujcxCExG0CrPShsEmZ6pePcHuRqru2OLEUw85iGk=</td>\n",
       "      <td>ftPDlhAywvcZX7ojE6F+9CDsC22UKX96iEr4W0ciPec=</td>\n",
       "      <td>discover</td>\n",
       "      <td>NaN</td>\n",
       "      <td>online-playlist</td>\n",
       "    </tr>\n",
       "  </tbody>\n",
       "</table>\n",
       "<p>2556790 rows × 6 columns</p>\n",
       "</div>"
      ],
      "text/plain": [
       "              id                                          msno  \\\n",
       "0              0  V8ruy7SGk7tDm3zA51DPpn6qutt+vmKMBKa21dp54uM=   \n",
       "1              1  V8ruy7SGk7tDm3zA51DPpn6qutt+vmKMBKa21dp54uM=   \n",
       "2              2  /uQAlrAkaczV+nWCd2sPF2ekvXPRipV7q0l+gbLuxjw=   \n",
       "3              3  1a6oo/iXKatxQx4eS9zTVD+KlSVaAFbTIqVvwLC1Y0k=   \n",
       "4              4  1a6oo/iXKatxQx4eS9zTVD+KlSVaAFbTIqVvwLC1Y0k=   \n",
       "...          ...                                           ...   \n",
       "2556785  2556785  XmA/cIkXJ8jZUfsUc4bBfJVWMMqmylnPW0WVkg/iz0s=   \n",
       "2556786  2556786  jvbujcxCExG0CrPShsEmZ6pePcHuRqru2OLEUw85iGk=   \n",
       "2556787  2556787  jvbujcxCExG0CrPShsEmZ6pePcHuRqru2OLEUw85iGk=   \n",
       "2556788  2556788  jvbujcxCExG0CrPShsEmZ6pePcHuRqru2OLEUw85iGk=   \n",
       "2556789  2556789  jvbujcxCExG0CrPShsEmZ6pePcHuRqru2OLEUw85iGk=   \n",
       "\n",
       "                                              song_id source_system_tab  \\\n",
       "0        WmHKgKMlp1lQMecNdNvDMkvIycZYHnFwDT72I5sIssc=        my library   \n",
       "1        y/rsZ9DC7FwK5F2PK2D5mj+aOBUJAjuu3dZ14NgE0vM=        my library   \n",
       "2        8eZLFOdGVdXBSqoAv5nsLigeH2BvKXzTQYtUM53I0k4=          discover   \n",
       "3        ztCf8thYsS4YN3GcIL/bvoxLm/T5mYBVKOO4C9NiVfQ=             radio   \n",
       "4        MKVMpslKcQhMaFEgcEQhEfi5+RZhMYlU3eRDpySrH8Y=             radio   \n",
       "...                                               ...               ...   \n",
       "2556785  wJoWzZd7AL+qX9xZWZwRTzGRYg0Lxcl5Pe+9n5hZgAQ=          discover   \n",
       "2556786  KCJ8BlSfRQRgB7EVuzFvg52AhR8m2fT032MzN5ewbEI=          discover   \n",
       "2556787  ySDsKJSnhFMESzC9mBhY0hnFEEBWDYx0FOMNcYDLb/A=          discover   \n",
       "2556788  WXH8kL8e+0H2jY+s2Y6FpHyyHdaMYV3b6yfDa3FAt9U=          discover   \n",
       "2556789  ftPDlhAywvcZX7ojE6F+9CDsC22UKX96iEr4W0ciPec=          discover   \n",
       "\n",
       "           source_screen_name          source_type  \n",
       "0         Local playlist more        local-library  \n",
       "1         Local playlist more        local-library  \n",
       "2                         NaN  song-based-playlist  \n",
       "3                       Radio                radio  \n",
       "4                       Radio                radio  \n",
       "...                       ...                  ...  \n",
       "2556785  Online playlist more      online-playlist  \n",
       "2556786                   NaN      online-playlist  \n",
       "2556787                   NaN      online-playlist  \n",
       "2556788                   NaN      online-playlist  \n",
       "2556789                   NaN      online-playlist  \n",
       "\n",
       "[2556790 rows x 6 columns]"
      ]
     },
     "execution_count": 3,
     "metadata": {},
     "output_type": "execute_result"
    }
   ],
   "source": [
    "df_test = pd.read_csv('test.csv')\n",
    "df_test"
   ]
  },
  {
   "cell_type": "markdown",
   "id": "f726283b-311c-432e-879b-ce6d10b0d88b",
   "metadata": {},
   "source": [
    "**Гистограмма встречаемости различных длин историй в тренировочном датасете.**\n",
    "\n",
    "По горизонтали задана длина истории, а по вертикали - количество пользователей с данной длиной истории."
   ]
  },
  {
   "cell_type": "code",
   "execution_count": 62,
   "id": "890e0eda-a513-47e1-be91-19c0ffa2f78b",
   "metadata": {},
   "outputs": [
    {
     "data": {
      "image/png": "[encoded data removed]",
      "text/plain": [
       "<Figure size 800x600 with 1 Axes>"
      ]
     },
     "metadata": {},
     "output_type": "display_data"
    }
   ],
   "source": [
    "plt.figure(figsize=(8, 6), dpi=100)\n",
    "msno_count_train = df_train['msno'].value_counts()\n",
    "plt.hist(msno_count_train, bins = 1000)\n",
    "plt.xlim(right=1000)\n",
    "plt.xlim(left=0)\n",
    "plt.show()"
   ]
  },
  {
   "cell_type": "code",
   "execution_count": 108,
   "id": "12088069-6dcf-4e02-851b-7820fb2eddaa",
   "metadata": {},
   "outputs": [
    {
     "data": {
      "image/png": "[encoded data removed]",
      "text/plain": [
       "<Figure size 800x600 with 1 Axes>"
      ]
     },
     "metadata": {},
     "output_type": "display_data"
    }
   ],
   "source": [
    "plt.figure(figsize=(8, 6), dpi=100)\n",
    "msno_count_test = df_test['msno'].value_counts()\n",
    "plt.hist(msno_count_test, bins = 1000)\n",
    "plt.xlim(right=1000)\n",
    "plt.xlim(left=0)\n",
    "plt.show()"
   ]
  },
  {
   "cell_type": "markdown",
   "id": "32a5e52b-21a1-4f37-b192-e458ed81ccb9",
   "metadata": {},
   "source": [
    "**Посмотрим на пользователей с самой длинной историей:**"
   ]
  },
  {
   "cell_type": "code",
   "execution_count": 72,
   "id": "6d3e5b5e-6588-4139-9b56-ad0089b6c60e",
   "metadata": {},
   "outputs": [
    {
     "name": "stdout",
     "output_type": "stream",
     "text": [
      "MXIMDXO0j3UpaT7FvOSGW6Y5zfhlh+xYjTqGoUdMzEE=    5819\n",
      "o+5RNlSWrzvrphgBNGIo1FLkGxBgyICns6qXj3nS7Pk=    5537\n",
      "FGtllVqz18RPiwJj/edr2gV78zirAiY/9SmYvia+kCg=    5511\n",
      "KGXNZ/H3VxvET/+rGxlrAe7Gpz2eKMXyuSg3xh8Ij1M=    4217\n",
      "cqjRBV/jWN2ujhc+z/4tz+Mj6xEfflAAt6qBXCqxKvw=    4008\n",
      "hYJpPvGod6vy09TnlXdQe3Q0vlxju5u5Ruf8V2XkTio=    3926\n",
      "SZ5NNypqaTWljFO1HiVZwkw3713+rM9x/JNdJd8/fzc=    3733\n",
      "dU4RbzpIRRd/EkA9Xncpy9CglzDBZp7nKMfdnfr3Aj8=    3686\n",
      "OOUnJuX4SteRhUdJZ9B2DqtfiwsfcZVBefEhXLeBsFg=    3239\n",
      "frZtrrN1Y2ZqZX3VFiq7FpAvLth3kZJNovT9cmyn2O4=    3177\n",
      "Name: msno, dtype: int64\n"
     ]
    }
   ],
   "source": [
    "print(msno_count_train[:10])"
   ]
  },
  {
   "cell_type": "markdown",
   "id": "52c6b178-8578-41fd-8264-a9bf7be8fad8",
   "metadata": {},
   "source": [
    "**Посмотрим на пользователей с самой короткой историей:**"
   ]
  },
  {
   "cell_type": "code",
   "execution_count": 64,
   "id": "b46119fa-227a-4b47-87bd-3f02f47802b8",
   "metadata": {},
   "outputs": [
    {
     "name": "stdout",
     "output_type": "stream",
     "text": [
      "sr23ttlbTNG9jWprDfChRzKaeEx3gHH26lCH9iEaKwA=    1\n",
      "JZ0xKEv8Zt+612Dp3k9NVuMhAHXFZ629sTVfnddg/CU=    1\n",
      "sUtbUsWo1h4Yd9dYGpCiDikxgPBTIyamnNVo+DPF1rA=    1\n",
      "Fyz1Sh8XN9qk1o8IxT9YJznH4QIRgmzGn2EGu6aQCKo=    1\n",
      "YrMeWctL7y22cvKvfW6FHMzAUDa09vDsO3Z5f9jDBrY=    1\n",
      "dFn+y4sy0eSX+AO8XyYDtJD6lXnCK5NrJ5CVdHhDWSc=    1\n",
      "OFkQCandGEPRN4iPq48jSjCJerSplGddZ7s8iphDnRI=    1\n",
      "xLvdozJTsNThedqu4yX9+nPDw2xi9SfiDd5AjNk2EHM=    1\n",
      "PXf4wzIDMBFS/TYu0WcjSwp6li+8kuVOK3o7UkpjqDE=    1\n",
      "oHMpaCQRI6fzq/jamfTvv5tFfukkE9/VERi7/CfQ9M0=    1\n",
      "Name: msno, dtype: int64\n"
     ]
    }
   ],
   "source": [
    "print(msno_count_train[-10:])"
   ]
  },
  {
   "cell_type": "markdown",
   "id": "f7bea11d-2c4e-4aca-aa77-fb4b8ac34257",
   "metadata": {},
   "source": [
    "**Гистограмма встречаемости разоичных песен**"
   ]
  },
  {
   "cell_type": "code",
   "execution_count": 111,
   "id": "d43118b6-4675-42cb-b0c9-aa180362398c",
   "metadata": {
    "scrolled": true
   },
   "outputs": [
    {
     "data": {
      "image/png": "[encoded data removed]",
      "text/plain": [
       "<Figure size 800x600 with 1 Axes>"
      ]
     },
     "metadata": {},
     "output_type": "display_data"
    }
   ],
   "source": [
    "plt.figure(figsize=(8, 6), dpi=100)\n",
    "song_id_count_train = df_train['song_id'].value_counts()\n",
    "plt.hist(song_id_count_train, bins = 10000)\n",
    "plt.title(\"Hist of song_id, train dataset\")\n",
    "plt.xlim(right=80)\n",
    "plt.xlim(left=0)\n",
    "plt.show()"
   ]
  },
  {
   "cell_type": "code",
   "execution_count": 110,
   "id": "6d79e695-dfb4-4867-bb55-616d767c737d",
   "metadata": {},
   "outputs": [
    {
     "data": {
      "image/png": "[encoded data removed]",
      "text/plain": [
       "<Figure size 800x600 with 1 Axes>"
      ]
     },
     "metadata": {},
     "output_type": "display_data"
    }
   ],
   "source": [
    "plt.figure(figsize=(8, 6), dpi=100)\n",
    "song_id_count_test = df_test['song_id'].value_counts()\n",
    "plt.title(\"Hist of song_id, test dataset\")\n",
    "plt.hist(song_id_count_test, bins = 10000)\n",
    "plt.xlim(right=80)\n",
    "plt.xlim(left=0)\n",
    "plt.show()"
   ]
  },
  {
   "cell_type": "markdown",
   "id": "8ea884de-0ddf-4daa-aaa0-216cf5da2243",
   "metadata": {},
   "source": [
    "**Посмотрим на самые часто- и самые редковстречаемые песни**"
   ]
  },
  {
   "cell_type": "code",
   "execution_count": 80,
   "id": "d8b3fca2-28ef-475f-82e7-60dbb8f36640",
   "metadata": {},
   "outputs": [
    {
     "data": {
      "text/plain": [
       "reXuGcEWDDCnL0K3Th//3DFG4S1ACSpJMzA+CFipo1g=    13973\n",
       "T86YHdD4C9JSc274b1IlMkLuNdz4BQRB50fWWE7hx9g=    13293\n",
       "wBTWuHbjdjxnG1lQcbqnK4FddV24rUhuyrYLd9c/hmk=    13079\n",
       "FynUyq0+drmIARmK1JZ/qcjNZ7DKkqTY6/0O0lTzNUI=    12855\n",
       "PgRtmmESVNtWjoZHO5a1r21vIz9sVZmcJJpFCbRa1LI=    12004\n",
       "YN4T/yvvXtYrBVN8KTnieiQohHL3T9fnzUkbLWcgLro=    11835\n",
       "M9rAajz4dYuRhZ7jLvf9RRayVA3os61X/XXHEuW4giA=    11745\n",
       "U9kojfZSKaiWOW94PKh1Riyv/zUWxmBRmv0XInQWLGw=    11521\n",
       "43Qm2YzsP99P5wm37B1JIhezUcQ/1CDjYlQx6rBbz2U=    11131\n",
       "cy10N2j2sdY/X4BDUcMu2Iumfz7pV3tqE5iEaup2yGI=    10791\n",
       "Name: song_id, dtype: int64"
      ]
     },
     "execution_count": 80,
     "metadata": {},
     "output_type": "execute_result"
    }
   ],
   "source": [
    "song_id_count_train[:10]"
   ]
  },
  {
   "cell_type": "code",
   "execution_count": 78,
   "id": "493b9124-d5d5-4eff-b7bd-2dd6de2072a8",
   "metadata": {},
   "outputs": [
    {
     "data": {
      "text/plain": [
       "HnVuRYKgqSTU7C9RoSW3HVDPeRLWg956ahZR34TrppU=    1\n",
       "jVCP6Gn2yWSN7IHxke9yP1ieeGQMUYlYRDVpIkG7Kzo=    1\n",
       "o91aGAJQ3SdFv1TRWMkftS16bX4RtLHg9Y/cWHT3QYY=    1\n",
       "fofEiEvL38z7i81bys3MCPZMR3xCSOULK8eNCLtLEfk=    1\n",
       "I+AP1buhTIf2aqngj0KjyyX0GcbMQ51xVERt1w8wC0c=    1\n",
       "DiWGO+b/VNzMIfHcLBCQn3U8f1tKaJ6ajg22XWyEprY=    1\n",
       "nRgG/+VRBbOt6qcmdASlErWsPkdbPKnyseu6aW+Z1cM=    1\n",
       "2s3NxjWYuvP1sCMtAugzwqsDloGigLDH1SLLKWgiFPQ=    1\n",
       "ib9+UJ4WCoyvo9VMOtl46RcBdbOJY/ESw0vGvX8QTog=    1\n",
       "WJzitiYM7ddyalCdx8/Gkkt1UFSp2t/0ZY74CrMGvWg=    1\n",
       "Name: song_id, dtype: int64"
      ]
     },
     "execution_count": 78,
     "metadata": {},
     "output_type": "execute_result"
    }
   ],
   "source": [
    "song_id_count_train[-10:]"
   ]
  },
  {
   "cell_type": "markdown",
   "id": "63c10d07-2496-4b41-b4d4-1bb30b8c628f",
   "metadata": {},
   "source": [
    "**Посмотрим на названия вкладок, на которых было запущено событие**"
   ]
  },
  {
   "cell_type": "code",
   "execution_count": 93,
   "id": "a2a1473a-8be6-4241-893d-14278166259b",
   "metadata": {},
   "outputs": [],
   "source": [
    "source_system_count_train = df_train['source_system_tab'].value_counts()\n",
    "source_system_count_test = df_test['source_system_tab'].value_counts()"
   ]
  },
  {
   "cell_type": "code",
   "execution_count": 88,
   "id": "21e0e5a3-fad5-41d9-b133-f1456618e36d",
   "metadata": {},
   "outputs": [
    {
     "data": {
      "text/plain": [
       "my library      3684730\n",
       "discover        2179252\n",
       "search           623286\n",
       "radio            476701\n",
       "listen with      212266\n",
       "explore          167949\n",
       "notification       6185\n",
       "settings           2200\n",
       "Name: source_system_tab, dtype: int64"
      ]
     },
     "execution_count": 88,
     "metadata": {},
     "output_type": "execute_result"
    }
   ],
   "source": [
    "source_system_count_train"
   ]
  },
  {
   "cell_type": "code",
   "execution_count": 106,
   "id": "4b0ad7f4-e339-4077-8ab7-2b00af42d0a7",
   "metadata": {},
   "outputs": [
    {
     "data": {
      "image/png": "[encoded data removed]",
      "text/plain": [
       "<Figure size 640x480 with 1 Axes>"
      ]
     },
     "metadata": {},
     "output_type": "display_data"
    }
   ],
   "source": [
    "source_system_count_train.plot(kind='barh')\n",
    "plt.title(\"Hist of source system tab, train dataset\")\n",
    "plt.show()"
   ]
  },
  {
   "cell_type": "code",
   "execution_count": 107,
   "id": "8e2a76af-e039-41ff-91e8-3dfbc2b1a3e2",
   "metadata": {},
   "outputs": [
    {
     "data": {
      "image/png": "[encoded data removed]",
      "text/plain": [
       "<Figure size 640x480 with 1 Axes>"
      ]
     },
     "metadata": {},
     "output_type": "display_data"
    }
   ],
   "source": [
    "source_system_count_test.plot(kind='barh')\n",
    "plt.title(\"Hist of source system tab, test dataset\")\n",
    "plt.show()"
   ]
  },
  {
   "cell_type": "markdown",
   "id": "d20f9972-ab32-4dce-a99b-34116a1d7af7",
   "metadata": {},
   "source": [
    "**Посмотрим на названия макетов, которые видят пользователи**"
   ]
  },
  {
   "cell_type": "code",
   "execution_count": 113,
   "id": "f6e2a5e5-b0df-4cdd-b9c3-dfd65f9465cd",
   "metadata": {},
   "outputs": [],
   "source": [
    "source_screen_train = df_train['source_screen_name'].value_counts()\n",
    "source_screen_test = df_test['source_screen_name'].value_counts()"
   ]
  },
  {
   "cell_type": "code",
   "execution_count": 90,
   "id": "2135dc19-f080-4da7-862e-fcce7402cbc7",
   "metadata": {},
   "outputs": [
    {
     "data": {
      "text/plain": [
       "Local playlist more     3228202\n",
       "Online playlist more    1294689\n",
       "Radio                    474467\n",
       "Album more               420156\n",
       "Search                   298487\n",
       "Artist more              252429\n",
       "Discover Feature         244246\n",
       "Discover Chart           213658\n",
       "Others profile more      201795\n",
       "Discover Genre            82202\n",
       "My library                75980\n",
       "Explore                   72342\n",
       "Unknown                   54170\n",
       "Discover New              15955\n",
       "Search Trends             13632\n",
       "Search Home               13482\n",
       "My library_Search          6451\n",
       "Self profile more           212\n",
       "Concert                      47\n",
       "Payment                      12\n",
       "Name: source_screen_name, dtype: int64"
      ]
     },
     "execution_count": 90,
     "metadata": {},
     "output_type": "execute_result"
    }
   ],
   "source": [
    "source_screen_train"
   ]
  },
  {
   "cell_type": "code",
   "execution_count": 114,
   "id": "182c26ef-3112-47bd-9db0-17b5c599f156",
   "metadata": {},
   "outputs": [
    {
     "data": {
      "image/png": "[encoded data removed]",
      "text/plain": [
       "<Figure size 640x480 with 1 Axes>"
      ]
     },
     "metadata": {},
     "output_type": "display_data"
    }
   ],
   "source": [
    "source_screen_train.plot(kind='barh')\n",
    "plt.title(\"Hist of source screen name, train dataset\")\n",
    "plt.show()"
   ]
  },
  {
   "cell_type": "code",
   "execution_count": 115,
   "id": "82d9cd1b-eaa3-4c10-8c4c-c6ddb492c21d",
   "metadata": {},
   "outputs": [
    {
     "data": {
      "image/png": "[encoded data removed]",
      "text/plain": [
       "<Figure size 640x480 with 1 Axes>"
      ]
     },
     "metadata": {},
     "output_type": "display_data"
    }
   ],
   "source": [
    "source_screen_test.plot(kind='barh')\n",
    "plt.title(\"Hist of source screen name, test dataset\")\n",
    "plt.show()"
   ]
  },
  {
   "cell_type": "markdown",
   "id": "ec081545-295b-4174-aa54-d5eb36f2bb32",
   "metadata": {},
   "source": [
    "**Посмотрим на точки входа в приложение**"
   ]
  },
  {
   "cell_type": "code",
   "execution_count": 31,
   "id": "37673267-02cb-4f86-82f6-06c881ce4aec",
   "metadata": {},
   "outputs": [],
   "source": [
    "source_type_train = df_train['source_type'].value_counts()\n",
    "source_type_test = df_test['source_type'].value_counts()"
   ]
  },
  {
   "cell_type": "code",
   "execution_count": 92,
   "id": "2bd2be38-47cb-44ec-83a4-23b5d3f989f4",
   "metadata": {},
   "outputs": [
    {
     "data": {
      "text/plain": [
       "local-library             2261399\n",
       "online-playlist           1967924\n",
       "local-playlist            1079503\n",
       "radio                      483109\n",
       "album                      477344\n",
       "top-hits-for-artist        423614\n",
       "song                       244722\n",
       "song-based-playlist        210527\n",
       "listen-with                192842\n",
       "topic-article-playlist      11194\n",
       "artist                       3038\n",
       "my-daily-playlist             663\n",
       "Name: source_type, dtype: int64"
      ]
     },
     "execution_count": 92,
     "metadata": {},
     "output_type": "execute_result"
    }
   ],
   "source": [
    "source_type_train"
   ]
  },
  {
   "cell_type": "code",
   "execution_count": 35,
   "id": "e998b650-1ad2-41af-a3de-7ab249800c66",
   "metadata": {},
   "outputs": [
    {
     "data": {
      "image/png": "[encoded data removed]",
      "text/plain": [
       "<Figure size 640x480 with 1 Axes>"
      ]
     },
     "metadata": {},
     "output_type": "display_data"
    }
   ],
   "source": [
    "source_type_train.plot(kind='pie')\n",
    "plt.title(\"Hist of source type, train dataset\")\n",
    "plt.show()"
   ]
  },
  {
   "cell_type": "code",
   "execution_count": 36,
   "id": "6adbdfe5-e1b5-4537-97a9-d16765df8d0e",
   "metadata": {},
   "outputs": [
    {
     "data": {
      "image/png": "[encoded data removed]",
      "text/plain": [
       "<Figure size 640x480 with 1 Axes>"
      ]
     },
     "metadata": {},
     "output_type": "display_data"
    }
   ],
   "source": [
    "source_type_test.plot(kind='pie')\n",
    "plt.title(\"Hist of source type, test dataset\")\n",
    "plt.show()"
   ]
  },
  {
   "cell_type": "markdown",
   "id": "d67bc608-3b9e-43ed-ab50-d1de511a1a7e",
   "metadata": {},
   "source": [
    "Из схожести графиков мы можем сделать вывод, что тренировочный и тестовый датасеты похожи"
   ]
  },
  {
   "cell_type": "markdown",
   "id": "a0155a38-6b82-44fb-b797-a070baed1ef3",
   "metadata": {},
   "source": [
    "**Проведем некоторые статистические тесты**"
   ]
  },
  {
   "cell_type": "markdown",
   "id": "6fbcd6c9-d23c-44df-99cf-b88d8ba00a40",
   "metadata": {},
   "source": [
    "Для этого воспользуемся тестом Шапиро-Уилка:  \n",
    "***Критерий Шапиро-Уилка*** используется для проверки гипотезы $H_0$: «случайная величина $X$ распределена нормально» и является одним наиболее эффективных критериев проверки нормальности.  \n",
    "Вот немного математики:  \n",
    "\n",
    "$$\n",
    "\\begin{aligned}      \n",
    "W=\\frac{1}{s^2}\\left[\\sum_{i=1}^n a_{n-i+1} (x_{n-i+1} -x_i)\\right]^2,\n",
    "s^2 - \\text{Несмещенная дисперсия}\n",
    "\\end{aligned}\n",
    "$$"
   ]
  },
  {
   "cell_type": "markdown",
   "id": "794638de-754a-4e24-9b4a-6991bb6f509d",
   "metadata": {},
   "source": [
    "Получить нормальное распределение - это счастье для исследователя, т.к. к нему применимы мощные стат. критерии, к примеру критерий Фишера"
   ]
  },
  {
   "cell_type": "code",
   "execution_count": 65,
   "id": "01481041-739b-49fc-a5a3-df8fd206b22a",
   "metadata": {},
   "outputs": [
    {
     "data": {
      "text/plain": [
       "ShapiroResult(statistic=0.7180649042129517, pvalue=0.0)"
      ]
     },
     "execution_count": 65,
     "metadata": {},
     "output_type": "execute_result"
    }
   ],
   "source": [
    "shapiro_train = stats.shapiro(msno_count_train)\n",
    "shapiro_train"
   ]
  },
  {
   "cell_type": "markdown",
   "id": "f7344223-ab3b-47e8-a743-b7f92eb13479",
   "metadata": {},
   "source": [
    "Смотрим на `pvalue` - это вероятность, при верности нулевой гипотезы, получить такое же значение наблюдаемой статистики или еще более экстремально. У нас `pvalue = 0.0` => гипотеза отвергается"
   ]
  },
  {
   "cell_type": "markdown",
   "id": "e1c4f814-3dda-4180-b6bf-5ea4363e230c",
   "metadata": {},
   "source": [
    "**Тогда посмотрим на графики и убедимся в этом**"
   ]
  },
  {
   "cell_type": "code",
   "execution_count": 67,
   "id": "d9827152-4bf1-4ca2-a455-6b5c50a78d89",
   "metadata": {},
   "outputs": [
    {
     "name": "stderr",
     "output_type": "stream",
     "text": [
      "No artists with labels found to put in legend.  Note that artists whose label start with an underscore are ignored when legend() is called with no argument.\n",
      "No artists with labels found to put in legend.  Note that artists whose label start with an underscore are ignored when legend() is called with no argument.\n"
     ]
    },
    {
     "data": {
      "image/png": "[encoded data removed]",
      "text/plain": [
       "<Figure size 1000x400 with 2 Axes>"
      ]
     },
     "metadata": {},
     "output_type": "display_data"
    }
   ],
   "source": [
    "fig, axes = plt.subplots(1, 2, figsize=(10,4), dpi=100)\n",
    "sns.histplot(\n",
    "    (msno_count_train),\n",
    "    ax=axes[0],\n",
    "    bins=100,\n",
    "    color = 'b' ,\n",
    "    kde=True);\n",
    "sns.histplot(\n",
    "    (msno_count_test),\n",
    "    ax=axes[1],\n",
    "    bins=600,\n",
    "    kde=True);\n",
    "\n",
    "fig.suptitle(\"Распределение длин историй в train и в test\")\n",
    "\n",
    "axes[0].legend(title=\"Медиана {:.3f} \\n Среднее {:.3f}\".format(\n",
    "              (np.median(msno_count_train)),\n",
    "              (msno_count_train.mean())),\n",
    "              loc=\"upper right\");\n",
    "axes[0].axvline(np.median(msno_count_train), color='g')\n",
    "axes[0].axvline(msno_count_train.mean(), color='black')\n",
    "axes[0].set_ylabel(\"средние длины историй\")\n",
    "axes[0].set_xlim(0, 10000);\n",
    "\n",
    "axes[1].legend(title=\"Медиана {:.3f} \\n Среднее {:.3f}\".format(\n",
    "              (np.median(msno_count_test)),\n",
    "              (msno_count_test.mean())),\n",
    "              loc=\"upper right\");\n",
    "axes[1].axvline((np.median(msno_count_test)), color='g')\n",
    "axes[1].axvline((msno_count_test.mean()), color='black')\n",
    "axes[1].set_ylabel(\"средние длины историй\")\n",
    "axes[1].set_xlim(0, 10000);"
   ]
  },
  {
   "cell_type": "markdown",
   "id": "5018ebf6-904d-45ed-90ea-607bb2b8dec4",
   "metadata": {},
   "source": [
    "Больше напоминает $\\chi^2_{n}$. Воспользуемся тестом Калмогорова."
   ]
  },
  {
   "cell_type": "markdown",
   "id": "b37fbfd2-1d4b-46c3-9132-07da7d192fbc",
   "metadata": {},
   "source": [
    "***Критерий согласия Колмогорова*** предназначен для проверки гипотезы о принадлежности выборки некоторому закону распределения, то есть проверки того, что эмпирическое распределение соответствует предполагаемой модели.  \n",
    "\n",
    "$$\n",
    "\\begin{aligned}\n",
    "H_0 : F(x) \\sim X_n^2 \\\\\n",
    "H_1 : F(x) \\nsim X_n^2\n",
    "\\end{aligned}\n",
    "$$"
   ]
  },
  {
   "cell_type": "code",
   "execution_count": 68,
   "id": "07ede4ab-e5d0-4f6b-af20-443798d932d4",
   "metadata": {},
   "outputs": [
    {
     "data": {
      "text/plain": [
       "KstestResult(statistic=0.8484568793197621, pvalue=0.0, statistic_location=496, statistic_sign=1)"
      ]
     },
     "execution_count": 68,
     "metadata": {},
     "output_type": "execute_result"
    }
   ],
   "source": [
    "stats.kstest(msno_count_train, 'chi2', args=(msno_count_train.mean(), msno_count_train.std(ddof=1)))"
   ]
  },
  {
   "cell_type": "markdown",
   "id": "1e200cfc-faff-4e31-b332-61b2c85bcd97",
   "metadata": {},
   "source": [
    "Но это не $\\chi^2_{n}$, *пускай* это будет *неизвестные распределение*, но посмотреть на то, как они вглядят хочется. Применим преобразование Бокса-Кокса.  \n",
    "$$\n",
    "\\begin{aligned}  \n",
    " y_i^{\\lambda} = \\begin{cases}\\frac{(y_i+\\alpha)^{\\lambda}-1}{\\lambda},&\\text{if } \\lambda_1 \\neq 0,\\\\ \\log{(y_i+\\alpha)},& \\text{if } \\lambda = 0.\\end{cases}\n",
    "\\end{aligned}\n",
    "$$"
   ]
  },
  {
   "cell_type": "code",
   "execution_count": 69,
   "id": "5884ae85-b78e-481a-9852-1143ec7e2492",
   "metadata": {},
   "outputs": [
    {
     "name": "stderr",
     "output_type": "stream",
     "text": [
      "No artists with labels found to put in legend.  Note that artists whose label start with an underscore are ignored when legend() is called with no argument.\n",
      "No artists with labels found to put in legend.  Note that artists whose label start with an underscore are ignored when legend() is called with no argument.\n"
     ]
    },
    {
     "data": {
      "text/plain": [
       "Text(0, 0.5, '$log(средней длины)$')"
      ]
     },
     "execution_count": 69,
     "metadata": {},
     "output_type": "execute_result"
    },
    {
     "data": {
      "image/png": "[encoded data removed]",
      "text/plain": [
       "<Figure size 900x400 with 2 Axes>"
      ]
     },
     "metadata": {},
     "output_type": "display_data"
    }
   ],
   "source": [
    "fig, axes = plt.subplots(1, 2, figsize=(9,4), dpi=100)\n",
    "sns.histplot(\n",
    "    np.log(msno_count_train),\n",
    "    ax=axes[0],\n",
    "    bins=100,\n",
    "    color = 'b' ,\n",
    "    kde=True);\n",
    "sns.histplot(\n",
    "    np.log(msno_count_test),\n",
    "    ax=axes[1],\n",
    "    bins=100,\n",
    "    kde=True);\n",
    "\n",
    "fig.suptitle(\"Распределение длин историй в train и в test\")\n",
    "\n",
    "axes[0].legend(title=\"Медиана {:.3f} \\n Среднее {:.3f}\".format(\n",
    "              np.log(np.median(msno_count_train)),\n",
    "              np.log(msno_count_train.mean())),\n",
    "              loc=\"upper right\")\n",
    "axes[0].axvline(np.log(np.median(msno_count_train)), color='g')\n",
    "axes[0].axvline(np.log(msno_count_train.mean()), color='black')\n",
    "axes[0].set_ylabel(\"$log(средней длины)$\")\n",
    "\n",
    "axes[1].legend(title=\"Медиана {:.3f} \\n Среднее {:.3f}\".format(\n",
    "              np.log(np.median(msno_count_test)),\n",
    "              np.log(msno_count_test.mean())),\n",
    "              loc=\"upper right\")\n",
    "axes[1].axvline(np.log(np.median(msno_count_test)), color='g')\n",
    "axes[1].axvline(np.log(msno_count_test.mean()), color='black')\n",
    "axes[1].set_ylabel(\"$log(средней длины)$\")"
   ]
  },
  {
   "cell_type": "markdown",
   "id": "625b096d-e4a6-4c5d-95da-aec20e8f4186",
   "metadata": {},
   "source": [
    "Графики выглядят похожими."
   ]
  },
  {
   "cell_type": "markdown",
   "id": "26d10c80-8fb4-4c5a-b182-f9410f6936e8",
   "metadata": {},
   "source": [
    "**Продолжим визуализацию данных из других файлов**"
   ]
  },
  {
   "cell_type": "code",
   "execution_count": 198,
   "id": "2d0780e0-9e7d-4e4c-847d-c0bfd0719507",
   "metadata": {},
   "outputs": [],
   "source": [
    "df_songs = pd.read_csv('songs.csv')\n",
    "df_members = pd.read_csv('members.csv')\n",
    "df_songs_extra = pd.read_csv('song_extra_info.csv')"
   ]
  },
  {
   "cell_type": "markdown",
   "id": "07448c82-f6af-45d0-9e62-15eaaa86fddc",
   "metadata": {},
   "source": [
    "**Посмотрим информацию о песнях**\n",
    "\n",
    "isrc - International Standard Recording Code"
   ]
  },
  {
   "cell_type": "code",
   "execution_count": 4,
   "id": "3c1b4808-1020-4bab-b9ec-c86a42812d79",
   "metadata": {},
   "outputs": [
    {
     "name": "stdout",
     "output_type": "stream",
     "text": [
      "                                              song_id  song_length genre_ids  \\\n",
      "0        CXoTN1eb7AI+DntdU1vbcwGRV4SCIDxZu+YD8JP8r4E=       247640       465   \n",
      "1        o0kFgae9QtnYgRkVPqLJwa05zIhRlUjfF7O1tDw0ZDU=       197328       444   \n",
      "2        DwVvVurfpuz+XPuFvucclVQEyPqcpUkHR0ne1RQzPs0=       231781       465   \n",
      "3        dKMBWoZyScdxSkihKG+Vf47nc18N9q4m58+b4e7dSSE=       273554       465   \n",
      "4        W3bqWd3T+VeHFzHAUfARgW9AvVRaF4N5Yzm4Mr6Eo/o=       140329       726   \n",
      "...                                               ...          ...       ...   \n",
      "2296315  lg6rn7eV/ZNg0+P+x77kHUL7GDMfoL4eMtXxncseLNA=        20192       958   \n",
      "2296316  nXi1lrSJe+gLoTTNky7If0mNPrIyCQCLwagwR6XopGU=       273391       465   \n",
      "2296317  9KxSvIjbJyJzfEVWnkMbgR6dyn6d54ot0N5FKyKqii8=       445172      1609   \n",
      "2296318  UO8Y2MR2sjOn2q/Tp8/lzZTGKmLEvwZ20oWanG4XnYc=       172669       465   \n",
      "2296319  V/9qPSUOGT0FeIGBhDIZRRz5Y5yyjdXC2Z/+bJExo5s=       270466       829   \n",
      "\n",
      "               artist_name                            composer     lyricist  \\\n",
      "0         張信哲 (Jeff Chang)                                  董貞          何啟弘   \n",
      "1                BLACKPINK  TEDDY|  FUTURE BOUNCE|  Bekuh BOOM        TEDDY   \n",
      "2             SUPER JUNIOR                                 NaN          NaN   \n",
      "3                    S.H.E                                 湯小康          徐世珍   \n",
      "4                     貴族精選                         Traditional  Traditional   \n",
      "...                    ...                                 ...          ...   \n",
      "2296315  Catherine Collard         Robert Schumann (1810-1856)          NaN   \n",
      "2296316  紀文惠 (Justine Chi)                                 NaN          NaN   \n",
      "2296317    Various Artists                                 NaN          NaN   \n",
      "2296318  Peter Paul & Mary                                 NaN          NaN   \n",
      "2296319      Kim Robertson                                 NaN          NaN   \n",
      "\n",
      "         language  \n",
      "0             3.0  \n",
      "1            31.0  \n",
      "2            31.0  \n",
      "3             3.0  \n",
      "4            52.0  \n",
      "...           ...  \n",
      "2296315      -1.0  \n",
      "2296316       3.0  \n",
      "2296317      52.0  \n",
      "2296318      52.0  \n",
      "2296319      52.0  \n",
      "\n",
      "[2296320 rows x 7 columns]\n"
     ]
    }
   ],
   "source": [
    "print(df_songs)"
   ]
  },
  {
   "cell_type": "code",
   "execution_count": 9,
   "id": "157d7ef1-f8ff-401b-beb0-86831bfc9e72",
   "metadata": {},
   "outputs": [
    {
     "name": "stdout",
     "output_type": "stream",
     "text": [
      "                                              song_id  \\\n",
      "0        LP7pLJoJFBvyuUwvu+oLzjT+bI+UeBPURCecJsX1jjs=   \n",
      "1        ClazTFnk6r0Bnuie44bocdNMM3rdlrq0bCGAsGUWcHE=   \n",
      "2        u2ja/bZE3zhCGxvbbOB3zOoUjx27u40cf5g09UXMoKQ=   \n",
      "3        92Fqsy0+p6+RHe2EoLKjHahORHR1Kq1TBJoClW9v+Ts=   \n",
      "4        0QFmz/+rJy1Q56C1DuYqT9hKKqi5TUqx0sN0IwvoHrw=   \n",
      "...                                               ...   \n",
      "2295966  hLnetpF6UbPg28sSfXnPE2vsdaGsLvddlXEdJR4VTIA=   \n",
      "2295967  N+6vJ8actKQm0S3Fpf4elipTjoAo9ev28aA5FJN5e40=   \n",
      "2295968  pv35uG0ts05mWtirM/AMOWEzbHxIVart5ZzRXqKUY1c=   \n",
      "2295969  QSySnm8jt2Go7byY34/PxsZP6dPCins2j2cyYquNhBo=   \n",
      "2295970  DYKJKSgDOKxb19XzOVO81176qTH0OIHCsfzFRm/BG+g=   \n",
      "\n",
      "                              name          isrc  \n",
      "0                               我們  TWUM71200043  \n",
      "1                  Let Me Love You  QMZSY1600015  \n",
      "2                              原諒我  TWA530887303  \n",
      "3                          Classic  USSM11301446  \n",
      "4                             愛投羅網  TWA471306001  \n",
      "...                            ...           ...  \n",
      "2295966             Deep Breathing  PLL431720793  \n",
      "2295967                  In Hiding  US5UL1519827  \n",
      "2295968  Il Est Ne Le Divin Enfant  PLL431502294  \n",
      "2295969            The Exodus Song  DEPZ69316095  \n",
      "2295970                  Like This  US5UL1512426  \n",
      "\n",
      "[2295971 rows x 3 columns]\n"
     ]
    }
   ],
   "source": [
    "print(df_songs_extra)"
   ]
  },
  {
   "cell_type": "markdown",
   "id": "6fd7f273-8168-4d5c-a78d-1196be1ed738",
   "metadata": {},
   "source": [
    "**Посмотрим информацию о пользователях**\n",
    "\n",
    "bd - информация о возрасте"
   ]
  },
  {
   "cell_type": "code",
   "execution_count": 5,
   "id": "0780b477-479d-4acc-8d78-342429488fc0",
   "metadata": {},
   "outputs": [
    {
     "name": "stdout",
     "output_type": "stream",
     "text": [
      "                                               msno  city  bd gender  \\\n",
      "0      XQxgAYj3klVKjR3oxPPXYYFp4soD4TuBghkhMTD4oTw=     1   0    NaN   \n",
      "1      UizsfmJb9mV54qE9hCYyU07Va97c0lCRLEQX3ae+ztM=     1   0    NaN   \n",
      "2      D8nEhsIOBSoE6VthTaqDX8U6lqjJ7dLdr72mOyLya2A=     1   0    NaN   \n",
      "3      mCuD+tZ1hERA/o5GPqk38e041J8ZsBaLcu7nGoIIvhI=     1   0    NaN   \n",
      "4      q4HRBfVSssAFS9iRfxWrohxuk9kCYMKjHOEagUMV6rQ=     1   0    NaN   \n",
      "...                                             ...   ...  ..    ...   \n",
      "34398  Wwd/cudKVuLJ3txRVxlg2Zaeliu+LRUfiBmfrnxhRCY=     1   0    NaN   \n",
      "34399  g3JGnJX6Hg50lFbrNWfsHwCUmApIkiv2M8sXOaeXoIQ=     4  18   male   \n",
      "34400  IMaPMJuyN+ip9Vqi+z2XuXbFAP2kbHr+EvvCNkFfj+o=     1   0    NaN   \n",
      "34401  WAnCAJjUty9Stv8yKtV7ZC7PN+ilOy5FX3aIJgGPANM=     1   0    NaN   \n",
      "34402  xH8KpzKGeNNq6dOvy51c/8VzqOiGG+m6vabhsPSDHX4=     1   0    NaN   \n",
      "\n",
      "       registered_via  registration_init_time  expiration_date  \n",
      "0                   7                20110820         20170920  \n",
      "1                   7                20150628         20170622  \n",
      "2                   4                20160411         20170712  \n",
      "3                   9                20150906         20150907  \n",
      "4                   4                20170126         20170613  \n",
      "...               ...                     ...              ...  \n",
      "34398               7                20131111         20170910  \n",
      "34399               3                20141024         20170518  \n",
      "34400               7                20130802         20170908  \n",
      "34401               7                20151020         20170920  \n",
      "34402               4                20160815         20160818  \n",
      "\n",
      "[34403 rows x 7 columns]\n"
     ]
    }
   ],
   "source": [
    "print(df_members)"
   ]
  },
  {
   "cell_type": "markdown",
   "id": "633ef139-f585-4f8e-ad32-4da828e94542",
   "metadata": {},
   "source": [
    "**Посмотрим на возраст пользователей**"
   ]
  },
  {
   "cell_type": "code",
   "execution_count": 39,
   "id": "32cfe45e-357c-4d6e-8719-d6a33a8e0c07",
   "metadata": {},
   "outputs": [
    {
     "data": {
      "image/png": "[encoded data removed]",
      "text/plain": [
       "<Figure size 800x600 with 1 Axes>"
      ]
     },
     "metadata": {},
     "output_type": "display_data"
    }
   ],
   "source": [
    "plt.figure(figsize = (8,6)) \n",
    "sns.countplot(x ='bd', data = df_members) \n",
    "plt.xticks(rotation ='90')\n",
    "plt.title('Count plot for bd(age) for members.csv',fontsize = 15)\n",
    "plt.show() "
   ]
  },
  {
   "cell_type": "code",
   "execution_count": 12,
   "id": "6efbe2c3-19b7-4e02-827b-b596c9502a23",
   "metadata": {},
   "outputs": [
    {
     "data": {
      "text/plain": [
       "count    34403.000000\n",
       "mean        12.280935\n",
       "std         18.170251\n",
       "min        -43.000000\n",
       "25%          0.000000\n",
       "50%          0.000000\n",
       "75%         25.000000\n",
       "max       1051.000000\n",
       "Name: bd, dtype: float64"
      ]
     },
     "execution_count": 12,
     "metadata": {},
     "output_type": "execute_result"
    }
   ],
   "source": [
    "df_members[\"bd\"].describe()"
   ]
  },
  {
   "cell_type": "markdown",
   "id": "dc1862ae-5622-4c33-ba67-bc2cae93ddb0",
   "metadata": {},
   "source": [
    "Можем заметить, что в графе возраста присутствует некорректная информация с отрицательным возрастом"
   ]
  },
  {
   "cell_type": "code",
   "execution_count": 199,
   "id": "54dff955-8a3d-4cd5-ac3a-94ce1bc24e33",
   "metadata": {},
   "outputs": [
    {
     "name": "stdout",
     "output_type": "stream",
     "text": [
      "40.74 % пользователей между 10 и 50\n"
     ]
    }
   ],
   "source": [
    "count = 0\n",
    "for i in df_members[\"bd\"]:\n",
    "    if i <= 50 and i >= 10:\n",
    "        count += 1\n",
    "percentage = (count / len(df_members[\"bd\"])) * 100\n",
    "percentage = (\"{:.2f}\".format(percentage))\n",
    "print(percentage,\"% пользователей между 10 и 50\")"
   ]
  },
  {
   "cell_type": "markdown",
   "id": "fa5c30ee-2047-4015-a987-ff191e0f3eae",
   "metadata": {},
   "source": [
    "**Посмотрим на соотношение мужчин и женщин среди пользователей**"
   ]
  },
  {
   "cell_type": "code",
   "execution_count": 21,
   "id": "fa10d4ba-1104-4537-93fd-0918383cfbb3",
   "metadata": {},
   "outputs": [
    {
     "data": {
      "image/png": "[encoded data removed]",
      "text/plain": [
       "<Figure size 500x500 with 1 Axes>"
      ]
     },
     "metadata": {},
     "output_type": "display_data"
    }
   ],
   "source": [
    "import matplotlib\n",
    "\n",
    "matplotlib.rcParams['font.size'] = 10.0\n",
    "labels = ['Male','Female']\n",
    "plt.figure(figsize = (5, 5))\n",
    "sizes = pd.value_counts(df_members.gender)\n",
    "patches, texts, autotexts = plt.pie(sizes, \n",
    "                                    labels=labels, autopct='%.0f%%',\n",
    "                                    shadow=False, radius=1,startangle=90)\n",
    "for t in texts:\n",
    "    t.set_size('smaller')\n",
    "plt.legend()\n",
    "plt.show()\n"
   ]
  },
  {
   "cell_type": "markdown",
   "id": "b8b552a6-911b-4a53-9c6f-c92c6bf1ecd9",
   "metadata": {},
   "source": [
    "**Посмотрим на распределение пользователей по различным городам**"
   ]
  },
  {
   "cell_type": "code",
   "execution_count": 200,
   "id": "e7ec0e39-9448-4451-8d84-3112f2464180",
   "metadata": {},
   "outputs": [
    {
     "data": {
      "image/png": "[encoded data removed]",
      "text/plain": [
       "<Figure size 800x600 with 1 Axes>"
      ]
     },
     "metadata": {},
     "output_type": "display_data"
    }
   ],
   "source": [
    "plt.figure(figsize=(8, 6))\n",
    "sns.countplot(x ='city', data = df_members) \n",
    "plt.xticks(rotation='90')\n",
    "plt.title('Распределение пользователей по городам',fontsize=15)\n",
    "plt.show() "
   ]
  },
  {
   "cell_type": "markdown",
   "id": "27d17225-93b3-4b65-bb51-9c53da16ff3f",
   "metadata": {},
   "source": [
    "**Построим график для столбца, описывающего метод регистрации**"
   ]
  },
  {
   "cell_type": "code",
   "execution_count": 201,
   "id": "38f4e3c2-2716-4fb0-9811-d3e6b1f01335",
   "metadata": {},
   "outputs": [
    {
     "data": {
      "image/png": "[encoded data removed]",
      "text/plain": [
       "<Figure size 800x600 with 1 Axes>"
      ]
     },
     "metadata": {},
     "output_type": "display_data"
    }
   ],
   "source": [
    "plt.figure(figsize = (8, 6))\n",
    "sns.countplot(x = 'registered_via', data = df_members) \n",
    "plt.title('Распределение по методу регистрации пользователей',fontsize = 15)\n",
    "plt.show() "
   ]
  },
  {
   "cell_type": "code",
   "execution_count": 42,
   "id": "04c094c1-b0bd-4d1b-9b10-53bb013a75e0",
   "metadata": {},
   "outputs": [
    {
     "data": {
      "text/plain": [
       "msno                              object\n",
       "city                               int64\n",
       "bd                                 int64\n",
       "gender                            object\n",
       "registered_via                     int64\n",
       "registration_init_time    datetime64[ns]\n",
       "expiration_date           datetime64[ns]\n",
       "dtype: object"
      ]
     },
     "execution_count": 42,
     "metadata": {},
     "output_type": "execute_result"
    }
   ],
   "source": [
    "df_members[\"expiration_date\"]= pd.to_datetime(df_members[\"expiration_date\"],format='%Y%m%d') \n",
    "df_members[\"registration_init_time\"]= pd.to_datetime(df_members[\"registration_init_time\"],format='%Y%m%d') \n",
    "df_members.dtypes"
   ]
  },
  {
   "cell_type": "code",
   "execution_count": 43,
   "id": "405bdec5-629e-4fe6-be41-d9db074efeb4",
   "metadata": {},
   "outputs": [
    {
     "data": {
      "text/plain": [
       "0   2017-09-20\n",
       "1   2017-06-22\n",
       "2   2017-07-12\n",
       "3   2015-09-07\n",
       "4   2017-06-13\n",
       "Name: expiration_date, dtype: datetime64[ns]"
      ]
     },
     "execution_count": 43,
     "metadata": {},
     "output_type": "execute_result"
    }
   ],
   "source": [
    "df_members[\"registration_init_time\"].head()\n",
    "df_members[\"expiration_date\"].head()"
   ]
  },
  {
   "cell_type": "code",
   "execution_count": 205,
   "id": "b2a073da-91a5-4428-92a4-7ba702113d39",
   "metadata": {},
   "outputs": [
    {
     "data": {
      "image/png": "[encoded data removed]",
      "text/plain": [
       "<Figure size 800x600 with 1 Axes>"
      ]
     },
     "metadata": {},
     "output_type": "display_data"
    }
   ],
   "source": [
    "plt.figure(figsize = (8,6))\n",
    "plt.hist(df_members[\"registration_init_time\"], bins = 30)\n",
    "plt.xticks(rotation = '90')\n",
    "plt.title('Гистограмма дат регистрации', fontsize = 15)\n",
    "plt.show()"
   ]
  },
  {
   "cell_type": "markdown",
   "id": "f1987b18-1378-4a22-add0-d3672019a392",
   "metadata": {},
   "source": [
    "**Преобразуем продолжительность песен из секунд в минуты и построим график длины песен**"
   ]
  },
  {
   "cell_type": "code",
   "execution_count": 52,
   "id": "b7247d19-2956-4383-b4df-b76839fb5021",
   "metadata": {},
   "outputs": [
    {
     "name": "stderr",
     "output_type": "stream",
     "text": [
      "100%|█████████████████████| 2296320/2296320 [00:01<00:00, 1495763.37it/s]\n"
     ]
    }
   ],
   "source": [
    "from tqdm import tqdm\n",
    "lst=[]\n",
    "for i in tqdm(df_songs[\"song_length\"]):\n",
    "    minutes = ((i/(1000*60))%60)\n",
    "    minutes = round(minutes)\n",
    "    lst.append(minutes)"
   ]
  },
  {
   "cell_type": "code",
   "execution_count": 54,
   "id": "1368953f-5ce1-4738-95ac-f781f7086bd9",
   "metadata": {},
   "outputs": [],
   "source": [
    "df_songs[\"song_duration_minutes\"]=lst"
   ]
  },
  {
   "cell_type": "code",
   "execution_count": 55,
   "id": "849d206e-6a37-48ef-aa07-64d40721eab3",
   "metadata": {},
   "outputs": [
    {
     "data": {
      "text/html": [
       "<div>\n",
       "<style scoped>\n",
       "    .dataframe tbody tr th:only-of-type {\n",
       "        vertical-align: middle;\n",
       "    }\n",
       "\n",
       "    .dataframe tbody tr th {\n",
       "        vertical-align: top;\n",
       "    }\n",
       "\n",
       "    .dataframe thead th {\n",
       "        text-align: right;\n",
       "    }\n",
       "</style>\n",
       "<table border=\"1\" class=\"dataframe\">\n",
       "  <thead>\n",
       "    <tr style=\"text-align: right;\">\n",
       "      <th></th>\n",
       "      <th>song_id</th>\n",
       "      <th>song_length</th>\n",
       "      <th>genre_ids</th>\n",
       "      <th>artist_name</th>\n",
       "      <th>composer</th>\n",
       "      <th>lyricist</th>\n",
       "      <th>language</th>\n",
       "      <th>song_duration_minutes</th>\n",
       "    </tr>\n",
       "  </thead>\n",
       "  <tbody>\n",
       "    <tr>\n",
       "      <th>0</th>\n",
       "      <td>CXoTN1eb7AI+DntdU1vbcwGRV4SCIDxZu+YD8JP8r4E=</td>\n",
       "      <td>247640</td>\n",
       "      <td>465</td>\n",
       "      <td>張信哲 (Jeff Chang)</td>\n",
       "      <td>董貞</td>\n",
       "      <td>何啟弘</td>\n",
       "      <td>3.0</td>\n",
       "      <td>4</td>\n",
       "    </tr>\n",
       "    <tr>\n",
       "      <th>1</th>\n",
       "      <td>o0kFgae9QtnYgRkVPqLJwa05zIhRlUjfF7O1tDw0ZDU=</td>\n",
       "      <td>197328</td>\n",
       "      <td>444</td>\n",
       "      <td>BLACKPINK</td>\n",
       "      <td>TEDDY|  FUTURE BOUNCE|  Bekuh BOOM</td>\n",
       "      <td>TEDDY</td>\n",
       "      <td>31.0</td>\n",
       "      <td>3</td>\n",
       "    </tr>\n",
       "    <tr>\n",
       "      <th>2</th>\n",
       "      <td>DwVvVurfpuz+XPuFvucclVQEyPqcpUkHR0ne1RQzPs0=</td>\n",
       "      <td>231781</td>\n",
       "      <td>465</td>\n",
       "      <td>SUPER JUNIOR</td>\n",
       "      <td>NaN</td>\n",
       "      <td>NaN</td>\n",
       "      <td>31.0</td>\n",
       "      <td>4</td>\n",
       "    </tr>\n",
       "    <tr>\n",
       "      <th>3</th>\n",
       "      <td>dKMBWoZyScdxSkihKG+Vf47nc18N9q4m58+b4e7dSSE=</td>\n",
       "      <td>273554</td>\n",
       "      <td>465</td>\n",
       "      <td>S.H.E</td>\n",
       "      <td>湯小康</td>\n",
       "      <td>徐世珍</td>\n",
       "      <td>3.0</td>\n",
       "      <td>5</td>\n",
       "    </tr>\n",
       "    <tr>\n",
       "      <th>4</th>\n",
       "      <td>W3bqWd3T+VeHFzHAUfARgW9AvVRaF4N5Yzm4Mr6Eo/o=</td>\n",
       "      <td>140329</td>\n",
       "      <td>726</td>\n",
       "      <td>貴族精選</td>\n",
       "      <td>Traditional</td>\n",
       "      <td>Traditional</td>\n",
       "      <td>52.0</td>\n",
       "      <td>2</td>\n",
       "    </tr>\n",
       "  </tbody>\n",
       "</table>\n",
       "</div>"
      ],
      "text/plain": [
       "                                        song_id  song_length genre_ids  \\\n",
       "0  CXoTN1eb7AI+DntdU1vbcwGRV4SCIDxZu+YD8JP8r4E=       247640       465   \n",
       "1  o0kFgae9QtnYgRkVPqLJwa05zIhRlUjfF7O1tDw0ZDU=       197328       444   \n",
       "2  DwVvVurfpuz+XPuFvucclVQEyPqcpUkHR0ne1RQzPs0=       231781       465   \n",
       "3  dKMBWoZyScdxSkihKG+Vf47nc18N9q4m58+b4e7dSSE=       273554       465   \n",
       "4  W3bqWd3T+VeHFzHAUfARgW9AvVRaF4N5Yzm4Mr6Eo/o=       140329       726   \n",
       "\n",
       "        artist_name                            composer     lyricist  \\\n",
       "0  張信哲 (Jeff Chang)                                  董貞          何啟弘   \n",
       "1         BLACKPINK  TEDDY|  FUTURE BOUNCE|  Bekuh BOOM        TEDDY   \n",
       "2      SUPER JUNIOR                                 NaN          NaN   \n",
       "3             S.H.E                                 湯小康          徐世珍   \n",
       "4              貴族精選                         Traditional  Traditional   \n",
       "\n",
       "   language  song_duration_minutes  \n",
       "0       3.0                      4  \n",
       "1      31.0                      3  \n",
       "2      31.0                      4  \n",
       "3       3.0                      5  \n",
       "4      52.0                      2  "
      ]
     },
     "execution_count": 55,
     "metadata": {},
     "output_type": "execute_result"
    }
   ],
   "source": [
    "df_songs.head()"
   ]
  },
  {
   "cell_type": "code",
   "execution_count": 61,
   "id": "8adeb32b-a39e-4477-8e8a-2a049524c116",
   "metadata": {},
   "outputs": [
    {
     "data": {
      "text/plain": [
       "Text(0.5, 1.0, 'PDF for song_duration_minutes')"
      ]
     },
     "execution_count": 61,
     "metadata": {},
     "output_type": "execute_result"
    },
    {
     "data": {
      "image/png": "[encoded data removed]",
      "text/plain": [
       "<Figure size 800x800 with 1 Axes>"
      ]
     },
     "metadata": {},
     "output_type": "display_data"
    }
   ],
   "source": [
    "plt.figure(figsize = (8, 8)) \n",
    "sns.distplot(df_songs.song_duration_minutes)\n",
    "sns.set(font_scale=2)\n",
    "plt.title('PDF for song_duration_minutes', fontsize = 20)"
   ]
  },
  {
   "cell_type": "markdown",
   "id": "b10af15e-878a-4528-b140-5bf0afd6b301",
   "metadata": {},
   "source": [
    "**Проанализируем процент значений NaN в файлах с информацией о песнях**\n",
    "\n",
    "Для этого соединим датафреймы df_song и df_song_extra_info"
   ]
  },
  {
   "cell_type": "code",
   "execution_count": 64,
   "id": "10396b4c-e90e-4341-8a30-3dd8b3143427",
   "metadata": {},
   "outputs": [],
   "source": [
    "df_song_info = df_songs_extra.merge(df_songs, on='song_id', how='left')\n"
   ]
  },
  {
   "cell_type": "code",
   "execution_count": 67,
   "id": "d35e8944-ad45-4f06-9a66-5f03014a4a5b",
   "metadata": {},
   "outputs": [
    {
     "name": "stdout",
     "output_type": "stream",
     "text": [
      "Total percentage for NaN value in song_id column        :  0.0 %\n",
      "Total percentage for NaN value in name column           :  8.710911418306241e-05 %\n",
      "Total percentage for NaN value in isrc column           :  5.9472876617344035 %\n",
      "Total percentage for NaN value in song_length column    :  0.023911451843250633 %\n",
      "Total percentage for NaN value in genre_ids column      :  4.121219301114866 %\n"
     ]
    }
   ],
   "source": [
    "print(\"Total percentage for NaN value in song_id column        : \",(df_song_info[\"song_id\"].isna().sum()/len(df_song_info[\"song_id\"]))*100,\"%\")\n",
    "print(\"Total percentage for NaN value in name column           : \",(df_song_info[\"name\"].isna().sum()/len(df_song_info[\"name\"]))*100,\"%\")\n",
    "print(\"Total percentage for NaN value in isrc column           : \",(df_song_info[\"isrc\"].isna().sum()/len(df_song_info[\"isrc\"]))*100,\"%\")\n",
    "print(\"Total percentage for NaN value in song_length column    : \",(df_song_info[\"song_length\"].isna().sum()/len(df_song_info[\"song_length\"]))*100,\"%\")\n",
    "print(\"Total percentage for NaN value in genre_ids column      : \",(df_song_info[\"genre_ids\"].isna().sum()/len(df_song_info[\"genre_ids\"]))*100,\"%\")"
   ]
  },
  {
   "cell_type": "code",
   "execution_count": 68,
   "id": "ad80e690-d462-4772-b665-ba7f7ea68b1a",
   "metadata": {},
   "outputs": [
    {
     "name": "stdout",
     "output_type": "stream",
     "text": [
      "Total percentage for NaN value in artist_name column    :  0.023911451843250633 %\n",
      "Total percentage for NaN value in composer column       :  46.6681417143335 %\n",
      "Total percentage for NaN value in lyricist column       :  84.71674947113878 %\n",
      "Total percentage for NaN value in language column       :  0.023955006400342163 %\n"
     ]
    }
   ],
   "source": [
    "print(\"Total percentage for NaN value in artist_name column    : \",(df_song_info[\"artist_name\"].isna().sum()/len(df_song_info[\"artist_name\"]))*100,\"%\")\n",
    "print(\"Total percentage for NaN value in composer column       : \",(df_song_info[\"composer\"].isna().sum()/len(df_song_info[\"composer\"]))*100,\"%\")\n",
    "print(\"Total percentage for NaN value in lyricist column       : \",(df_song_info[\"lyricist\"].isna().sum()/len(df_song_info[\"lyricist\"]))*100,\"%\")\n",
    "print(\"Total percentage for NaN value in language column       : \",(df_song_info[\"language\"].isna().sum()/len(df_song_info[\"language\"]))*100,\"%\")"
   ]
  },
  {
   "cell_type": "markdown",
   "id": "83512d72-cf74-4215-ba17-180fee3d868c",
   "metadata": {},
   "source": [
    "### __2. Обучение модели и предсказание__ "
   ]
  },
  {
   "cell_type": "markdown",
   "id": "96a04972-294b-41e7-a8e0-f79e6be1ff46",
   "metadata": {},
   "source": [
    "**Разделим train.csv на тренировочный и тестовый датасет, чтобы было, на чем высчитывать нашу метрику**"
   ]
  },
  {
   "cell_type": "code",
   "execution_count": 29,
   "id": "551d2bfa-bb55-4161-aeca-a02dbaf5aa88",
   "metadata": {},
   "outputs": [],
   "source": [
    "df = pd.read_csv('train.csv')"
   ]
  },
  {
   "cell_type": "code",
   "execution_count": 30,
   "id": "5c5ad6b3-2e09-4b88-9343-ad6f5e30be93",
   "metadata": {},
   "outputs": [],
   "source": [
    "train_size = len(df) - round(len(df) * 0.2)\n",
    "train_part = df.iloc[:train_size]\n",
    "test_part = df.iloc[train_size:]\n",
    "train_part.to_csv('train_for_task.csv')\n",
    "test_part.to_csv('test_for_task.csv')"
   ]
  },
  {
   "cell_type": "code",
   "execution_count": 31,
   "id": "289c96c0-48d2-448a-843d-eaee2fed89a1",
   "metadata": {},
   "outputs": [
    {
     "data": {
      "text/html": [
       "<div>\n",
       "<style scoped>\n",
       "    .dataframe tbody tr th:only-of-type {\n",
       "        vertical-align: middle;\n",
       "    }\n",
       "\n",
       "    .dataframe tbody tr th {\n",
       "        vertical-align: top;\n",
       "    }\n",
       "\n",
       "    .dataframe thead th {\n",
       "        text-align: right;\n",
       "    }\n",
       "</style>\n",
       "<table border=\"1\" class=\"dataframe\">\n",
       "  <thead>\n",
       "    <tr style=\"text-align: right;\">\n",
       "      <th></th>\n",
       "      <th>msno</th>\n",
       "      <th>song_id</th>\n",
       "      <th>source_system_tab</th>\n",
       "      <th>source_screen_name</th>\n",
       "      <th>source_type</th>\n",
       "      <th>target</th>\n",
       "    </tr>\n",
       "  </thead>\n",
       "  <tbody>\n",
       "    <tr>\n",
       "      <th>0</th>\n",
       "      <td>FGtllVqz18RPiwJj/edr2gV78zirAiY/9SmYvia+kCg=</td>\n",
       "      <td>BBzumQNXUHKdEBOB7mAJuzok+IJA1c2Ryg/yzTF6tik=</td>\n",
       "      <td>explore</td>\n",
       "      <td>Explore</td>\n",
       "      <td>online-playlist</td>\n",
       "      <td>1</td>\n",
       "    </tr>\n",
       "    <tr>\n",
       "      <th>1</th>\n",
       "      <td>Xumu+NIjS6QYVxDS4/t3SawvJ7viT9hPKXmf0RtLNx8=</td>\n",
       "      <td>bhp/MpSNoqoxOIB+/l8WPqu6jldth4DIpCm3ayXnJqM=</td>\n",
       "      <td>my library</td>\n",
       "      <td>Local playlist more</td>\n",
       "      <td>local-playlist</td>\n",
       "      <td>1</td>\n",
       "    </tr>\n",
       "    <tr>\n",
       "      <th>2</th>\n",
       "      <td>Xumu+NIjS6QYVxDS4/t3SawvJ7viT9hPKXmf0RtLNx8=</td>\n",
       "      <td>JNWfrrC7zNN7BdMpsISKa4Mw+xVJYNnxXh3/Epw7QgY=</td>\n",
       "      <td>my library</td>\n",
       "      <td>Local playlist more</td>\n",
       "      <td>local-playlist</td>\n",
       "      <td>1</td>\n",
       "    </tr>\n",
       "    <tr>\n",
       "      <th>3</th>\n",
       "      <td>Xumu+NIjS6QYVxDS4/t3SawvJ7viT9hPKXmf0RtLNx8=</td>\n",
       "      <td>2A87tzfnJTSWqD7gIZHisolhe4DMdzkbd6LzO1KHjNs=</td>\n",
       "      <td>my library</td>\n",
       "      <td>Local playlist more</td>\n",
       "      <td>local-playlist</td>\n",
       "      <td>1</td>\n",
       "    </tr>\n",
       "    <tr>\n",
       "      <th>4</th>\n",
       "      <td>FGtllVqz18RPiwJj/edr2gV78zirAiY/9SmYvia+kCg=</td>\n",
       "      <td>3qm6XTZ6MOCU11x8FIVbAGH5l5uMkT3/ZalWG1oo2Gc=</td>\n",
       "      <td>explore</td>\n",
       "      <td>Explore</td>\n",
       "      <td>online-playlist</td>\n",
       "      <td>1</td>\n",
       "    </tr>\n",
       "    <tr>\n",
       "      <th>...</th>\n",
       "      <td>...</td>\n",
       "      <td>...</td>\n",
       "      <td>...</td>\n",
       "      <td>...</td>\n",
       "      <td>...</td>\n",
       "      <td>...</td>\n",
       "    </tr>\n",
       "    <tr>\n",
       "      <th>5901929</th>\n",
       "      <td>+fzJ5Uou/rxl1pXlebOEBHFKC4LBwDfgnc2R7287CVs=</td>\n",
       "      <td>/r/F8SsC84+7/rg/BwlZnTlGzyCOX3Y8UdDkbY/0ZIA=</td>\n",
       "      <td>my library</td>\n",
       "      <td>Local playlist more</td>\n",
       "      <td>local-library</td>\n",
       "      <td>0</td>\n",
       "    </tr>\n",
       "    <tr>\n",
       "      <th>5901930</th>\n",
       "      <td>+fzJ5Uou/rxl1pXlebOEBHFKC4LBwDfgnc2R7287CVs=</td>\n",
       "      <td>vMmYn3V5T7jv+EVVUBRbiUdO/wNDjCCio3CgaXMJ/eU=</td>\n",
       "      <td>my library</td>\n",
       "      <td>Local playlist more</td>\n",
       "      <td>local-library</td>\n",
       "      <td>1</td>\n",
       "    </tr>\n",
       "    <tr>\n",
       "      <th>5901931</th>\n",
       "      <td>+fzJ5Uou/rxl1pXlebOEBHFKC4LBwDfgnc2R7287CVs=</td>\n",
       "      <td>b8Ec5KHbhiJc+Aeg4hgVx7mkdk5UlDZyW48Y1OfyqBU=</td>\n",
       "      <td>my library</td>\n",
       "      <td>Local playlist more</td>\n",
       "      <td>local-library</td>\n",
       "      <td>1</td>\n",
       "    </tr>\n",
       "    <tr>\n",
       "      <th>5901932</th>\n",
       "      <td>+fzJ5Uou/rxl1pXlebOEBHFKC4LBwDfgnc2R7287CVs=</td>\n",
       "      <td>fwaxN4NL0q27tHQq4VEPCKVTywMIGqImrgRvFLnrVJw=</td>\n",
       "      <td>my library</td>\n",
       "      <td>Local playlist more</td>\n",
       "      <td>local-library</td>\n",
       "      <td>1</td>\n",
       "    </tr>\n",
       "    <tr>\n",
       "      <th>5901933</th>\n",
       "      <td>+fzJ5Uou/rxl1pXlebOEBHFKC4LBwDfgnc2R7287CVs=</td>\n",
       "      <td>yqZjiUmLn/+h6g047I0LNxX3UoS60z3PJacJOFcxFMU=</td>\n",
       "      <td>my library</td>\n",
       "      <td>Local playlist more</td>\n",
       "      <td>local-library</td>\n",
       "      <td>0</td>\n",
       "    </tr>\n",
       "  </tbody>\n",
       "</table>\n",
       "<p>5901934 rows × 6 columns</p>\n",
       "</div>"
      ],
      "text/plain": [
       "                                                 msno  \\\n",
       "0        FGtllVqz18RPiwJj/edr2gV78zirAiY/9SmYvia+kCg=   \n",
       "1        Xumu+NIjS6QYVxDS4/t3SawvJ7viT9hPKXmf0RtLNx8=   \n",
       "2        Xumu+NIjS6QYVxDS4/t3SawvJ7viT9hPKXmf0RtLNx8=   \n",
       "3        Xumu+NIjS6QYVxDS4/t3SawvJ7viT9hPKXmf0RtLNx8=   \n",
       "4        FGtllVqz18RPiwJj/edr2gV78zirAiY/9SmYvia+kCg=   \n",
       "...                                               ...   \n",
       "5901929  +fzJ5Uou/rxl1pXlebOEBHFKC4LBwDfgnc2R7287CVs=   \n",
       "5901930  +fzJ5Uou/rxl1pXlebOEBHFKC4LBwDfgnc2R7287CVs=   \n",
       "5901931  +fzJ5Uou/rxl1pXlebOEBHFKC4LBwDfgnc2R7287CVs=   \n",
       "5901932  +fzJ5Uou/rxl1pXlebOEBHFKC4LBwDfgnc2R7287CVs=   \n",
       "5901933  +fzJ5Uou/rxl1pXlebOEBHFKC4LBwDfgnc2R7287CVs=   \n",
       "\n",
       "                                              song_id source_system_tab  \\\n",
       "0        BBzumQNXUHKdEBOB7mAJuzok+IJA1c2Ryg/yzTF6tik=           explore   \n",
       "1        bhp/MpSNoqoxOIB+/l8WPqu6jldth4DIpCm3ayXnJqM=        my library   \n",
       "2        JNWfrrC7zNN7BdMpsISKa4Mw+xVJYNnxXh3/Epw7QgY=        my library   \n",
       "3        2A87tzfnJTSWqD7gIZHisolhe4DMdzkbd6LzO1KHjNs=        my library   \n",
       "4        3qm6XTZ6MOCU11x8FIVbAGH5l5uMkT3/ZalWG1oo2Gc=           explore   \n",
       "...                                               ...               ...   \n",
       "5901929  /r/F8SsC84+7/rg/BwlZnTlGzyCOX3Y8UdDkbY/0ZIA=        my library   \n",
       "5901930  vMmYn3V5T7jv+EVVUBRbiUdO/wNDjCCio3CgaXMJ/eU=        my library   \n",
       "5901931  b8Ec5KHbhiJc+Aeg4hgVx7mkdk5UlDZyW48Y1OfyqBU=        my library   \n",
       "5901932  fwaxN4NL0q27tHQq4VEPCKVTywMIGqImrgRvFLnrVJw=        my library   \n",
       "5901933  yqZjiUmLn/+h6g047I0LNxX3UoS60z3PJacJOFcxFMU=        my library   \n",
       "\n",
       "          source_screen_name      source_type  target  \n",
       "0                    Explore  online-playlist       1  \n",
       "1        Local playlist more   local-playlist       1  \n",
       "2        Local playlist more   local-playlist       1  \n",
       "3        Local playlist more   local-playlist       1  \n",
       "4                    Explore  online-playlist       1  \n",
       "...                      ...              ...     ...  \n",
       "5901929  Local playlist more    local-library       0  \n",
       "5901930  Local playlist more    local-library       1  \n",
       "5901931  Local playlist more    local-library       1  \n",
       "5901932  Local playlist more    local-library       1  \n",
       "5901933  Local playlist more    local-library       0  \n",
       "\n",
       "[5901934 rows x 6 columns]"
      ]
     },
     "execution_count": 31,
     "metadata": {},
     "output_type": "execute_result"
    }
   ],
   "source": [
    "train_part"
   ]
  },
  {
   "cell_type": "code",
   "execution_count": 32,
   "id": "1d0175cf-143e-4b6c-8bf6-a6ab91232812",
   "metadata": {},
   "outputs": [
    {
     "data": {
      "text/html": [
       "<div>\n",
       "<style scoped>\n",
       "    .dataframe tbody tr th:only-of-type {\n",
       "        vertical-align: middle;\n",
       "    }\n",
       "\n",
       "    .dataframe tbody tr th {\n",
       "        vertical-align: top;\n",
       "    }\n",
       "\n",
       "    .dataframe thead th {\n",
       "        text-align: right;\n",
       "    }\n",
       "</style>\n",
       "<table border=\"1\" class=\"dataframe\">\n",
       "  <thead>\n",
       "    <tr style=\"text-align: right;\">\n",
       "      <th></th>\n",
       "      <th>msno</th>\n",
       "      <th>song_id</th>\n",
       "      <th>source_system_tab</th>\n",
       "      <th>source_screen_name</th>\n",
       "      <th>source_type</th>\n",
       "      <th>target</th>\n",
       "    </tr>\n",
       "  </thead>\n",
       "  <tbody>\n",
       "    <tr>\n",
       "      <th>5901934</th>\n",
       "      <td>+fzJ5Uou/rxl1pXlebOEBHFKC4LBwDfgnc2R7287CVs=</td>\n",
       "      <td>JTVy3aCLoTFkqPK4pkGBy0YTlH0zpkubCoKMh07WYfM=</td>\n",
       "      <td>my library</td>\n",
       "      <td>Local playlist more</td>\n",
       "      <td>local-library</td>\n",
       "      <td>1</td>\n",
       "    </tr>\n",
       "    <tr>\n",
       "      <th>5901935</th>\n",
       "      <td>+fzJ5Uou/rxl1pXlebOEBHFKC4LBwDfgnc2R7287CVs=</td>\n",
       "      <td>2TR1fCpa5/ac/xe+hdOe52nBZ6afSU49gsGQbhTQVzk=</td>\n",
       "      <td>my library</td>\n",
       "      <td>Local playlist more</td>\n",
       "      <td>local-library</td>\n",
       "      <td>0</td>\n",
       "    </tr>\n",
       "    <tr>\n",
       "      <th>5901936</th>\n",
       "      <td>+fzJ5Uou/rxl1pXlebOEBHFKC4LBwDfgnc2R7287CVs=</td>\n",
       "      <td>wev1Fi6KYkCSFAstQfhxJPZv7wkn8wGepys+KDmeBy4=</td>\n",
       "      <td>my library</td>\n",
       "      <td>Local playlist more</td>\n",
       "      <td>local-library</td>\n",
       "      <td>1</td>\n",
       "    </tr>\n",
       "    <tr>\n",
       "      <th>5901937</th>\n",
       "      <td>v04FgzXSdai5doJPrcwbrQTMbnETwLB5Li0t36X6kSQ=</td>\n",
       "      <td>NhQfOVnptpW5z5qsP/sN+hVS8TM2iYvdy/ZGVe7K+kM=</td>\n",
       "      <td>my library</td>\n",
       "      <td>Local playlist more</td>\n",
       "      <td>local-library</td>\n",
       "      <td>1</td>\n",
       "    </tr>\n",
       "    <tr>\n",
       "      <th>5901938</th>\n",
       "      <td>Rw5fS0aEzNBUaVMFQLpD2oW11xH2Jv107h49EUVXiTM=</td>\n",
       "      <td>OakhL7CLirelAGEP9sYyP6fmTa8HV1mD/qVdpM6o5uE=</td>\n",
       "      <td>discover</td>\n",
       "      <td>Online playlist more</td>\n",
       "      <td>online-playlist</td>\n",
       "      <td>1</td>\n",
       "    </tr>\n",
       "    <tr>\n",
       "      <th>...</th>\n",
       "      <td>...</td>\n",
       "      <td>...</td>\n",
       "      <td>...</td>\n",
       "      <td>...</td>\n",
       "      <td>...</td>\n",
       "      <td>...</td>\n",
       "    </tr>\n",
       "    <tr>\n",
       "      <th>7377413</th>\n",
       "      <td>6xdFzPlrasIDD95mQWXVC3Bg4ptnGYtBl4ztVEZMddU=</td>\n",
       "      <td>VJTxizih/o28kXCbtPbIyWXScoXGvxyYtl6R+0YB5JM=</td>\n",
       "      <td>my library</td>\n",
       "      <td>Local playlist more</td>\n",
       "      <td>local-playlist</td>\n",
       "      <td>1</td>\n",
       "    </tr>\n",
       "    <tr>\n",
       "      <th>7377414</th>\n",
       "      <td>ZxbVmt3Kh/XOH+h58c2Kdj6SjFZk+wnUO006IgWzMQE=</td>\n",
       "      <td>z1mqaU9YOX7T/PFDvUoWozdFq7rC3KwaQP7nFVprjMI=</td>\n",
       "      <td>search</td>\n",
       "      <td>Search</td>\n",
       "      <td>song</td>\n",
       "      <td>0</td>\n",
       "    </tr>\n",
       "    <tr>\n",
       "      <th>7377415</th>\n",
       "      <td>ZxbVmt3Kh/XOH+h58c2Kdj6SjFZk+wnUO006IgWzMQE=</td>\n",
       "      <td>750RprmFfLV0bymtDH88g24pLZGVi5VpBAI300P6UOA=</td>\n",
       "      <td>search</td>\n",
       "      <td>Search</td>\n",
       "      <td>song</td>\n",
       "      <td>1</td>\n",
       "    </tr>\n",
       "    <tr>\n",
       "      <th>7377416</th>\n",
       "      <td>0aH4Hd3ziPSRHClRX8rkeOEaAG5EPPkW1mKGCdXEok0=</td>\n",
       "      <td>G8wgqObgeAMER/rVCIlgcNeQ8mm0CzF/GsxiMK8TTnA=</td>\n",
       "      <td>discover</td>\n",
       "      <td>Discover Genre</td>\n",
       "      <td>online-playlist</td>\n",
       "      <td>1</td>\n",
       "    </tr>\n",
       "    <tr>\n",
       "      <th>7377417</th>\n",
       "      <td>0aH4Hd3ziPSRHClRX8rkeOEaAG5EPPkW1mKGCdXEok0=</td>\n",
       "      <td>Ju0VGkjWeBUZCd7r5Az2hUImhMoWxWLUicOedsmvG0g=</td>\n",
       "      <td>discover</td>\n",
       "      <td>Discover Genre</td>\n",
       "      <td>online-playlist</td>\n",
       "      <td>1</td>\n",
       "    </tr>\n",
       "  </tbody>\n",
       "</table>\n",
       "<p>1475484 rows × 6 columns</p>\n",
       "</div>"
      ],
      "text/plain": [
       "                                                 msno  \\\n",
       "5901934  +fzJ5Uou/rxl1pXlebOEBHFKC4LBwDfgnc2R7287CVs=   \n",
       "5901935  +fzJ5Uou/rxl1pXlebOEBHFKC4LBwDfgnc2R7287CVs=   \n",
       "5901936  +fzJ5Uou/rxl1pXlebOEBHFKC4LBwDfgnc2R7287CVs=   \n",
       "5901937  v04FgzXSdai5doJPrcwbrQTMbnETwLB5Li0t36X6kSQ=   \n",
       "5901938  Rw5fS0aEzNBUaVMFQLpD2oW11xH2Jv107h49EUVXiTM=   \n",
       "...                                               ...   \n",
       "7377413  6xdFzPlrasIDD95mQWXVC3Bg4ptnGYtBl4ztVEZMddU=   \n",
       "7377414  ZxbVmt3Kh/XOH+h58c2Kdj6SjFZk+wnUO006IgWzMQE=   \n",
       "7377415  ZxbVmt3Kh/XOH+h58c2Kdj6SjFZk+wnUO006IgWzMQE=   \n",
       "7377416  0aH4Hd3ziPSRHClRX8rkeOEaAG5EPPkW1mKGCdXEok0=   \n",
       "7377417  0aH4Hd3ziPSRHClRX8rkeOEaAG5EPPkW1mKGCdXEok0=   \n",
       "\n",
       "                                              song_id source_system_tab  \\\n",
       "5901934  JTVy3aCLoTFkqPK4pkGBy0YTlH0zpkubCoKMh07WYfM=        my library   \n",
       "5901935  2TR1fCpa5/ac/xe+hdOe52nBZ6afSU49gsGQbhTQVzk=        my library   \n",
       "5901936  wev1Fi6KYkCSFAstQfhxJPZv7wkn8wGepys+KDmeBy4=        my library   \n",
       "5901937  NhQfOVnptpW5z5qsP/sN+hVS8TM2iYvdy/ZGVe7K+kM=        my library   \n",
       "5901938  OakhL7CLirelAGEP9sYyP6fmTa8HV1mD/qVdpM6o5uE=          discover   \n",
       "...                                               ...               ...   \n",
       "7377413  VJTxizih/o28kXCbtPbIyWXScoXGvxyYtl6R+0YB5JM=        my library   \n",
       "7377414  z1mqaU9YOX7T/PFDvUoWozdFq7rC3KwaQP7nFVprjMI=            search   \n",
       "7377415  750RprmFfLV0bymtDH88g24pLZGVi5VpBAI300P6UOA=            search   \n",
       "7377416  G8wgqObgeAMER/rVCIlgcNeQ8mm0CzF/GsxiMK8TTnA=          discover   \n",
       "7377417  Ju0VGkjWeBUZCd7r5Az2hUImhMoWxWLUicOedsmvG0g=          discover   \n",
       "\n",
       "           source_screen_name      source_type  target  \n",
       "5901934   Local playlist more    local-library       1  \n",
       "5901935   Local playlist more    local-library       0  \n",
       "5901936   Local playlist more    local-library       1  \n",
       "5901937   Local playlist more    local-library       1  \n",
       "5901938  Online playlist more  online-playlist       1  \n",
       "...                       ...              ...     ...  \n",
       "7377413   Local playlist more   local-playlist       1  \n",
       "7377414                Search             song       0  \n",
       "7377415                Search             song       1  \n",
       "7377416        Discover Genre  online-playlist       1  \n",
       "7377417        Discover Genre  online-playlist       1  \n",
       "\n",
       "[1475484 rows x 6 columns]"
      ]
     },
     "execution_count": 32,
     "metadata": {},
     "output_type": "execute_result"
    }
   ],
   "source": [
    "test_part"
   ]
  },
  {
   "cell_type": "code",
   "execution_count": 2,
   "id": "974b39b0-7e36-4412-a770-a12699ce44c7",
   "metadata": {},
   "outputs": [],
   "source": [
    "train = pd.read_csv('train_for_task.csv', index_col = 0)\n",
    "test = pd.read_csv('test_for_task.csv', index_col = 0)\n",
    "tmp_test = pd.read_csv('test_for_task.csv')\n",
    "\n",
    "ids = tmp_test['Unnamed: 0'].values\n",
    "test_targets = tmp_test['target'].values\n",
    "test.drop(columns = ['target'], inplace = True)\n",
    "\n",
    "sei = pd.read_csv('song_extra_info.csv')\n",
    "members = pd.read_csv('members.csv',parse_dates=['registration_init_time', 'expiration_date'])\n",
    "songs = pd.read_csv('songs.csv')"
   ]
  },
  {
   "cell_type": "markdown",
   "id": "571e781c-e7b7-4575-9a97-82ebc5740a6f",
   "metadata": {},
   "source": [
    "Извлекаем год из ISRC кода"
   ]
  },
  {
   "cell_type": "code",
   "execution_count": 7,
   "id": "ba0aa484-69ce-4095-ac1c-86506c7b749f",
   "metadata": {},
   "outputs": [],
   "source": [
    "def get_codes(isrc):\n",
    "    if pd.isnull(isrc):\n",
    "        return np.nan\n",
    "    else:\n",
    "        if int(str(isrc)[5:7]) > 17:\n",
    "            temp =  1900+int(str(isrc)[5:7])\n",
    "        else:\n",
    "            temp = 2000+int(isrc[5:7])\n",
    "        return temp"
   ]
  },
  {
   "cell_type": "code",
   "execution_count": 8,
   "id": "2918ce3e-aa17-44c3-b460-1e77cf5599d0",
   "metadata": {},
   "outputs": [
    {
     "data": {
      "text/html": [
       "<div>\n",
       "<style scoped>\n",
       "    .dataframe tbody tr th:only-of-type {\n",
       "        vertical-align: middle;\n",
       "    }\n",
       "\n",
       "    .dataframe tbody tr th {\n",
       "        vertical-align: top;\n",
       "    }\n",
       "\n",
       "    .dataframe thead th {\n",
       "        text-align: right;\n",
       "    }\n",
       "</style>\n",
       "<table border=\"1\" class=\"dataframe\">\n",
       "  <thead>\n",
       "    <tr style=\"text-align: right;\">\n",
       "      <th></th>\n",
       "      <th>song_id</th>\n",
       "      <th>name</th>\n",
       "      <th>isrc</th>\n",
       "      <th>year</th>\n",
       "    </tr>\n",
       "  </thead>\n",
       "  <tbody>\n",
       "    <tr>\n",
       "      <th>940106</th>\n",
       "      <td>/IHabH6mOvzgCcXswqGYKiaKnynIIlqIUx2GSXIoEE8=</td>\n",
       "      <td>Carmen Suite No. 1: III. Intermezzo</td>\n",
       "      <td>QMFMG1409800</td>\n",
       "      <td>2014.0</td>\n",
       "    </tr>\n",
       "    <tr>\n",
       "      <th>1674487</th>\n",
       "      <td>0IKvzZfhD2mCyegMhB3eBwlDBfO+kGN9n10SWyjHjNk=</td>\n",
       "      <td>Breathe</td>\n",
       "      <td>US43C1603237</td>\n",
       "      <td>2016.0</td>\n",
       "    </tr>\n",
       "    <tr>\n",
       "      <th>1061600</th>\n",
       "      <td>71kQK8WSYAOahwQMP8HOrEqFsoSjjvK5HEUyUcOgFMI=</td>\n",
       "      <td>Minsan Pa</td>\n",
       "      <td>PHUM71600042</td>\n",
       "      <td>2016.0</td>\n",
       "    </tr>\n",
       "    <tr>\n",
       "      <th>1341117</th>\n",
       "      <td>2fwRCFxnC7DNmeJpfA8+NdrEbFO5NYhd+yJ+ETEGjYY=</td>\n",
       "      <td>Tohse Ketna Pyar Karile</td>\n",
       "      <td>QMFMF1433949</td>\n",
       "      <td>2014.0</td>\n",
       "    </tr>\n",
       "    <tr>\n",
       "      <th>1753983</th>\n",
       "      <td>eJXrB3fbzWWe6awTcMKlFfTDE/Gu8ogmFJspVuRwyrk=</td>\n",
       "      <td>Bitches Everywhere</td>\n",
       "      <td>ITBE71400179</td>\n",
       "      <td>2014.0</td>\n",
       "    </tr>\n",
       "    <tr>\n",
       "      <th>876150</th>\n",
       "      <td>OkrfSApSXYjAVsD9E5Wt0Scm0REgWyBHCIWdiN85TyI=</td>\n",
       "      <td>Midnight City</td>\n",
       "      <td>DEON11205309</td>\n",
       "      <td>2012.0</td>\n",
       "    </tr>\n",
       "    <tr>\n",
       "      <th>597222</th>\n",
       "      <td>qRXe7cT6KuimFj8Yk1Smei/t5Um8ty+B0o4LGRGrs5s=</td>\n",
       "      <td>In My Father's House</td>\n",
       "      <td>DEPZ69165691</td>\n",
       "      <td>1991.0</td>\n",
       "    </tr>\n",
       "    <tr>\n",
       "      <th>62825</th>\n",
       "      <td>trpDZOPi+sor7+3DYhReBbMg9+KQcGY6FoxYwOAwsOM=</td>\n",
       "      <td>幸福滿滿</td>\n",
       "      <td>NaN</td>\n",
       "      <td>NaN</td>\n",
       "    </tr>\n",
       "    <tr>\n",
       "      <th>156498</th>\n",
       "      <td>COk6eIb5oltl0R3asAGu1OCzA3LvulpSENPh56cnlEQ=</td>\n",
       "      <td>陪妳走一程</td>\n",
       "      <td>TWA119400305</td>\n",
       "      <td>1994.0</td>\n",
       "    </tr>\n",
       "    <tr>\n",
       "      <th>1035438</th>\n",
       "      <td>dyTgXK6TERuHchCReCDUc/uDG3c9WNTGI+MvUCeNVDw=</td>\n",
       "      <td>I Heart Bougie (Toka Project Mix) - Ken ECB</td>\n",
       "      <td>NaN</td>\n",
       "      <td>NaN</td>\n",
       "    </tr>\n",
       "  </tbody>\n",
       "</table>\n",
       "</div>"
      ],
      "text/plain": [
       "                                              song_id  \\\n",
       "940106   /IHabH6mOvzgCcXswqGYKiaKnynIIlqIUx2GSXIoEE8=   \n",
       "1674487  0IKvzZfhD2mCyegMhB3eBwlDBfO+kGN9n10SWyjHjNk=   \n",
       "1061600  71kQK8WSYAOahwQMP8HOrEqFsoSjjvK5HEUyUcOgFMI=   \n",
       "1341117  2fwRCFxnC7DNmeJpfA8+NdrEbFO5NYhd+yJ+ETEGjYY=   \n",
       "1753983  eJXrB3fbzWWe6awTcMKlFfTDE/Gu8ogmFJspVuRwyrk=   \n",
       "876150   OkrfSApSXYjAVsD9E5Wt0Scm0REgWyBHCIWdiN85TyI=   \n",
       "597222   qRXe7cT6KuimFj8Yk1Smei/t5Um8ty+B0o4LGRGrs5s=   \n",
       "62825    trpDZOPi+sor7+3DYhReBbMg9+KQcGY6FoxYwOAwsOM=   \n",
       "156498   COk6eIb5oltl0R3asAGu1OCzA3LvulpSENPh56cnlEQ=   \n",
       "1035438  dyTgXK6TERuHchCReCDUc/uDG3c9WNTGI+MvUCeNVDw=   \n",
       "\n",
       "                                                 name          isrc    year  \n",
       "940106            Carmen Suite No. 1: III. Intermezzo  QMFMG1409800  2014.0  \n",
       "1674487                                       Breathe  US43C1603237  2016.0  \n",
       "1061600                                     Minsan Pa  PHUM71600042  2016.0  \n",
       "1341117                       Tohse Ketna Pyar Karile  QMFMF1433949  2014.0  \n",
       "1753983                            Bitches Everywhere  ITBE71400179  2014.0  \n",
       "876150                                  Midnight City  DEON11205309  2012.0  \n",
       "597222                           In My Father's House  DEPZ69165691  1991.0  \n",
       "62825                                            幸福滿滿           NaN     NaN  \n",
       "156498                                          陪妳走一程  TWA119400305  1994.0  \n",
       "1035438  I Heart Bougie (Toka Project Mix) - Ken ECB            NaN     NaN  "
      ]
     },
     "execution_count": 8,
     "metadata": {},
     "output_type": "execute_result"
    }
   ],
   "source": [
    "sei['year'] = sei['isrc'].apply(lambda x: get_codes(x))\n",
    "sei.sample(10)"
   ]
  },
  {
   "cell_type": "code",
   "execution_count": 9,
   "id": "0979e050-3a26-4a3d-b1ea-ecf77b77fb12",
   "metadata": {},
   "outputs": [
    {
     "data": {
      "text/html": [
       "<div>\n",
       "<style scoped>\n",
       "    .dataframe tbody tr th:only-of-type {\n",
       "        vertical-align: middle;\n",
       "    }\n",
       "\n",
       "    .dataframe tbody tr th {\n",
       "        vertical-align: top;\n",
       "    }\n",
       "\n",
       "    .dataframe thead th {\n",
       "        text-align: right;\n",
       "    }\n",
       "</style>\n",
       "<table border=\"1\" class=\"dataframe\">\n",
       "  <thead>\n",
       "    <tr style=\"text-align: right;\">\n",
       "      <th></th>\n",
       "      <th>msno</th>\n",
       "      <th>city</th>\n",
       "      <th>bd</th>\n",
       "      <th>gender</th>\n",
       "      <th>registered_via</th>\n",
       "      <th>membership_days</th>\n",
       "      <th>registration_year</th>\n",
       "      <th>expiration_year</th>\n",
       "    </tr>\n",
       "  </thead>\n",
       "  <tbody>\n",
       "    <tr>\n",
       "      <th>0</th>\n",
       "      <td>XQxgAYj3klVKjR3oxPPXYYFp4soD4TuBghkhMTD4oTw=</td>\n",
       "      <td>1</td>\n",
       "      <td>0</td>\n",
       "      <td>NaN</td>\n",
       "      <td>7</td>\n",
       "      <td>2223</td>\n",
       "      <td>2011</td>\n",
       "      <td>2017</td>\n",
       "    </tr>\n",
       "    <tr>\n",
       "      <th>1</th>\n",
       "      <td>UizsfmJb9mV54qE9hCYyU07Va97c0lCRLEQX3ae+ztM=</td>\n",
       "      <td>1</td>\n",
       "      <td>0</td>\n",
       "      <td>NaN</td>\n",
       "      <td>7</td>\n",
       "      <td>725</td>\n",
       "      <td>2015</td>\n",
       "      <td>2017</td>\n",
       "    </tr>\n",
       "    <tr>\n",
       "      <th>2</th>\n",
       "      <td>D8nEhsIOBSoE6VthTaqDX8U6lqjJ7dLdr72mOyLya2A=</td>\n",
       "      <td>1</td>\n",
       "      <td>0</td>\n",
       "      <td>NaN</td>\n",
       "      <td>4</td>\n",
       "      <td>457</td>\n",
       "      <td>2016</td>\n",
       "      <td>2017</td>\n",
       "    </tr>\n",
       "    <tr>\n",
       "      <th>3</th>\n",
       "      <td>mCuD+tZ1hERA/o5GPqk38e041J8ZsBaLcu7nGoIIvhI=</td>\n",
       "      <td>1</td>\n",
       "      <td>0</td>\n",
       "      <td>NaN</td>\n",
       "      <td>9</td>\n",
       "      <td>1</td>\n",
       "      <td>2015</td>\n",
       "      <td>2015</td>\n",
       "    </tr>\n",
       "    <tr>\n",
       "      <th>4</th>\n",
       "      <td>q4HRBfVSssAFS9iRfxWrohxuk9kCYMKjHOEagUMV6rQ=</td>\n",
       "      <td>1</td>\n",
       "      <td>0</td>\n",
       "      <td>NaN</td>\n",
       "      <td>4</td>\n",
       "      <td>138</td>\n",
       "      <td>2017</td>\n",
       "      <td>2017</td>\n",
       "    </tr>\n",
       "  </tbody>\n",
       "</table>\n",
       "</div>"
      ],
      "text/plain": [
       "                                           msno  city  bd gender  \\\n",
       "0  XQxgAYj3klVKjR3oxPPXYYFp4soD4TuBghkhMTD4oTw=     1   0    NaN   \n",
       "1  UizsfmJb9mV54qE9hCYyU07Va97c0lCRLEQX3ae+ztM=     1   0    NaN   \n",
       "2  D8nEhsIOBSoE6VthTaqDX8U6lqjJ7dLdr72mOyLya2A=     1   0    NaN   \n",
       "3  mCuD+tZ1hERA/o5GPqk38e041J8ZsBaLcu7nGoIIvhI=     1   0    NaN   \n",
       "4  q4HRBfVSssAFS9iRfxWrohxuk9kCYMKjHOEagUMV6rQ=     1   0    NaN   \n",
       "\n",
       "   registered_via  membership_days  registration_year  expiration_year  \n",
       "0               7             2223               2011             2017  \n",
       "1               7              725               2015             2017  \n",
       "2               4              457               2016             2017  \n",
       "3               9                1               2015             2015  \n",
       "4               4              138               2017             2017  "
      ]
     },
     "execution_count": 9,
     "metadata": {},
     "output_type": "execute_result"
    }
   ],
   "source": [
    "members['membership_days'] = members['expiration_date'].subtract(members['registration_init_time']).dt.days.astype(int)\n",
    "members['registration_year'] = members['registration_init_time'].dt.year\n",
    "members['expiration_year'] = members['expiration_date'].dt.year\n",
    "members.drop(columns = ['registration_init_time' , 'expiration_date'], inplace = True)\n",
    "members.head()"
   ]
  },
  {
   "cell_type": "markdown",
   "id": "7ab654fd-0295-4576-9483-ca17f9a7948e",
   "metadata": {},
   "source": [
    "Объединяем датафреймы train и test с датафреймами songs, members и sei"
   ]
  },
  {
   "cell_type": "code",
   "execution_count": 10,
   "id": "55bc9165-ebc6-41ef-a283-36469df5070a",
   "metadata": {},
   "outputs": [],
   "source": [
    "train = train.merge(songs , on='song_id' , how='left')\n",
    "train = train.merge(members , on = 'msno' , how='left')\n",
    "train = train.merge(sei , on = 'song_id' , how='left')\n",
    "test  = test.merge(songs , on='song_id' , how='left')\n",
    "test = test.merge(members , on = 'msno' , how = 'left')\n",
    "test =  test.merge(sei , on = 'song_id' , how = 'left')"
   ]
  },
  {
   "cell_type": "markdown",
   "id": "1794a164-cf63-4e3c-a323-5e84d27b7d62",
   "metadata": {},
   "source": [
    "Посчитаем долю пустых строк"
   ]
  },
  {
   "cell_type": "code",
   "execution_count": 11,
   "id": "c09bf00c-9468-45b4-aa74-5d778572f27a",
   "metadata": {},
   "outputs": [
    {
     "name": "stdout",
     "output_type": "stream",
     "text": [
      "False    0.999983\n",
      "True     0.000017\n",
      "Name: song_length, dtype: float64\n",
      "False    0.999979\n",
      "True     0.000021\n",
      "Name: language, dtype: float64\n"
     ]
    }
   ],
   "source": [
    "print(train['song_length'].isnull().value_counts()/train.shape[0])\n",
    "train['song_length'].fillna(train['song_length'].mean() , inplace = True)\n",
    "train['song_length'] = train['song_length'].astype(np.uint32)\n",
    "print(train['language'].isnull().value_counts()/train.shape[0])\n",
    "train['language'].fillna(train['language'].mode().values[0] , inplace= True)\n",
    "train['language'] = train['language'].astype(np.int8)\n",
    "test['song_length'].fillna(test['song_length'].mean() , inplace = True)\n",
    "test['song_length'] = test['song_length'].astype(np.uint32)\n",
    "test['language'].fillna(test['language'].mode().values[0] , inplace= True)\n",
    "test['language'] = test['language'].astype(np.int8)"
   ]
  },
  {
   "cell_type": "code",
   "execution_count": 12,
   "id": "19d88901-4a7f-4416-b429-51687d2f53ba",
   "metadata": {},
   "outputs": [
    {
     "name": "stdout",
     "output_type": "stream",
     "text": [
      "False    0.984419\n",
      "True     0.015581\n",
      "Name: genre_ids, dtype: float64\n"
     ]
    }
   ],
   "source": [
    "def genre_count(genre):\n",
    "    if genre == 'no_genre_id':\n",
    "        return 0\n",
    "    else :\n",
    "        return genre.count('|') + 1\n",
    "print(train['genre_ids'].isnull().value_counts()/train.shape[0])\n",
    "train['genre_ids'].fillna('no_genre_id' , inplace= True)\n",
    "train['genre_ids_count'] = train['genre_ids'].apply(lambda x: genre_count(x)).astype(np.int8)\n",
    "test['genre_ids'].fillna('no_genre_id' , inplace= True)\n",
    "test['genre_ids_count'] = test['genre_ids'].apply(lambda x: genre_count(x)).astype(np.int8)\n",
    "                                                       "
   ]
  },
  {
   "cell_type": "markdown",
   "id": "c881f46c-86b9-4595-85d3-5c3dc7255dbb",
   "metadata": {},
   "source": [
    "Вычисляем количество артистов"
   ]
  },
  {
   "cell_type": "code",
   "execution_count": 13,
   "id": "a58d1c23-e555-4fe0-bbe5-f2c5a7a8103e",
   "metadata": {},
   "outputs": [],
   "source": [
    "def artist_count(art):\n",
    "    if art=='no_artist_name':\n",
    "        return 0\n",
    "    else:\n",
    "        return art.count('|')+art.count('/') + art.count('//') + art.count(';') + 1\n",
    "train['artist_name'].isnull().value_counts()\n",
    "train['artist_name'].fillna('no_artist_name' , inplace = True)\n",
    "train['artist_count'] = train['artist_name'].apply(lambda x : artist_count(x)).astype(np.int8)\n",
    "test['artist_name'].fillna('no_artist_name' , inplace = True)\n",
    "test['artist_count'] = test['artist_name'].apply(lambda x : artist_count(x)).astype(np.int8)"
   ]
  },
  {
   "cell_type": "markdown",
   "id": "7047b13f-4e72-488a-b70c-c484299386da",
   "metadata": {},
   "source": [
    "Аналогично, подсчитываем количество композиторов и количество лирик"
   ]
  },
  {
   "cell_type": "code",
   "execution_count": 14,
   "id": "21f84a85-c876-42db-8d62-cdaa3eae0b9f",
   "metadata": {},
   "outputs": [],
   "source": [
    "def  count_composer(comp):\n",
    "    if comp=='no_composer':\n",
    "        return 0\n",
    "    else:\n",
    "        return comp.count('|')+comp.count('/') + comp.count('//') + comp.count(';') + 1\n",
    "def  count_lyricist(lyr):\n",
    "    if lyr=='no_lyricist':\n",
    "        return 0\n",
    "    else:\n",
    "        return lyr.count('|')+lyr.count('/') + lyr.count('//') + lyr.count(';') + 1"
   ]
  },
  {
   "cell_type": "code",
   "execution_count": 15,
   "id": "6fc16931-bc4b-46ce-8408-8af29e6544e3",
   "metadata": {},
   "outputs": [],
   "source": [
    "train['composer'].fillna('no_composer',inplace=True)\n",
    "train['composer_count'] = train['composer'].apply(lambda x: count_composer(x)).astype(np.int8)\n",
    "train['lyricist'].fillna('no_lyricist',inplace=True)\n",
    "train['lyricist_count'] = train['lyricist'].apply(lambda x: count_lyricist(x)).astype(np.int8)\n",
    "test['composer'].fillna('no_composer',inplace=True)\n",
    "test['composer_count'] = test['composer'].apply(lambda x: count_composer(x)).astype(np.int8)\n",
    "test['lyricist'].fillna('no_lyricist',inplace=True)\n",
    "test['lyricist_count'] = test['lyricist'].apply(lambda x: count_lyricist(x)).astype(np.int8)"
   ]
  },
  {
   "cell_type": "markdown",
   "id": "86796aaa-a868-4fdb-bfaa-48be9090701b",
   "metadata": {},
   "source": [
    "Создаем словари, содержащие количество воспроизведений каждой песни в тренировочном и тестовом наборах данных."
   ]
  },
  {
   "cell_type": "code",
   "execution_count": 16,
   "id": "41438b5c-4306-4791-8deb-e672d3d7ad0a",
   "metadata": {},
   "outputs": [],
   "source": [
    "dict_count_song_played_train = {k: v for k, v in train['song_id'].value_counts().iteritems()}\n",
    "dict_count_song_played_test = {k: v for k, v in test['song_id'].value_counts().iteritems()}\n",
    "def return_number_played(x):\n",
    "    try:\n",
    "        return dict_count_song_played_train[x]\n",
    "    except KeyError:\n",
    "        try:\n",
    "            return dict_count_song_played_test[x]\n",
    "        except KeyError:\n",
    "            return 0\n",
    "train['number_of_time_played'] = train['song_id'].apply(lambda x: return_number_played(x))\n",
    "test['number_of_time_played'] = test['song_id'].apply(lambda x: return_number_played(x))"
   ]
  },
  {
   "cell_type": "markdown",
   "id": "1e25b0d8-07b3-4d30-8203-d5d072608fc5",
   "metadata": {},
   "source": [
    "Создаем словарь с количеством действий для каждого пользователя"
   ]
  },
  {
   "cell_type": "code",
   "execution_count": 17,
   "id": "254ed275-a948-4706-a260-0c803d40e4e8",
   "metadata": {},
   "outputs": [],
   "source": [
    "dict_user_activity = {k:v for k,v in pd.concat([train['msno'] , test['msno']] , axis = 0).value_counts().iteritems()}\n",
    "def return_user_activity(x):\n",
    "    try:\n",
    "        return dict_user_activity[x]\n",
    "    except KeyError:\n",
    "        return 0\n",
    "train['user_activity_msno'] = train['msno'].apply(lambda x: return_user_activity(x))\n",
    "test['user_activity_msno'] = test['msno'].apply(lambda x: return_user_activity(x))"
   ]
  },
  {
   "cell_type": "code",
   "execution_count": 20,
   "id": "9f2d6dd2-b29d-4031-bb16-b042c6cb2f94",
   "metadata": {},
   "outputs": [],
   "source": [
    "train_col = list(train.columns)\n",
    "test_col = list(test.columns)\n",
    "for f in test_col :\n",
    "    if f not in train_col:\n",
    "        print('Error! Column from Test not found in train is ->' , f)\n",
    "label_encoding = ['source_system_tab', 'source_screen_name',\n",
    "       'source_type','gender']\n",
    "drop = ['msno', 'song_id' , 'isrc','artist_name',\n",
    "       'composer', 'lyricist','name','genre_ids']\n",
    "min_max_scaling = ['number_of_time_played', 'user_activity_msno','membership_days', 'song_length']"
   ]
  },
  {
   "cell_type": "markdown",
   "id": "cbffb951-b808-49f1-bb6d-a070da66433c",
   "metadata": {},
   "source": [
    "Применяем LabelEncoder и MinMaxScaler"
   ]
  },
  {
   "cell_type": "code",
   "execution_count": 21,
   "id": "98dede31-a40b-469e-875f-275ef7a0d76b",
   "metadata": {},
   "outputs": [],
   "source": [
    "for f in label_encoding:\n",
    "    lb = LabelEncoder()\n",
    "    lb.fit(list(train[f].values) + list(test[f].values))\n",
    "    train[f] = lb.transform(list(train[f].values))\n",
    "    test[f] = lb.transform(list(test[f].values))\n",
    "for f in min_max_scaling:\n",
    "    ms = MinMaxScaler()\n",
    "    train[f] = ms.fit_transform(train[[f]])\n",
    "    test[f] = ms.transform(test[[f]])"
   ]
  },
  {
   "cell_type": "code",
   "execution_count": 22,
   "id": "f254d473-47a2-4bad-a0a1-5379ccb08a52",
   "metadata": {},
   "outputs": [],
   "source": [
    "for col in train.columns:\n",
    "    if train[col].dtype == object:\n",
    "        train[col] = train[col].astype('category')\n",
    "        test[col] = test[col].astype('category')"
   ]
  },
  {
   "cell_type": "code",
   "execution_count": 23,
   "id": "99c9e43c-5c8c-45fa-be91-21cbd2e74bdc",
   "metadata": {},
   "outputs": [
    {
     "data": {
      "text/html": [
       "<div>\n",
       "<style scoped>\n",
       "    .dataframe tbody tr th:only-of-type {\n",
       "        vertical-align: middle;\n",
       "    }\n",
       "\n",
       "    .dataframe tbody tr th {\n",
       "        vertical-align: top;\n",
       "    }\n",
       "\n",
       "    .dataframe thead th {\n",
       "        text-align: right;\n",
       "    }\n",
       "</style>\n",
       "<table border=\"1\" class=\"dataframe\">\n",
       "  <thead>\n",
       "    <tr style=\"text-align: right;\">\n",
       "      <th></th>\n",
       "      <th>msno</th>\n",
       "      <th>song_id</th>\n",
       "      <th>source_system_tab</th>\n",
       "      <th>source_screen_name</th>\n",
       "      <th>source_type</th>\n",
       "      <th>target</th>\n",
       "      <th>song_length</th>\n",
       "      <th>genre_ids</th>\n",
       "      <th>artist_name</th>\n",
       "      <th>composer</th>\n",
       "      <th>...</th>\n",
       "      <th>expiration_year</th>\n",
       "      <th>name</th>\n",
       "      <th>isrc</th>\n",
       "      <th>year</th>\n",
       "      <th>genre_ids_count</th>\n",
       "      <th>artist_count</th>\n",
       "      <th>composer_count</th>\n",
       "      <th>lyricist_count</th>\n",
       "      <th>number_of_time_played</th>\n",
       "      <th>user_activity_msno</th>\n",
       "    </tr>\n",
       "  </thead>\n",
       "  <tbody>\n",
       "    <tr>\n",
       "      <th>2807020</th>\n",
       "      <td>fVZedYe9G51wW8jy3Ws7FuF5IKx7zxQYWvPAfCdIRJE=</td>\n",
       "      <td>lCjMoHaoM7Fz3SJsIyvyXldjCGR10FQi3qeFvQGEfB8=</td>\n",
       "      <td>0</td>\n",
       "      <td>5</td>\n",
       "      <td>7</td>\n",
       "      <td>0</td>\n",
       "      <td>0.019898</td>\n",
       "      <td>1609</td>\n",
       "      <td>Afrojack| Dimitri Vegas| Like Mike and NERVO</td>\n",
       "      <td>no_composer</td>\n",
       "      <td>...</td>\n",
       "      <td>2017</td>\n",
       "      <td>The Way We See The World (Tomorrowland Anthem ...</td>\n",
       "      <td>NLC281111869</td>\n",
       "      <td>2011.0</td>\n",
       "      <td>1</td>\n",
       "      <td>3</td>\n",
       "      <td>0</td>\n",
       "      <td>0</td>\n",
       "      <td>0.017983</td>\n",
       "      <td>0.275696</td>\n",
       "    </tr>\n",
       "    <tr>\n",
       "      <th>2565580</th>\n",
       "      <td>HsrmDxxDgi+2jNCouqM9/tAMEharXQDjxs/TbGWBflM=</td>\n",
       "      <td>nnGh305rOmte1K/4D+qsL1LyY6P+jvDlzATIqwbCa/0=</td>\n",
       "      <td>0</td>\n",
       "      <td>1</td>\n",
       "      <td>11</td>\n",
       "      <td>1</td>\n",
       "      <td>0.021366</td>\n",
       "      <td>465</td>\n",
       "      <td>田馥甄 (Hebe)</td>\n",
       "      <td>劉大江</td>\n",
       "      <td>...</td>\n",
       "      <td>2017</td>\n",
       "      <td>不醉不會</td>\n",
       "      <td>TWD951343101</td>\n",
       "      <td>2013.0</td>\n",
       "      <td>1</td>\n",
       "      <td>1</td>\n",
       "      <td>1</td>\n",
       "      <td>1</td>\n",
       "      <td>0.285726</td>\n",
       "      <td>0.199553</td>\n",
       "    </tr>\n",
       "    <tr>\n",
       "      <th>4316469</th>\n",
       "      <td>6hVgIhV31CwJ9PeWwTuTXhDDFdhwu2vxXzlbA2r8Jks=</td>\n",
       "      <td>+Ky0PnZCyYqfRXroxEQOsKACymYfhsj+1qz3trSvcno=</td>\n",
       "      <td>3</td>\n",
       "      <td>8</td>\n",
       "      <td>3</td>\n",
       "      <td>1</td>\n",
       "      <td>0.020769</td>\n",
       "      <td>465</td>\n",
       "      <td>G.E.M.鄧紫棋</td>\n",
       "      <td>G.E.M. 鄧紫棋</td>\n",
       "      <td>...</td>\n",
       "      <td>2017</td>\n",
       "      <td>盲點 (Blindspot)</td>\n",
       "      <td>HKI111500005</td>\n",
       "      <td>2015.0</td>\n",
       "      <td>1</td>\n",
       "      <td>1</td>\n",
       "      <td>1</td>\n",
       "      <td>1</td>\n",
       "      <td>0.032193</td>\n",
       "      <td>0.148677</td>\n",
       "    </tr>\n",
       "    <tr>\n",
       "      <th>4881456</th>\n",
       "      <td>JxeCasSiXlXNir1H3xZZM9k0lqpWhtCsYHTRC5tl7KA=</td>\n",
       "      <td>SKRQpz3EM5UIxT2LCGzK5k0aYg4QtyHWtr0L/EK6By8=</td>\n",
       "      <td>3</td>\n",
       "      <td>8</td>\n",
       "      <td>3</td>\n",
       "      <td>1</td>\n",
       "      <td>0.019816</td>\n",
       "      <td>458</td>\n",
       "      <td>田馥甄 (Hebe)</td>\n",
       "      <td>李宗盛/王力宏</td>\n",
       "      <td>...</td>\n",
       "      <td>2017</td>\n",
       "      <td>凡人歌+火</td>\n",
       "      <td>TWD951676102</td>\n",
       "      <td>2016.0</td>\n",
       "      <td>1</td>\n",
       "      <td>1</td>\n",
       "      <td>2</td>\n",
       "      <td>4</td>\n",
       "      <td>0.139772</td>\n",
       "      <td>0.161396</td>\n",
       "    </tr>\n",
       "    <tr>\n",
       "      <th>840248</th>\n",
       "      <td>Er/bmALu5hziIhxjAX96nB8i5csAbncso33zJEwOFBc=</td>\n",
       "      <td>oBx6PpYquxKVkqXn+6gXWJZQTyl5+ckdFp2ZR8mxZ64=</td>\n",
       "      <td>3</td>\n",
       "      <td>9</td>\n",
       "      <td>4</td>\n",
       "      <td>0</td>\n",
       "      <td>0.024746</td>\n",
       "      <td>465</td>\n",
       "      <td>aMEI (張惠妹)</td>\n",
       "      <td>Ni Zi Gang</td>\n",
       "      <td>...</td>\n",
       "      <td>2017</td>\n",
       "      <td>來鬧的 (Party Crashers)</td>\n",
       "      <td>TWEM31104008</td>\n",
       "      <td>2011.0</td>\n",
       "      <td>1</td>\n",
       "      <td>1</td>\n",
       "      <td>1</td>\n",
       "      <td>1</td>\n",
       "      <td>0.001846</td>\n",
       "      <td>0.040908</td>\n",
       "    </tr>\n",
       "    <tr>\n",
       "      <th>3532869</th>\n",
       "      <td>eU8WVZclSIjgIiuu7uYL3f7pwdw+XmOUjRSE7KlAZv0=</td>\n",
       "      <td>B8RPBDoaNmSKdIaw41h/JMBeQhdLZhgwsEabAmx3gpE=</td>\n",
       "      <td>0</td>\n",
       "      <td>11</td>\n",
       "      <td>7</td>\n",
       "      <td>1</td>\n",
       "      <td>0.023783</td>\n",
       "      <td>458</td>\n",
       "      <td>楊丞琳 (Rainie Yang)</td>\n",
       "      <td>Jia Ying Xu</td>\n",
       "      <td>...</td>\n",
       "      <td>2017</td>\n",
       "      <td>點水</td>\n",
       "      <td>TWUM71400085</td>\n",
       "      <td>2014.0</td>\n",
       "      <td>1</td>\n",
       "      <td>1</td>\n",
       "      <td>1</td>\n",
       "      <td>0</td>\n",
       "      <td>0.103003</td>\n",
       "      <td>0.155380</td>\n",
       "    </tr>\n",
       "    <tr>\n",
       "      <th>754117</th>\n",
       "      <td>0c3FemPS+wphQliqLMTGFM2hUnnwRHxol7UyMSYJ0BM=</td>\n",
       "      <td>caXQoad48M9jS7s0V227KI5i0HnARffYKOxe0fYVtrM=</td>\n",
       "      <td>0</td>\n",
       "      <td>8</td>\n",
       "      <td>3</td>\n",
       "      <td>0</td>\n",
       "      <td>0.024460</td>\n",
       "      <td>359</td>\n",
       "      <td>Coldplay</td>\n",
       "      <td>Steven Tyler| Joseph Perry| Desmond Child</td>\n",
       "      <td>...</td>\n",
       "      <td>2017</td>\n",
       "      <td>Yellow</td>\n",
       "      <td>GBAYE0000267</td>\n",
       "      <td>2000.0</td>\n",
       "      <td>1</td>\n",
       "      <td>1</td>\n",
       "      <td>3</td>\n",
       "      <td>0</td>\n",
       "      <td>0.124117</td>\n",
       "      <td>0.046064</td>\n",
       "    </tr>\n",
       "    <tr>\n",
       "      <th>1852934</th>\n",
       "      <td>oC0NYrs+pb7zRhh4/6bQCA+Lvp8pfoNtCYEXk/jJtug=</td>\n",
       "      <td>/BAxr8kZjPTsOVE3hBodR8Av30dbfHTnfIcgvt5tQnw=</td>\n",
       "      <td>3</td>\n",
       "      <td>20</td>\n",
       "      <td>3</td>\n",
       "      <td>0</td>\n",
       "      <td>0.025806</td>\n",
       "      <td>2022</td>\n",
       "      <td>Avengers Assemble-OST</td>\n",
       "      <td>no_composer</td>\n",
       "      <td>...</td>\n",
       "      <td>2017</td>\n",
       "      <td>Live To Rise</td>\n",
       "      <td>QMQAV1200001</td>\n",
       "      <td>2012.0</td>\n",
       "      <td>1</td>\n",
       "      <td>1</td>\n",
       "      <td>0</td>\n",
       "      <td>0</td>\n",
       "      <td>0.000000</td>\n",
       "      <td>0.038501</td>\n",
       "    </tr>\n",
       "    <tr>\n",
       "      <th>4969844</th>\n",
       "      <td>7Y1y6HK0RUAVuJISSZE28WaEcP3w4fAfb2L0zf422JY=</td>\n",
       "      <td>7XjSvrL47/EJD2mNR0e2Ja+ed/Dm0j35tKPQLiO2Hjk=</td>\n",
       "      <td>3</td>\n",
       "      <td>8</td>\n",
       "      <td>4</td>\n",
       "      <td>1</td>\n",
       "      <td>0.025098</td>\n",
       "      <td>1609</td>\n",
       "      <td>Marshmello</td>\n",
       "      <td>no_composer</td>\n",
       "      <td>...</td>\n",
       "      <td>2017</td>\n",
       "      <td>Alone</td>\n",
       "      <td>CA6D21600147</td>\n",
       "      <td>2016.0</td>\n",
       "      <td>1</td>\n",
       "      <td>1</td>\n",
       "      <td>0</td>\n",
       "      <td>0</td>\n",
       "      <td>0.173732</td>\n",
       "      <td>0.091268</td>\n",
       "    </tr>\n",
       "    <tr>\n",
       "      <th>5659927</th>\n",
       "      <td>VmVNLJQRDxLsfXpE9ViQWm/H7P/gB/sjye6tdBBwf9s=</td>\n",
       "      <td>YJ49LUR5jj4BudHSL7j/HaxnGIfxMoFLhdNVi6BAeCQ=</td>\n",
       "      <td>7</td>\n",
       "      <td>11</td>\n",
       "      <td>7</td>\n",
       "      <td>0</td>\n",
       "      <td>0.027895</td>\n",
       "      <td>465</td>\n",
       "      <td>黃小琥 (Tiger Huang)</td>\n",
       "      <td>伍思凱</td>\n",
       "      <td>...</td>\n",
       "      <td>2017</td>\n",
       "      <td>不只是朋友</td>\n",
       "      <td>TWA179000401</td>\n",
       "      <td>1990.0</td>\n",
       "      <td>1</td>\n",
       "      <td>1</td>\n",
       "      <td>1</td>\n",
       "      <td>1</td>\n",
       "      <td>0.017742</td>\n",
       "      <td>0.030079</td>\n",
       "    </tr>\n",
       "  </tbody>\n",
       "</table>\n",
       "<p>10 rows × 28 columns</p>\n",
       "</div>"
      ],
      "text/plain": [
       "                                                 msno  \\\n",
       "2807020  fVZedYe9G51wW8jy3Ws7FuF5IKx7zxQYWvPAfCdIRJE=   \n",
       "2565580  HsrmDxxDgi+2jNCouqM9/tAMEharXQDjxs/TbGWBflM=   \n",
       "4316469  6hVgIhV31CwJ9PeWwTuTXhDDFdhwu2vxXzlbA2r8Jks=   \n",
       "4881456  JxeCasSiXlXNir1H3xZZM9k0lqpWhtCsYHTRC5tl7KA=   \n",
       "840248   Er/bmALu5hziIhxjAX96nB8i5csAbncso33zJEwOFBc=   \n",
       "3532869  eU8WVZclSIjgIiuu7uYL3f7pwdw+XmOUjRSE7KlAZv0=   \n",
       "754117   0c3FemPS+wphQliqLMTGFM2hUnnwRHxol7UyMSYJ0BM=   \n",
       "1852934  oC0NYrs+pb7zRhh4/6bQCA+Lvp8pfoNtCYEXk/jJtug=   \n",
       "4969844  7Y1y6HK0RUAVuJISSZE28WaEcP3w4fAfb2L0zf422JY=   \n",
       "5659927  VmVNLJQRDxLsfXpE9ViQWm/H7P/gB/sjye6tdBBwf9s=   \n",
       "\n",
       "                                              song_id  source_system_tab  \\\n",
       "2807020  lCjMoHaoM7Fz3SJsIyvyXldjCGR10FQi3qeFvQGEfB8=                  0   \n",
       "2565580  nnGh305rOmte1K/4D+qsL1LyY6P+jvDlzATIqwbCa/0=                  0   \n",
       "4316469  +Ky0PnZCyYqfRXroxEQOsKACymYfhsj+1qz3trSvcno=                  3   \n",
       "4881456  SKRQpz3EM5UIxT2LCGzK5k0aYg4QtyHWtr0L/EK6By8=                  3   \n",
       "840248   oBx6PpYquxKVkqXn+6gXWJZQTyl5+ckdFp2ZR8mxZ64=                  3   \n",
       "3532869  B8RPBDoaNmSKdIaw41h/JMBeQhdLZhgwsEabAmx3gpE=                  0   \n",
       "754117   caXQoad48M9jS7s0V227KI5i0HnARffYKOxe0fYVtrM=                  0   \n",
       "1852934  /BAxr8kZjPTsOVE3hBodR8Av30dbfHTnfIcgvt5tQnw=                  3   \n",
       "4969844  7XjSvrL47/EJD2mNR0e2Ja+ed/Dm0j35tKPQLiO2Hjk=                  3   \n",
       "5659927  YJ49LUR5jj4BudHSL7j/HaxnGIfxMoFLhdNVi6BAeCQ=                  7   \n",
       "\n",
       "         source_screen_name  source_type  target  song_length genre_ids  \\\n",
       "2807020                   5            7       0     0.019898      1609   \n",
       "2565580                   1           11       1     0.021366       465   \n",
       "4316469                   8            3       1     0.020769       465   \n",
       "4881456                   8            3       1     0.019816       458   \n",
       "840248                    9            4       0     0.024746       465   \n",
       "3532869                  11            7       1     0.023783       458   \n",
       "754117                    8            3       0     0.024460       359   \n",
       "1852934                  20            3       0     0.025806      2022   \n",
       "4969844                   8            4       1     0.025098      1609   \n",
       "5659927                  11            7       0     0.027895       465   \n",
       "\n",
       "                                          artist_name  \\\n",
       "2807020  Afrojack| Dimitri Vegas| Like Mike and NERVO   \n",
       "2565580                                    田馥甄 (Hebe)   \n",
       "4316469                                     G.E.M.鄧紫棋   \n",
       "4881456                                    田馥甄 (Hebe)   \n",
       "840248                                     aMEI (張惠妹)   \n",
       "3532869                             楊丞琳 (Rainie Yang)   \n",
       "754117                                       Coldplay   \n",
       "1852934                         Avengers Assemble-OST   \n",
       "4969844                                    Marshmello   \n",
       "5659927                             黃小琥 (Tiger Huang)   \n",
       "\n",
       "                                          composer  ... expiration_year  \\\n",
       "2807020                                no_composer  ...            2017   \n",
       "2565580                                        劉大江  ...            2017   \n",
       "4316469                                 G.E.M. 鄧紫棋  ...            2017   \n",
       "4881456                                    李宗盛/王力宏  ...            2017   \n",
       "840248                                  Ni Zi Gang  ...            2017   \n",
       "3532869                                Jia Ying Xu  ...            2017   \n",
       "754117   Steven Tyler| Joseph Perry| Desmond Child  ...            2017   \n",
       "1852934                                no_composer  ...            2017   \n",
       "4969844                                no_composer  ...            2017   \n",
       "5659927                                        伍思凱  ...            2017   \n",
       "\n",
       "                                                      name          isrc  \\\n",
       "2807020  The Way We See The World (Tomorrowland Anthem ...  NLC281111869   \n",
       "2565580                                               不醉不會  TWD951343101   \n",
       "4316469                                     盲點 (Blindspot)  HKI111500005   \n",
       "4881456                                              凡人歌+火  TWD951676102   \n",
       "840248                                來鬧的 (Party Crashers)  TWEM31104008   \n",
       "3532869                                                 點水  TWUM71400085   \n",
       "754117                                              Yellow  GBAYE0000267   \n",
       "1852934                                       Live To Rise  QMQAV1200001   \n",
       "4969844                                              Alone  CA6D21600147   \n",
       "5659927                                              不只是朋友  TWA179000401   \n",
       "\n",
       "           year  genre_ids_count  artist_count  composer_count  \\\n",
       "2807020  2011.0                1             3               0   \n",
       "2565580  2013.0                1             1               1   \n",
       "4316469  2015.0                1             1               1   \n",
       "4881456  2016.0                1             1               2   \n",
       "840248   2011.0                1             1               1   \n",
       "3532869  2014.0                1             1               1   \n",
       "754117   2000.0                1             1               3   \n",
       "1852934  2012.0                1             1               0   \n",
       "4969844  2016.0                1             1               0   \n",
       "5659927  1990.0                1             1               1   \n",
       "\n",
       "         lyricist_count  number_of_time_played user_activity_msno  \n",
       "2807020               0               0.017983           0.275696  \n",
       "2565580               1               0.285726           0.199553  \n",
       "4316469               1               0.032193           0.148677  \n",
       "4881456               4               0.139772           0.161396  \n",
       "840248                1               0.001846           0.040908  \n",
       "3532869               0               0.103003           0.155380  \n",
       "754117                0               0.124117           0.046064  \n",
       "1852934               0               0.000000           0.038501  \n",
       "4969844               0               0.173732           0.091268  \n",
       "5659927               1               0.017742           0.030079  \n",
       "\n",
       "[10 rows x 28 columns]"
      ]
     },
     "execution_count": 23,
     "metadata": {},
     "output_type": "execute_result"
    }
   ],
   "source": [
    "train.sample(10)"
   ]
  },
  {
   "cell_type": "code",
   "execution_count": 24,
   "id": "97700cdb-1e04-4c9b-adca-c9fe44b2b2fb",
   "metadata": {},
   "outputs": [
    {
     "data": {
      "text/html": [
       "<div>\n",
       "<style scoped>\n",
       "    .dataframe tbody tr th:only-of-type {\n",
       "        vertical-align: middle;\n",
       "    }\n",
       "\n",
       "    .dataframe tbody tr th {\n",
       "        vertical-align: top;\n",
       "    }\n",
       "\n",
       "    .dataframe thead th {\n",
       "        text-align: right;\n",
       "    }\n",
       "</style>\n",
       "<table border=\"1\" class=\"dataframe\">\n",
       "  <thead>\n",
       "    <tr style=\"text-align: right;\">\n",
       "      <th></th>\n",
       "      <th>msno</th>\n",
       "      <th>song_id</th>\n",
       "      <th>source_system_tab</th>\n",
       "      <th>source_screen_name</th>\n",
       "      <th>source_type</th>\n",
       "      <th>song_length</th>\n",
       "      <th>genre_ids</th>\n",
       "      <th>artist_name</th>\n",
       "      <th>composer</th>\n",
       "      <th>lyricist</th>\n",
       "      <th>...</th>\n",
       "      <th>expiration_year</th>\n",
       "      <th>name</th>\n",
       "      <th>isrc</th>\n",
       "      <th>year</th>\n",
       "      <th>genre_ids_count</th>\n",
       "      <th>artist_count</th>\n",
       "      <th>composer_count</th>\n",
       "      <th>lyricist_count</th>\n",
       "      <th>number_of_time_played</th>\n",
       "      <th>user_activity_msno</th>\n",
       "    </tr>\n",
       "  </thead>\n",
       "  <tbody>\n",
       "    <tr>\n",
       "      <th>0</th>\n",
       "      <td>+fzJ5Uou/rxl1pXlebOEBHFKC4LBwDfgnc2R7287CVs=</td>\n",
       "      <td>JTVy3aCLoTFkqPK4pkGBy0YTlH0zpkubCoKMh07WYfM=</td>\n",
       "      <td>3</td>\n",
       "      <td>8</td>\n",
       "      <td>3</td>\n",
       "      <td>0.023793</td>\n",
       "      <td>465</td>\n",
       "      <td>楊韻禾 (Melody Yeung)</td>\n",
       "      <td>楊韻禾Mel Yeung / 陳熙Josh Chen</td>\n",
       "      <td>崔惟楷Luke”skywalker”Tsui</td>\n",
       "      <td>...</td>\n",
       "      <td>2017</td>\n",
       "      <td>你不知道</td>\n",
       "      <td>TWJ970700301</td>\n",
       "      <td>2007.0</td>\n",
       "      <td>1</td>\n",
       "      <td>1</td>\n",
       "      <td>2</td>\n",
       "      <td>1</td>\n",
       "      <td>0.012364</td>\n",
       "      <td>0.113441</td>\n",
       "    </tr>\n",
       "    <tr>\n",
       "      <th>1</th>\n",
       "      <td>+fzJ5Uou/rxl1pXlebOEBHFKC4LBwDfgnc2R7287CVs=</td>\n",
       "      <td>2TR1fCpa5/ac/xe+hdOe52nBZ6afSU49gsGQbhTQVzk=</td>\n",
       "      <td>3</td>\n",
       "      <td>8</td>\n",
       "      <td>3</td>\n",
       "      <td>0.017543</td>\n",
       "      <td>465</td>\n",
       "      <td>倪安東 (Anthony Neely)</td>\n",
       "      <td>Skot Suyama 陶山| 倪安東</td>\n",
       "      <td>倪安東</td>\n",
       "      <td>...</td>\n",
       "      <td>2017</td>\n",
       "      <td>Wake up</td>\n",
       "      <td>TWD951244101</td>\n",
       "      <td>2012.0</td>\n",
       "      <td>1</td>\n",
       "      <td>1</td>\n",
       "      <td>2</td>\n",
       "      <td>1</td>\n",
       "      <td>0.008992</td>\n",
       "      <td>0.113441</td>\n",
       "    </tr>\n",
       "    <tr>\n",
       "      <th>2</th>\n",
       "      <td>+fzJ5Uou/rxl1pXlebOEBHFKC4LBwDfgnc2R7287CVs=</td>\n",
       "      <td>wev1Fi6KYkCSFAstQfhxJPZv7wkn8wGepys+KDmeBy4=</td>\n",
       "      <td>3</td>\n",
       "      <td>8</td>\n",
       "      <td>3</td>\n",
       "      <td>0.018721</td>\n",
       "      <td>359</td>\n",
       "      <td>Various Artists</td>\n",
       "      <td>Noah Feldshuh| Casey Harris| Sam Harris| A. Gr...</td>\n",
       "      <td>no_lyricist</td>\n",
       "      <td>...</td>\n",
       "      <td>2017</td>\n",
       "      <td>Unsteady</td>\n",
       "      <td>USUM71603401</td>\n",
       "      <td>2016.0</td>\n",
       "      <td>1</td>\n",
       "      <td>1</td>\n",
       "      <td>5</td>\n",
       "      <td>0</td>\n",
       "      <td>0.105010</td>\n",
       "      <td>0.113441</td>\n",
       "    </tr>\n",
       "    <tr>\n",
       "      <th>3</th>\n",
       "      <td>v04FgzXSdai5doJPrcwbrQTMbnETwLB5Li0t36X6kSQ=</td>\n",
       "      <td>NhQfOVnptpW5z5qsP/sN+hVS8TM2iYvdy/ZGVe7K+kM=</td>\n",
       "      <td>3</td>\n",
       "      <td>8</td>\n",
       "      <td>3</td>\n",
       "      <td>0.026767</td>\n",
       "      <td>1259</td>\n",
       "      <td>Rae Sremmurd</td>\n",
       "      <td>A.Brown| Radric Davis| Michael L. Williams II|...</td>\n",
       "      <td>no_lyricist</td>\n",
       "      <td>...</td>\n",
       "      <td>2017</td>\n",
       "      <td>Black Beatles</td>\n",
       "      <td>USUM71603293</td>\n",
       "      <td>2016.0</td>\n",
       "      <td>1</td>\n",
       "      <td>1</td>\n",
       "      <td>4</td>\n",
       "      <td>0</td>\n",
       "      <td>0.287653</td>\n",
       "      <td>0.059471</td>\n",
       "    </tr>\n",
       "    <tr>\n",
       "      <th>4</th>\n",
       "      <td>Rw5fS0aEzNBUaVMFQLpD2oW11xH2Jv107h49EUVXiTM=</td>\n",
       "      <td>OakhL7CLirelAGEP9sYyP6fmTa8HV1mD/qVdpM6o5uE=</td>\n",
       "      <td>0</td>\n",
       "      <td>11</td>\n",
       "      <td>7</td>\n",
       "      <td>0.023725</td>\n",
       "      <td>no_genre_id</td>\n",
       "      <td>G.E.M.鄧紫棋</td>\n",
       "      <td>no_composer</td>\n",
       "      <td>no_lyricist</td>\n",
       "      <td>...</td>\n",
       "      <td>2017</td>\n",
       "      <td>泡沫</td>\n",
       "      <td>HKI111200214</td>\n",
       "      <td>2012.0</td>\n",
       "      <td>0</td>\n",
       "      <td>1</td>\n",
       "      <td>0</td>\n",
       "      <td>0</td>\n",
       "      <td>0.456888</td>\n",
       "      <td>0.115332</td>\n",
       "    </tr>\n",
       "  </tbody>\n",
       "</table>\n",
       "<p>5 rows × 27 columns</p>\n",
       "</div>"
      ],
      "text/plain": [
       "                                           msno  \\\n",
       "0  +fzJ5Uou/rxl1pXlebOEBHFKC4LBwDfgnc2R7287CVs=   \n",
       "1  +fzJ5Uou/rxl1pXlebOEBHFKC4LBwDfgnc2R7287CVs=   \n",
       "2  +fzJ5Uou/rxl1pXlebOEBHFKC4LBwDfgnc2R7287CVs=   \n",
       "3  v04FgzXSdai5doJPrcwbrQTMbnETwLB5Li0t36X6kSQ=   \n",
       "4  Rw5fS0aEzNBUaVMFQLpD2oW11xH2Jv107h49EUVXiTM=   \n",
       "\n",
       "                                        song_id  source_system_tab  \\\n",
       "0  JTVy3aCLoTFkqPK4pkGBy0YTlH0zpkubCoKMh07WYfM=                  3   \n",
       "1  2TR1fCpa5/ac/xe+hdOe52nBZ6afSU49gsGQbhTQVzk=                  3   \n",
       "2  wev1Fi6KYkCSFAstQfhxJPZv7wkn8wGepys+KDmeBy4=                  3   \n",
       "3  NhQfOVnptpW5z5qsP/sN+hVS8TM2iYvdy/ZGVe7K+kM=                  3   \n",
       "4  OakhL7CLirelAGEP9sYyP6fmTa8HV1mD/qVdpM6o5uE=                  0   \n",
       "\n",
       "   source_screen_name  source_type  song_length    genre_ids  \\\n",
       "0                   8            3     0.023793          465   \n",
       "1                   8            3     0.017543          465   \n",
       "2                   8            3     0.018721          359   \n",
       "3                   8            3     0.026767         1259   \n",
       "4                  11            7     0.023725  no_genre_id   \n",
       "\n",
       "           artist_name                                           composer  \\\n",
       "0   楊韻禾 (Melody Yeung)                         楊韻禾Mel Yeung / 陳熙Josh Chen   \n",
       "1  倪安東 (Anthony Neely)                                Skot Suyama 陶山| 倪安東   \n",
       "2      Various Artists  Noah Feldshuh| Casey Harris| Sam Harris| A. Gr...   \n",
       "3         Rae Sremmurd  A.Brown| Radric Davis| Michael L. Williams II|...   \n",
       "4            G.E.M.鄧紫棋                                        no_composer   \n",
       "\n",
       "                 lyricist  ...  expiration_year           name          isrc  \\\n",
       "0  崔惟楷Luke”skywalker”Tsui  ...             2017           你不知道  TWJ970700301   \n",
       "1                     倪安東  ...             2017        Wake up  TWD951244101   \n",
       "2             no_lyricist  ...             2017       Unsteady  USUM71603401   \n",
       "3             no_lyricist  ...             2017  Black Beatles  USUM71603293   \n",
       "4             no_lyricist  ...             2017             泡沫  HKI111200214   \n",
       "\n",
       "     year  genre_ids_count  artist_count  composer_count  lyricist_count  \\\n",
       "0  2007.0                1             1               2               1   \n",
       "1  2012.0                1             1               2               1   \n",
       "2  2016.0                1             1               5               0   \n",
       "3  2016.0                1             1               4               0   \n",
       "4  2012.0                0             1               0               0   \n",
       "\n",
       "  number_of_time_played user_activity_msno  \n",
       "0              0.012364           0.113441  \n",
       "1              0.008992           0.113441  \n",
       "2              0.105010           0.113441  \n",
       "3              0.287653           0.059471  \n",
       "4              0.456888           0.115332  \n",
       "\n",
       "[5 rows x 27 columns]"
      ]
     },
     "execution_count": 24,
     "metadata": {},
     "output_type": "execute_result"
    }
   ],
   "source": [
    "test.head()"
   ]
  },
  {
   "cell_type": "code",
   "execution_count": 25,
   "id": "0060fcaf-708e-4329-be0e-9773d7765590",
   "metadata": {},
   "outputs": [],
   "source": [
    "X_train = train.drop(columns = ['target'] , axis = 1)\n",
    "Y_train = train['target'].values\n",
    "X_test = test\n",
    "train_set = lgb.Dataset(X_train , Y_train)"
   ]
  },
  {
   "cell_type": "markdown",
   "id": "a7ad1021-aa8c-4332-9472-3bd7dbe257fb",
   "metadata": {},
   "source": [
    "**Обучим модель**\n",
    "\n",
    "Метрика взята та, что предлагалась в соревновании на kaggle. Гиперпараметры подобраны с помощью GridSearch"
   ]
  },
  {
   "cell_type": "code",
   "execution_count": 26,
   "id": "73d02f99-3526-4061-9f74-331c741c7085",
   "metadata": {},
   "outputs": [
    {
     "name": "stdout",
     "output_type": "stream",
     "text": [
      "[LightGBM] [Warning] Auto-choosing col-wise multi-threading, the overhead of testing was 1.320865 seconds.\n",
      "You can set `force_col_wise=true` to remove the overhead.\n",
      "[5]\ttraining's auc: 0.746113\n",
      "[10]\ttraining's auc: 0.759458\n",
      "[15]\ttraining's auc: 0.767933\n",
      "[20]\ttraining's auc: 0.772295\n",
      "[25]\ttraining's auc: 0.77571\n",
      "[30]\ttraining's auc: 0.7789\n",
      "[35]\ttraining's auc: 0.781546\n",
      "[40]\ttraining's auc: 0.785311\n",
      "[45]\ttraining's auc: 0.787591\n",
      "[50]\ttraining's auc: 0.789403\n",
      "[55]\ttraining's auc: 0.791405\n",
      "[60]\ttraining's auc: 0.793006\n",
      "[65]\ttraining's auc: 0.794476\n",
      "[70]\ttraining's auc: 0.796014\n",
      "[75]\ttraining's auc: 0.797188\n",
      "[80]\ttraining's auc: 0.798467\n",
      "[85]\ttraining's auc: 0.799807\n",
      "[90]\ttraining's auc: 0.801043\n",
      "[95]\ttraining's auc: 0.802085\n",
      "[100]\ttraining's auc: 0.803183\n",
      "[105]\ttraining's auc: 0.804908\n",
      "[110]\ttraining's auc: 0.805938\n",
      "[115]\ttraining's auc: 0.807229\n",
      "[120]\ttraining's auc: 0.80831\n",
      "[125]\ttraining's auc: 0.809099\n",
      "[130]\ttraining's auc: 0.810497\n",
      "[135]\ttraining's auc: 0.811378\n",
      "[140]\ttraining's auc: 0.812176\n",
      "[145]\ttraining's auc: 0.81293\n",
      "[150]\ttraining's auc: 0.813751\n",
      "[155]\ttraining's auc: 0.814684\n",
      "[160]\ttraining's auc: 0.815303\n",
      "[165]\ttraining's auc: 0.815915\n",
      "[170]\ttraining's auc: 0.81652\n",
      "[175]\ttraining's auc: 0.817294\n",
      "[180]\ttraining's auc: 0.817902\n",
      "[185]\ttraining's auc: 0.818474\n",
      "[190]\ttraining's auc: 0.819106\n",
      "[195]\ttraining's auc: 0.819868\n",
      "[200]\ttraining's auc: 0.820575\n"
     ]
    }
   ],
   "source": [
    "params = {\n",
    "        'objective': 'binary',\n",
    "        'boosting': 'gbdt',\n",
    "        'learning_rate': 0.3 ,\n",
    "        'verbose': 0,\n",
    "        'num_leaves': 108,\n",
    "        'bagging_fraction': 0.95,\n",
    "        'bagging_freq': 1,\n",
    "        'bagging_seed': 1,\n",
    "        'feature_fraction': 0.9,\n",
    "        'feature_fraction_seed': 1,\n",
    "        'max_bin': 256,\n",
    "        'max_depth': 10,\n",
    "        'num_rounds': 200,\n",
    "        'metric' : 'auc'\n",
    "    }\n",
    "\n",
    "mus_model = lgb.train(params, train_set=train_set,  valid_sets=train_set, verbose_eval=5)"
   ]
  },
  {
   "cell_type": "markdown",
   "id": "143c4484-25de-4991-adcf-cd5d12698162",
   "metadata": {},
   "source": [
    "Получим предсказания"
   ]
  },
  {
   "cell_type": "code",
   "execution_count": 172,
   "id": "66b0d7fb-d75c-4745-a19f-22bbb79365c5",
   "metadata": {},
   "outputs": [
    {
     "name": "stdout",
     "output_type": "stream",
     "text": [
      "Saving Predictions\n"
     ]
    }
   ],
   "source": [
    "pred_test = mus_model.predict(X_test)\n",
    "print('Saving Predictions')\n",
    "sub = pd.DataFrame()\n",
    "sub['id'] = ids\n",
    "sub['target'] = pred_test\n"
   ]
  },
  {
   "cell_type": "code",
   "execution_count": 173,
   "id": "d2133f97-3e30-4526-8251-0f7661fb1870",
   "metadata": {},
   "outputs": [
    {
     "data": {
      "text/html": [
       "<div>\n",
       "<style scoped>\n",
       "    .dataframe tbody tr th:only-of-type {\n",
       "        vertical-align: middle;\n",
       "    }\n",
       "\n",
       "    .dataframe tbody tr th {\n",
       "        vertical-align: top;\n",
       "    }\n",
       "\n",
       "    .dataframe thead th {\n",
       "        text-align: right;\n",
       "    }\n",
       "</style>\n",
       "<table border=\"1\" class=\"dataframe\">\n",
       "  <thead>\n",
       "    <tr style=\"text-align: right;\">\n",
       "      <th></th>\n",
       "      <th>id</th>\n",
       "      <th>target</th>\n",
       "    </tr>\n",
       "  </thead>\n",
       "  <tbody>\n",
       "    <tr>\n",
       "      <th>0</th>\n",
       "      <td>5901934</td>\n",
       "      <td>0.608071</td>\n",
       "    </tr>\n",
       "    <tr>\n",
       "      <th>1</th>\n",
       "      <td>5901935</td>\n",
       "      <td>0.606847</td>\n",
       "    </tr>\n",
       "    <tr>\n",
       "      <th>2</th>\n",
       "      <td>5901936</td>\n",
       "      <td>0.690614</td>\n",
       "    </tr>\n",
       "    <tr>\n",
       "      <th>3</th>\n",
       "      <td>5901937</td>\n",
       "      <td>0.881739</td>\n",
       "    </tr>\n",
       "    <tr>\n",
       "      <th>4</th>\n",
       "      <td>5901938</td>\n",
       "      <td>0.405727</td>\n",
       "    </tr>\n",
       "    <tr>\n",
       "      <th>...</th>\n",
       "      <td>...</td>\n",
       "      <td>...</td>\n",
       "    </tr>\n",
       "    <tr>\n",
       "      <th>1475479</th>\n",
       "      <td>7377413</td>\n",
       "      <td>0.606918</td>\n",
       "    </tr>\n",
       "    <tr>\n",
       "      <th>1475480</th>\n",
       "      <td>7377414</td>\n",
       "      <td>0.703352</td>\n",
       "    </tr>\n",
       "    <tr>\n",
       "      <th>1475481</th>\n",
       "      <td>7377415</td>\n",
       "      <td>0.879124</td>\n",
       "    </tr>\n",
       "    <tr>\n",
       "      <th>1475482</th>\n",
       "      <td>7377416</td>\n",
       "      <td>0.640898</td>\n",
       "    </tr>\n",
       "    <tr>\n",
       "      <th>1475483</th>\n",
       "      <td>7377417</td>\n",
       "      <td>0.576753</td>\n",
       "    </tr>\n",
       "  </tbody>\n",
       "</table>\n",
       "<p>1475484 rows × 2 columns</p>\n",
       "</div>"
      ],
      "text/plain": [
       "              id    target\n",
       "0        5901934  0.608071\n",
       "1        5901935  0.606847\n",
       "2        5901936  0.690614\n",
       "3        5901937  0.881739\n",
       "4        5901938  0.405727\n",
       "...          ...       ...\n",
       "1475479  7377413  0.606918\n",
       "1475480  7377414  0.703352\n",
       "1475481  7377415  0.879124\n",
       "1475482  7377416  0.640898\n",
       "1475483  7377417  0.576753\n",
       "\n",
       "[1475484 rows x 2 columns]"
      ]
     },
     "execution_count": 173,
     "metadata": {},
     "output_type": "execute_result"
    }
   ],
   "source": [
    "sub"
   ]
  },
  {
   "cell_type": "markdown",
   "id": "9775e496-d84e-47e8-ba70-e7ad367feaec",
   "metadata": {},
   "source": [
    "**Подготовим датафрейм для вычисления метрики**\n",
    "\n",
    "Для этого для каждого пользователя сгруппируем списки из предсказанных и истинных песен"
   ]
  },
  {
   "cell_type": "code",
   "execution_count": 174,
   "id": "dc35cf65-da83-4214-8021-ab4febc1453f",
   "metadata": {},
   "outputs": [],
   "source": [
    "def round_value(x):\n",
    "    return round(x)  \n",
    "\n",
    "sub['target'] = sub['target'].apply(round_value)"
   ]
  },
  {
   "cell_type": "code",
   "execution_count": 175,
   "id": "c86371a2-4e87-476a-93c2-6d0245ece273",
   "metadata": {},
   "outputs": [],
   "source": [
    "df_new1 = train[['msno', 'song_id']]"
   ]
  },
  {
   "cell_type": "code",
   "execution_count": 176,
   "id": "f8f6b82f-9058-4d27-a81d-8ef5486e4bbf",
   "metadata": {},
   "outputs": [
    {
     "name": "stdout",
     "output_type": "stream",
     "text": [
      "(5901934, 2)\n"
     ]
    },
    {
     "data": {
      "text/html": [
       "<div>\n",
       "<style scoped>\n",
       "    .dataframe tbody tr th:only-of-type {\n",
       "        vertical-align: middle;\n",
       "    }\n",
       "\n",
       "    .dataframe tbody tr th {\n",
       "        vertical-align: top;\n",
       "    }\n",
       "\n",
       "    .dataframe thead th {\n",
       "        text-align: right;\n",
       "    }\n",
       "</style>\n",
       "<table border=\"1\" class=\"dataframe\">\n",
       "  <thead>\n",
       "    <tr style=\"text-align: right;\">\n",
       "      <th></th>\n",
       "      <th>msno</th>\n",
       "      <th>song_id</th>\n",
       "    </tr>\n",
       "  </thead>\n",
       "  <tbody>\n",
       "    <tr>\n",
       "      <th>0</th>\n",
       "      <td>FGtllVqz18RPiwJj/edr2gV78zirAiY/9SmYvia+kCg=</td>\n",
       "      <td>BBzumQNXUHKdEBOB7mAJuzok+IJA1c2Ryg/yzTF6tik=</td>\n",
       "    </tr>\n",
       "    <tr>\n",
       "      <th>1</th>\n",
       "      <td>Xumu+NIjS6QYVxDS4/t3SawvJ7viT9hPKXmf0RtLNx8=</td>\n",
       "      <td>bhp/MpSNoqoxOIB+/l8WPqu6jldth4DIpCm3ayXnJqM=</td>\n",
       "    </tr>\n",
       "    <tr>\n",
       "      <th>2</th>\n",
       "      <td>Xumu+NIjS6QYVxDS4/t3SawvJ7viT9hPKXmf0RtLNx8=</td>\n",
       "      <td>JNWfrrC7zNN7BdMpsISKa4Mw+xVJYNnxXh3/Epw7QgY=</td>\n",
       "    </tr>\n",
       "    <tr>\n",
       "      <th>3</th>\n",
       "      <td>Xumu+NIjS6QYVxDS4/t3SawvJ7viT9hPKXmf0RtLNx8=</td>\n",
       "      <td>2A87tzfnJTSWqD7gIZHisolhe4DMdzkbd6LzO1KHjNs=</td>\n",
       "    </tr>\n",
       "    <tr>\n",
       "      <th>4</th>\n",
       "      <td>FGtllVqz18RPiwJj/edr2gV78zirAiY/9SmYvia+kCg=</td>\n",
       "      <td>3qm6XTZ6MOCU11x8FIVbAGH5l5uMkT3/ZalWG1oo2Gc=</td>\n",
       "    </tr>\n",
       "    <tr>\n",
       "      <th>...</th>\n",
       "      <td>...</td>\n",
       "      <td>...</td>\n",
       "    </tr>\n",
       "    <tr>\n",
       "      <th>5901929</th>\n",
       "      <td>+fzJ5Uou/rxl1pXlebOEBHFKC4LBwDfgnc2R7287CVs=</td>\n",
       "      <td>/r/F8SsC84+7/rg/BwlZnTlGzyCOX3Y8UdDkbY/0ZIA=</td>\n",
       "    </tr>\n",
       "    <tr>\n",
       "      <th>5901930</th>\n",
       "      <td>+fzJ5Uou/rxl1pXlebOEBHFKC4LBwDfgnc2R7287CVs=</td>\n",
       "      <td>vMmYn3V5T7jv+EVVUBRbiUdO/wNDjCCio3CgaXMJ/eU=</td>\n",
       "    </tr>\n",
       "    <tr>\n",
       "      <th>5901931</th>\n",
       "      <td>+fzJ5Uou/rxl1pXlebOEBHFKC4LBwDfgnc2R7287CVs=</td>\n",
       "      <td>b8Ec5KHbhiJc+Aeg4hgVx7mkdk5UlDZyW48Y1OfyqBU=</td>\n",
       "    </tr>\n",
       "    <tr>\n",
       "      <th>5901932</th>\n",
       "      <td>+fzJ5Uou/rxl1pXlebOEBHFKC4LBwDfgnc2R7287CVs=</td>\n",
       "      <td>fwaxN4NL0q27tHQq4VEPCKVTywMIGqImrgRvFLnrVJw=</td>\n",
       "    </tr>\n",
       "    <tr>\n",
       "      <th>5901933</th>\n",
       "      <td>+fzJ5Uou/rxl1pXlebOEBHFKC4LBwDfgnc2R7287CVs=</td>\n",
       "      <td>yqZjiUmLn/+h6g047I0LNxX3UoS60z3PJacJOFcxFMU=</td>\n",
       "    </tr>\n",
       "  </tbody>\n",
       "</table>\n",
       "<p>5901934 rows × 2 columns</p>\n",
       "</div>"
      ],
      "text/plain": [
       "                                                 msno  \\\n",
       "0        FGtllVqz18RPiwJj/edr2gV78zirAiY/9SmYvia+kCg=   \n",
       "1        Xumu+NIjS6QYVxDS4/t3SawvJ7viT9hPKXmf0RtLNx8=   \n",
       "2        Xumu+NIjS6QYVxDS4/t3SawvJ7viT9hPKXmf0RtLNx8=   \n",
       "3        Xumu+NIjS6QYVxDS4/t3SawvJ7viT9hPKXmf0RtLNx8=   \n",
       "4        FGtllVqz18RPiwJj/edr2gV78zirAiY/9SmYvia+kCg=   \n",
       "...                                               ...   \n",
       "5901929  +fzJ5Uou/rxl1pXlebOEBHFKC4LBwDfgnc2R7287CVs=   \n",
       "5901930  +fzJ5Uou/rxl1pXlebOEBHFKC4LBwDfgnc2R7287CVs=   \n",
       "5901931  +fzJ5Uou/rxl1pXlebOEBHFKC4LBwDfgnc2R7287CVs=   \n",
       "5901932  +fzJ5Uou/rxl1pXlebOEBHFKC4LBwDfgnc2R7287CVs=   \n",
       "5901933  +fzJ5Uou/rxl1pXlebOEBHFKC4LBwDfgnc2R7287CVs=   \n",
       "\n",
       "                                              song_id  \n",
       "0        BBzumQNXUHKdEBOB7mAJuzok+IJA1c2Ryg/yzTF6tik=  \n",
       "1        bhp/MpSNoqoxOIB+/l8WPqu6jldth4DIpCm3ayXnJqM=  \n",
       "2        JNWfrrC7zNN7BdMpsISKa4Mw+xVJYNnxXh3/Epw7QgY=  \n",
       "3        2A87tzfnJTSWqD7gIZHisolhe4DMdzkbd6LzO1KHjNs=  \n",
       "4        3qm6XTZ6MOCU11x8FIVbAGH5l5uMkT3/ZalWG1oo2Gc=  \n",
       "...                                               ...  \n",
       "5901929  /r/F8SsC84+7/rg/BwlZnTlGzyCOX3Y8UdDkbY/0ZIA=  \n",
       "5901930  vMmYn3V5T7jv+EVVUBRbiUdO/wNDjCCio3CgaXMJ/eU=  \n",
       "5901931  b8Ec5KHbhiJc+Aeg4hgVx7mkdk5UlDZyW48Y1OfyqBU=  \n",
       "5901932  fwaxN4NL0q27tHQq4VEPCKVTywMIGqImrgRvFLnrVJw=  \n",
       "5901933  yqZjiUmLn/+h6g047I0LNxX3UoS60z3PJacJOFcxFMU=  \n",
       "\n",
       "[5901934 rows x 2 columns]"
      ]
     },
     "execution_count": 176,
     "metadata": {},
     "output_type": "execute_result"
    }
   ],
   "source": [
    "print(df_new1.shape)\n",
    "df_new1"
   ]
  },
  {
   "cell_type": "code",
   "execution_count": 177,
   "id": "8cfc1bcd-a6b6-446a-af0b-9ae35a9f4245",
   "metadata": {},
   "outputs": [],
   "source": [
    "df_new2 = sub['target']"
   ]
  },
  {
   "cell_type": "code",
   "execution_count": 178,
   "id": "fd6df4a6-7dd4-4180-9b42-a432cb299280",
   "metadata": {},
   "outputs": [
    {
     "data": {
      "text/html": [
       "<div>\n",
       "<style scoped>\n",
       "    .dataframe tbody tr th:only-of-type {\n",
       "        vertical-align: middle;\n",
       "    }\n",
       "\n",
       "    .dataframe tbody tr th {\n",
       "        vertical-align: top;\n",
       "    }\n",
       "\n",
       "    .dataframe thead th {\n",
       "        text-align: right;\n",
       "    }\n",
       "</style>\n",
       "<table border=\"1\" class=\"dataframe\">\n",
       "  <thead>\n",
       "    <tr style=\"text-align: right;\">\n",
       "      <th></th>\n",
       "      <th>msno</th>\n",
       "      <th>song_id</th>\n",
       "      <th>target</th>\n",
       "    </tr>\n",
       "  </thead>\n",
       "  <tbody>\n",
       "    <tr>\n",
       "      <th>0</th>\n",
       "      <td>FGtllVqz18RPiwJj/edr2gV78zirAiY/9SmYvia+kCg=</td>\n",
       "      <td>BBzumQNXUHKdEBOB7mAJuzok+IJA1c2Ryg/yzTF6tik=</td>\n",
       "      <td>1</td>\n",
       "    </tr>\n",
       "    <tr>\n",
       "      <th>1</th>\n",
       "      <td>Xumu+NIjS6QYVxDS4/t3SawvJ7viT9hPKXmf0RtLNx8=</td>\n",
       "      <td>bhp/MpSNoqoxOIB+/l8WPqu6jldth4DIpCm3ayXnJqM=</td>\n",
       "      <td>1</td>\n",
       "    </tr>\n",
       "    <tr>\n",
       "      <th>2</th>\n",
       "      <td>Xumu+NIjS6QYVxDS4/t3SawvJ7viT9hPKXmf0RtLNx8=</td>\n",
       "      <td>JNWfrrC7zNN7BdMpsISKa4Mw+xVJYNnxXh3/Epw7QgY=</td>\n",
       "      <td>1</td>\n",
       "    </tr>\n",
       "    <tr>\n",
       "      <th>3</th>\n",
       "      <td>Xumu+NIjS6QYVxDS4/t3SawvJ7viT9hPKXmf0RtLNx8=</td>\n",
       "      <td>2A87tzfnJTSWqD7gIZHisolhe4DMdzkbd6LzO1KHjNs=</td>\n",
       "      <td>1</td>\n",
       "    </tr>\n",
       "    <tr>\n",
       "      <th>4</th>\n",
       "      <td>FGtllVqz18RPiwJj/edr2gV78zirAiY/9SmYvia+kCg=</td>\n",
       "      <td>3qm6XTZ6MOCU11x8FIVbAGH5l5uMkT3/ZalWG1oo2Gc=</td>\n",
       "      <td>0</td>\n",
       "    </tr>\n",
       "    <tr>\n",
       "      <th>...</th>\n",
       "      <td>...</td>\n",
       "      <td>...</td>\n",
       "      <td>...</td>\n",
       "    </tr>\n",
       "    <tr>\n",
       "      <th>1475479</th>\n",
       "      <td>+2XBp2p9atTpyVPWac3SEEW41i8Xrnl7Utl/h8T4iOo=</td>\n",
       "      <td>YOcFhs4/oIc6A6/FKsq2xkGTISDjJH/zvWGrz+Bk7V4=</td>\n",
       "      <td>1</td>\n",
       "    </tr>\n",
       "    <tr>\n",
       "      <th>1475480</th>\n",
       "      <td>pJo7ICjSB0lWzeDQCoQpyUfMKVjiXP5/p4cBhC/KzTc=</td>\n",
       "      <td>AeFYUj/BA1epsa5mS3uQxbbS04PKiUr84gSVH430N24=</td>\n",
       "      <td>1</td>\n",
       "    </tr>\n",
       "    <tr>\n",
       "      <th>1475481</th>\n",
       "      <td>pJo7ICjSB0lWzeDQCoQpyUfMKVjiXP5/p4cBhC/KzTc=</td>\n",
       "      <td>rQiV+w5ivD+o/Bi7noG2B4JjmA/h/Sxuxnl3wCaqb6s=</td>\n",
       "      <td>1</td>\n",
       "    </tr>\n",
       "    <tr>\n",
       "      <th>1475482</th>\n",
       "      <td>pJo7ICjSB0lWzeDQCoQpyUfMKVjiXP5/p4cBhC/KzTc=</td>\n",
       "      <td>bTlSHgnwaBMIKHseTFHanJ3Zr4x82ybrGkexpnxDhTY=</td>\n",
       "      <td>1</td>\n",
       "    </tr>\n",
       "    <tr>\n",
       "      <th>1475483</th>\n",
       "      <td>pJo7ICjSB0lWzeDQCoQpyUfMKVjiXP5/p4cBhC/KzTc=</td>\n",
       "      <td>2TRbIVA1b9oCfz/BP0Cs18S9MlfZlSarTUMmjOrCmxI=</td>\n",
       "      <td>1</td>\n",
       "    </tr>\n",
       "  </tbody>\n",
       "</table>\n",
       "<p>1475484 rows × 3 columns</p>\n",
       "</div>"
      ],
      "text/plain": [
       "                                                 msno  \\\n",
       "0        FGtllVqz18RPiwJj/edr2gV78zirAiY/9SmYvia+kCg=   \n",
       "1        Xumu+NIjS6QYVxDS4/t3SawvJ7viT9hPKXmf0RtLNx8=   \n",
       "2        Xumu+NIjS6QYVxDS4/t3SawvJ7viT9hPKXmf0RtLNx8=   \n",
       "3        Xumu+NIjS6QYVxDS4/t3SawvJ7viT9hPKXmf0RtLNx8=   \n",
       "4        FGtllVqz18RPiwJj/edr2gV78zirAiY/9SmYvia+kCg=   \n",
       "...                                               ...   \n",
       "1475479  +2XBp2p9atTpyVPWac3SEEW41i8Xrnl7Utl/h8T4iOo=   \n",
       "1475480  pJo7ICjSB0lWzeDQCoQpyUfMKVjiXP5/p4cBhC/KzTc=   \n",
       "1475481  pJo7ICjSB0lWzeDQCoQpyUfMKVjiXP5/p4cBhC/KzTc=   \n",
       "1475482  pJo7ICjSB0lWzeDQCoQpyUfMKVjiXP5/p4cBhC/KzTc=   \n",
       "1475483  pJo7ICjSB0lWzeDQCoQpyUfMKVjiXP5/p4cBhC/KzTc=   \n",
       "\n",
       "                                              song_id  target  \n",
       "0        BBzumQNXUHKdEBOB7mAJuzok+IJA1c2Ryg/yzTF6tik=       1  \n",
       "1        bhp/MpSNoqoxOIB+/l8WPqu6jldth4DIpCm3ayXnJqM=       1  \n",
       "2        JNWfrrC7zNN7BdMpsISKa4Mw+xVJYNnxXh3/Epw7QgY=       1  \n",
       "3        2A87tzfnJTSWqD7gIZHisolhe4DMdzkbd6LzO1KHjNs=       1  \n",
       "4        3qm6XTZ6MOCU11x8FIVbAGH5l5uMkT3/ZalWG1oo2Gc=       0  \n",
       "...                                               ...     ...  \n",
       "1475479  YOcFhs4/oIc6A6/FKsq2xkGTISDjJH/zvWGrz+Bk7V4=       1  \n",
       "1475480  AeFYUj/BA1epsa5mS3uQxbbS04PKiUr84gSVH430N24=       1  \n",
       "1475481  rQiV+w5ivD+o/Bi7noG2B4JjmA/h/Sxuxnl3wCaqb6s=       1  \n",
       "1475482  bTlSHgnwaBMIKHseTFHanJ3Zr4x82ybrGkexpnxDhTY=       1  \n",
       "1475483  2TRbIVA1b9oCfz/BP0Cs18S9MlfZlSarTUMmjOrCmxI=       1  \n",
       "\n",
       "[1475484 rows x 3 columns]"
      ]
     },
     "execution_count": 178,
     "metadata": {},
     "output_type": "execute_result"
    }
   ],
   "source": [
    "predict_target = pd.merge(df_new1, df_new2, left_index=True, right_index=True)\n",
    "predict_target"
   ]
  },
  {
   "cell_type": "code",
   "execution_count": 179,
   "id": "7cec4672-be58-42b5-bc94-866e906675d9",
   "metadata": {},
   "outputs": [
    {
     "data": {
      "text/html": [
       "<div>\n",
       "<style scoped>\n",
       "    .dataframe tbody tr th:only-of-type {\n",
       "        vertical-align: middle;\n",
       "    }\n",
       "\n",
       "    .dataframe tbody tr th {\n",
       "        vertical-align: top;\n",
       "    }\n",
       "\n",
       "    .dataframe thead th {\n",
       "        text-align: right;\n",
       "    }\n",
       "</style>\n",
       "<table border=\"1\" class=\"dataframe\">\n",
       "  <thead>\n",
       "    <tr style=\"text-align: right;\">\n",
       "      <th></th>\n",
       "      <th>msno</th>\n",
       "      <th>song_id</th>\n",
       "      <th>target</th>\n",
       "    </tr>\n",
       "  </thead>\n",
       "  <tbody>\n",
       "    <tr>\n",
       "      <th>0</th>\n",
       "      <td>FGtllVqz18RPiwJj/edr2gV78zirAiY/9SmYvia+kCg=</td>\n",
       "      <td>BBzumQNXUHKdEBOB7mAJuzok+IJA1c2Ryg/yzTF6tik=</td>\n",
       "      <td>1</td>\n",
       "    </tr>\n",
       "    <tr>\n",
       "      <th>1</th>\n",
       "      <td>Xumu+NIjS6QYVxDS4/t3SawvJ7viT9hPKXmf0RtLNx8=</td>\n",
       "      <td>bhp/MpSNoqoxOIB+/l8WPqu6jldth4DIpCm3ayXnJqM=</td>\n",
       "      <td>1</td>\n",
       "    </tr>\n",
       "    <tr>\n",
       "      <th>2</th>\n",
       "      <td>Xumu+NIjS6QYVxDS4/t3SawvJ7viT9hPKXmf0RtLNx8=</td>\n",
       "      <td>JNWfrrC7zNN7BdMpsISKa4Mw+xVJYNnxXh3/Epw7QgY=</td>\n",
       "      <td>1</td>\n",
       "    </tr>\n",
       "    <tr>\n",
       "      <th>3</th>\n",
       "      <td>Xumu+NIjS6QYVxDS4/t3SawvJ7viT9hPKXmf0RtLNx8=</td>\n",
       "      <td>2A87tzfnJTSWqD7gIZHisolhe4DMdzkbd6LzO1KHjNs=</td>\n",
       "      <td>1</td>\n",
       "    </tr>\n",
       "    <tr>\n",
       "      <th>4</th>\n",
       "      <td>FGtllVqz18RPiwJj/edr2gV78zirAiY/9SmYvia+kCg=</td>\n",
       "      <td>3qm6XTZ6MOCU11x8FIVbAGH5l5uMkT3/ZalWG1oo2Gc=</td>\n",
       "      <td>0</td>\n",
       "    </tr>\n",
       "    <tr>\n",
       "      <th>...</th>\n",
       "      <td>...</td>\n",
       "      <td>...</td>\n",
       "      <td>...</td>\n",
       "    </tr>\n",
       "    <tr>\n",
       "      <th>1475479</th>\n",
       "      <td>+2XBp2p9atTpyVPWac3SEEW41i8Xrnl7Utl/h8T4iOo=</td>\n",
       "      <td>YOcFhs4/oIc6A6/FKsq2xkGTISDjJH/zvWGrz+Bk7V4=</td>\n",
       "      <td>1</td>\n",
       "    </tr>\n",
       "    <tr>\n",
       "      <th>1475480</th>\n",
       "      <td>pJo7ICjSB0lWzeDQCoQpyUfMKVjiXP5/p4cBhC/KzTc=</td>\n",
       "      <td>AeFYUj/BA1epsa5mS3uQxbbS04PKiUr84gSVH430N24=</td>\n",
       "      <td>1</td>\n",
       "    </tr>\n",
       "    <tr>\n",
       "      <th>1475481</th>\n",
       "      <td>pJo7ICjSB0lWzeDQCoQpyUfMKVjiXP5/p4cBhC/KzTc=</td>\n",
       "      <td>rQiV+w5ivD+o/Bi7noG2B4JjmA/h/Sxuxnl3wCaqb6s=</td>\n",
       "      <td>1</td>\n",
       "    </tr>\n",
       "    <tr>\n",
       "      <th>1475482</th>\n",
       "      <td>pJo7ICjSB0lWzeDQCoQpyUfMKVjiXP5/p4cBhC/KzTc=</td>\n",
       "      <td>bTlSHgnwaBMIKHseTFHanJ3Zr4x82ybrGkexpnxDhTY=</td>\n",
       "      <td>1</td>\n",
       "    </tr>\n",
       "    <tr>\n",
       "      <th>1475483</th>\n",
       "      <td>pJo7ICjSB0lWzeDQCoQpyUfMKVjiXP5/p4cBhC/KzTc=</td>\n",
       "      <td>2TRbIVA1b9oCfz/BP0Cs18S9MlfZlSarTUMmjOrCmxI=</td>\n",
       "      <td>1</td>\n",
       "    </tr>\n",
       "  </tbody>\n",
       "</table>\n",
       "<p>1475484 rows × 3 columns</p>\n",
       "</div>"
      ],
      "text/plain": [
       "                                                 msno  \\\n",
       "0        FGtllVqz18RPiwJj/edr2gV78zirAiY/9SmYvia+kCg=   \n",
       "1        Xumu+NIjS6QYVxDS4/t3SawvJ7viT9hPKXmf0RtLNx8=   \n",
       "2        Xumu+NIjS6QYVxDS4/t3SawvJ7viT9hPKXmf0RtLNx8=   \n",
       "3        Xumu+NIjS6QYVxDS4/t3SawvJ7viT9hPKXmf0RtLNx8=   \n",
       "4        FGtllVqz18RPiwJj/edr2gV78zirAiY/9SmYvia+kCg=   \n",
       "...                                               ...   \n",
       "1475479  +2XBp2p9atTpyVPWac3SEEW41i8Xrnl7Utl/h8T4iOo=   \n",
       "1475480  pJo7ICjSB0lWzeDQCoQpyUfMKVjiXP5/p4cBhC/KzTc=   \n",
       "1475481  pJo7ICjSB0lWzeDQCoQpyUfMKVjiXP5/p4cBhC/KzTc=   \n",
       "1475482  pJo7ICjSB0lWzeDQCoQpyUfMKVjiXP5/p4cBhC/KzTc=   \n",
       "1475483  pJo7ICjSB0lWzeDQCoQpyUfMKVjiXP5/p4cBhC/KzTc=   \n",
       "\n",
       "                                              song_id  target  \n",
       "0        BBzumQNXUHKdEBOB7mAJuzok+IJA1c2Ryg/yzTF6tik=       1  \n",
       "1        bhp/MpSNoqoxOIB+/l8WPqu6jldth4DIpCm3ayXnJqM=       1  \n",
       "2        JNWfrrC7zNN7BdMpsISKa4Mw+xVJYNnxXh3/Epw7QgY=       1  \n",
       "3        2A87tzfnJTSWqD7gIZHisolhe4DMdzkbd6LzO1KHjNs=       1  \n",
       "4        3qm6XTZ6MOCU11x8FIVbAGH5l5uMkT3/ZalWG1oo2Gc=       0  \n",
       "...                                               ...     ...  \n",
       "1475479  YOcFhs4/oIc6A6/FKsq2xkGTISDjJH/zvWGrz+Bk7V4=       1  \n",
       "1475480  AeFYUj/BA1epsa5mS3uQxbbS04PKiUr84gSVH430N24=       1  \n",
       "1475481  rQiV+w5ivD+o/Bi7noG2B4JjmA/h/Sxuxnl3wCaqb6s=       1  \n",
       "1475482  bTlSHgnwaBMIKHseTFHanJ3Zr4x82ybrGkexpnxDhTY=       1  \n",
       "1475483  2TRbIVA1b9oCfz/BP0Cs18S9MlfZlSarTUMmjOrCmxI=       1  \n",
       "\n",
       "[1475484 rows x 3 columns]"
      ]
     },
     "execution_count": 179,
     "metadata": {},
     "output_type": "execute_result"
    }
   ],
   "source": [
    "true_target = pd.merge(df_new1, df_new2, left_index=True, right_index=True)\n",
    "true_target"
   ]
  },
  {
   "cell_type": "code",
   "execution_count": 180,
   "id": "c817b688-6d85-4d0e-84ec-56d2f1ecd8c5",
   "metadata": {},
   "outputs": [
    {
     "data": {
      "text/html": [
       "<div>\n",
       "<style scoped>\n",
       "    .dataframe tbody tr th:only-of-type {\n",
       "        vertical-align: middle;\n",
       "    }\n",
       "\n",
       "    .dataframe tbody tr th {\n",
       "        vertical-align: top;\n",
       "    }\n",
       "\n",
       "    .dataframe thead th {\n",
       "        text-align: right;\n",
       "    }\n",
       "</style>\n",
       "<table border=\"1\" class=\"dataframe\">\n",
       "  <thead>\n",
       "    <tr style=\"text-align: right;\">\n",
       "      <th></th>\n",
       "      <th>target</th>\n",
       "    </tr>\n",
       "  </thead>\n",
       "  <tbody>\n",
       "    <tr>\n",
       "      <th>0</th>\n",
       "      <td>1</td>\n",
       "    </tr>\n",
       "    <tr>\n",
       "      <th>1</th>\n",
       "      <td>0</td>\n",
       "    </tr>\n",
       "    <tr>\n",
       "      <th>2</th>\n",
       "      <td>1</td>\n",
       "    </tr>\n",
       "    <tr>\n",
       "      <th>3</th>\n",
       "      <td>1</td>\n",
       "    </tr>\n",
       "    <tr>\n",
       "      <th>4</th>\n",
       "      <td>1</td>\n",
       "    </tr>\n",
       "    <tr>\n",
       "      <th>...</th>\n",
       "      <td>...</td>\n",
       "    </tr>\n",
       "    <tr>\n",
       "      <th>1475479</th>\n",
       "      <td>1</td>\n",
       "    </tr>\n",
       "    <tr>\n",
       "      <th>1475480</th>\n",
       "      <td>0</td>\n",
       "    </tr>\n",
       "    <tr>\n",
       "      <th>1475481</th>\n",
       "      <td>1</td>\n",
       "    </tr>\n",
       "    <tr>\n",
       "      <th>1475482</th>\n",
       "      <td>1</td>\n",
       "    </tr>\n",
       "    <tr>\n",
       "      <th>1475483</th>\n",
       "      <td>1</td>\n",
       "    </tr>\n",
       "  </tbody>\n",
       "</table>\n",
       "<p>1475484 rows × 1 columns</p>\n",
       "</div>"
      ],
      "text/plain": [
       "         target\n",
       "0             1\n",
       "1             0\n",
       "2             1\n",
       "3             1\n",
       "4             1\n",
       "...         ...\n",
       "1475479       1\n",
       "1475480       0\n",
       "1475481       1\n",
       "1475482       1\n",
       "1475483       1\n",
       "\n",
       "[1475484 rows x 1 columns]"
      ]
     },
     "execution_count": 180,
     "metadata": {},
     "output_type": "execute_result"
    }
   ],
   "source": [
    "targ = pd.DataFrame(test_targets, columns=['target'])\n",
    "targ"
   ]
  },
  {
   "cell_type": "code",
   "execution_count": 181,
   "id": "ec5f0eb7-1402-4294-abb5-6cfba328befa",
   "metadata": {},
   "outputs": [
    {
     "data": {
      "text/html": [
       "<div>\n",
       "<style scoped>\n",
       "    .dataframe tbody tr th:only-of-type {\n",
       "        vertical-align: middle;\n",
       "    }\n",
       "\n",
       "    .dataframe tbody tr th {\n",
       "        vertical-align: top;\n",
       "    }\n",
       "\n",
       "    .dataframe thead th {\n",
       "        text-align: right;\n",
       "    }\n",
       "</style>\n",
       "<table border=\"1\" class=\"dataframe\">\n",
       "  <thead>\n",
       "    <tr style=\"text-align: right;\">\n",
       "      <th></th>\n",
       "      <th>msno</th>\n",
       "      <th>song_id</th>\n",
       "      <th>target</th>\n",
       "    </tr>\n",
       "  </thead>\n",
       "  <tbody>\n",
       "    <tr>\n",
       "      <th>0</th>\n",
       "      <td>FGtllVqz18RPiwJj/edr2gV78zirAiY/9SmYvia+kCg=</td>\n",
       "      <td>BBzumQNXUHKdEBOB7mAJuzok+IJA1c2Ryg/yzTF6tik=</td>\n",
       "      <td>1</td>\n",
       "    </tr>\n",
       "    <tr>\n",
       "      <th>1</th>\n",
       "      <td>Xumu+NIjS6QYVxDS4/t3SawvJ7viT9hPKXmf0RtLNx8=</td>\n",
       "      <td>bhp/MpSNoqoxOIB+/l8WPqu6jldth4DIpCm3ayXnJqM=</td>\n",
       "      <td>0</td>\n",
       "    </tr>\n",
       "    <tr>\n",
       "      <th>2</th>\n",
       "      <td>Xumu+NIjS6QYVxDS4/t3SawvJ7viT9hPKXmf0RtLNx8=</td>\n",
       "      <td>JNWfrrC7zNN7BdMpsISKa4Mw+xVJYNnxXh3/Epw7QgY=</td>\n",
       "      <td>1</td>\n",
       "    </tr>\n",
       "    <tr>\n",
       "      <th>3</th>\n",
       "      <td>Xumu+NIjS6QYVxDS4/t3SawvJ7viT9hPKXmf0RtLNx8=</td>\n",
       "      <td>2A87tzfnJTSWqD7gIZHisolhe4DMdzkbd6LzO1KHjNs=</td>\n",
       "      <td>1</td>\n",
       "    </tr>\n",
       "    <tr>\n",
       "      <th>4</th>\n",
       "      <td>FGtllVqz18RPiwJj/edr2gV78zirAiY/9SmYvia+kCg=</td>\n",
       "      <td>3qm6XTZ6MOCU11x8FIVbAGH5l5uMkT3/ZalWG1oo2Gc=</td>\n",
       "      <td>1</td>\n",
       "    </tr>\n",
       "    <tr>\n",
       "      <th>...</th>\n",
       "      <td>...</td>\n",
       "      <td>...</td>\n",
       "      <td>...</td>\n",
       "    </tr>\n",
       "    <tr>\n",
       "      <th>1475479</th>\n",
       "      <td>+2XBp2p9atTpyVPWac3SEEW41i8Xrnl7Utl/h8T4iOo=</td>\n",
       "      <td>YOcFhs4/oIc6A6/FKsq2xkGTISDjJH/zvWGrz+Bk7V4=</td>\n",
       "      <td>1</td>\n",
       "    </tr>\n",
       "    <tr>\n",
       "      <th>1475480</th>\n",
       "      <td>pJo7ICjSB0lWzeDQCoQpyUfMKVjiXP5/p4cBhC/KzTc=</td>\n",
       "      <td>AeFYUj/BA1epsa5mS3uQxbbS04PKiUr84gSVH430N24=</td>\n",
       "      <td>0</td>\n",
       "    </tr>\n",
       "    <tr>\n",
       "      <th>1475481</th>\n",
       "      <td>pJo7ICjSB0lWzeDQCoQpyUfMKVjiXP5/p4cBhC/KzTc=</td>\n",
       "      <td>rQiV+w5ivD+o/Bi7noG2B4JjmA/h/Sxuxnl3wCaqb6s=</td>\n",
       "      <td>1</td>\n",
       "    </tr>\n",
       "    <tr>\n",
       "      <th>1475482</th>\n",
       "      <td>pJo7ICjSB0lWzeDQCoQpyUfMKVjiXP5/p4cBhC/KzTc=</td>\n",
       "      <td>bTlSHgnwaBMIKHseTFHanJ3Zr4x82ybrGkexpnxDhTY=</td>\n",
       "      <td>1</td>\n",
       "    </tr>\n",
       "    <tr>\n",
       "      <th>1475483</th>\n",
       "      <td>pJo7ICjSB0lWzeDQCoQpyUfMKVjiXP5/p4cBhC/KzTc=</td>\n",
       "      <td>2TRbIVA1b9oCfz/BP0Cs18S9MlfZlSarTUMmjOrCmxI=</td>\n",
       "      <td>1</td>\n",
       "    </tr>\n",
       "  </tbody>\n",
       "</table>\n",
       "<p>1475484 rows × 3 columns</p>\n",
       "</div>"
      ],
      "text/plain": [
       "                                                 msno  \\\n",
       "0        FGtllVqz18RPiwJj/edr2gV78zirAiY/9SmYvia+kCg=   \n",
       "1        Xumu+NIjS6QYVxDS4/t3SawvJ7viT9hPKXmf0RtLNx8=   \n",
       "2        Xumu+NIjS6QYVxDS4/t3SawvJ7viT9hPKXmf0RtLNx8=   \n",
       "3        Xumu+NIjS6QYVxDS4/t3SawvJ7viT9hPKXmf0RtLNx8=   \n",
       "4        FGtllVqz18RPiwJj/edr2gV78zirAiY/9SmYvia+kCg=   \n",
       "...                                               ...   \n",
       "1475479  +2XBp2p9atTpyVPWac3SEEW41i8Xrnl7Utl/h8T4iOo=   \n",
       "1475480  pJo7ICjSB0lWzeDQCoQpyUfMKVjiXP5/p4cBhC/KzTc=   \n",
       "1475481  pJo7ICjSB0lWzeDQCoQpyUfMKVjiXP5/p4cBhC/KzTc=   \n",
       "1475482  pJo7ICjSB0lWzeDQCoQpyUfMKVjiXP5/p4cBhC/KzTc=   \n",
       "1475483  pJo7ICjSB0lWzeDQCoQpyUfMKVjiXP5/p4cBhC/KzTc=   \n",
       "\n",
       "                                              song_id  target  \n",
       "0        BBzumQNXUHKdEBOB7mAJuzok+IJA1c2Ryg/yzTF6tik=       1  \n",
       "1        bhp/MpSNoqoxOIB+/l8WPqu6jldth4DIpCm3ayXnJqM=       0  \n",
       "2        JNWfrrC7zNN7BdMpsISKa4Mw+xVJYNnxXh3/Epw7QgY=       1  \n",
       "3        2A87tzfnJTSWqD7gIZHisolhe4DMdzkbd6LzO1KHjNs=       1  \n",
       "4        3qm6XTZ6MOCU11x8FIVbAGH5l5uMkT3/ZalWG1oo2Gc=       1  \n",
       "...                                               ...     ...  \n",
       "1475479  YOcFhs4/oIc6A6/FKsq2xkGTISDjJH/zvWGrz+Bk7V4=       1  \n",
       "1475480  AeFYUj/BA1epsa5mS3uQxbbS04PKiUr84gSVH430N24=       0  \n",
       "1475481  rQiV+w5ivD+o/Bi7noG2B4JjmA/h/Sxuxnl3wCaqb6s=       1  \n",
       "1475482  bTlSHgnwaBMIKHseTFHanJ3Zr4x82ybrGkexpnxDhTY=       1  \n",
       "1475483  2TRbIVA1b9oCfz/BP0Cs18S9MlfZlSarTUMmjOrCmxI=       1  \n",
       "\n",
       "[1475484 rows x 3 columns]"
      ]
     },
     "execution_count": 181,
     "metadata": {},
     "output_type": "execute_result"
    }
   ],
   "source": [
    "predict_target = pd.merge(df_new1, targ, left_index=True, right_index=True)\n",
    "predict_target"
   ]
  },
  {
   "cell_type": "code",
   "execution_count": 182,
   "id": "a0aa95eb-3bbc-469e-a96a-5c8452930c8b",
   "metadata": {},
   "outputs": [],
   "source": [
    "unique_values = pd.concat([predict_target['song_id'], true_target['song_id']]).unique()\n",
    "dictionary = {value: int(idx) for idx, value in enumerate(unique_values)}"
   ]
  },
  {
   "cell_type": "code",
   "execution_count": 183,
   "id": "eeda15ad-0293-4fc6-a22d-217d4961c544",
   "metadata": {},
   "outputs": [],
   "source": [
    "predict_target['song_id'] = predict_target['song_id'].map(dictionary)\n",
    "true_target['song_id'] = true_target['song_id'].map(dictionary)"
   ]
  },
  {
   "cell_type": "code",
   "execution_count": 184,
   "id": "848a1f05-5b4b-4aba-8d30-04d996049693",
   "metadata": {},
   "outputs": [
    {
     "data": {
      "text/html": [
       "<div>\n",
       "<style scoped>\n",
       "    .dataframe tbody tr th:only-of-type {\n",
       "        vertical-align: middle;\n",
       "    }\n",
       "\n",
       "    .dataframe tbody tr th {\n",
       "        vertical-align: top;\n",
       "    }\n",
       "\n",
       "    .dataframe thead th {\n",
       "        text-align: right;\n",
       "    }\n",
       "</style>\n",
       "<table border=\"1\" class=\"dataframe\">\n",
       "  <thead>\n",
       "    <tr style=\"text-align: right;\">\n",
       "      <th></th>\n",
       "      <th>msno</th>\n",
       "      <th>song_id</th>\n",
       "      <th>target</th>\n",
       "    </tr>\n",
       "  </thead>\n",
       "  <tbody>\n",
       "    <tr>\n",
       "      <th>0</th>\n",
       "      <td>FGtllVqz18RPiwJj/edr2gV78zirAiY/9SmYvia+kCg=</td>\n",
       "      <td>0.0</td>\n",
       "      <td>1</td>\n",
       "    </tr>\n",
       "    <tr>\n",
       "      <th>1</th>\n",
       "      <td>Xumu+NIjS6QYVxDS4/t3SawvJ7viT9hPKXmf0RtLNx8=</td>\n",
       "      <td>1.0</td>\n",
       "      <td>0</td>\n",
       "    </tr>\n",
       "    <tr>\n",
       "      <th>2</th>\n",
       "      <td>Xumu+NIjS6QYVxDS4/t3SawvJ7viT9hPKXmf0RtLNx8=</td>\n",
       "      <td>2.0</td>\n",
       "      <td>1</td>\n",
       "    </tr>\n",
       "    <tr>\n",
       "      <th>3</th>\n",
       "      <td>Xumu+NIjS6QYVxDS4/t3SawvJ7viT9hPKXmf0RtLNx8=</td>\n",
       "      <td>3.0</td>\n",
       "      <td>1</td>\n",
       "    </tr>\n",
       "    <tr>\n",
       "      <th>4</th>\n",
       "      <td>FGtllVqz18RPiwJj/edr2gV78zirAiY/9SmYvia+kCg=</td>\n",
       "      <td>4.0</td>\n",
       "      <td>1</td>\n",
       "    </tr>\n",
       "    <tr>\n",
       "      <th>...</th>\n",
       "      <td>...</td>\n",
       "      <td>...</td>\n",
       "      <td>...</td>\n",
       "    </tr>\n",
       "    <tr>\n",
       "      <th>1475479</th>\n",
       "      <td>+2XBp2p9atTpyVPWac3SEEW41i8Xrnl7Utl/h8T4iOo=</td>\n",
       "      <td>7052.0</td>\n",
       "      <td>1</td>\n",
       "    </tr>\n",
       "    <tr>\n",
       "      <th>1475480</th>\n",
       "      <td>pJo7ICjSB0lWzeDQCoQpyUfMKVjiXP5/p4cBhC/KzTc=</td>\n",
       "      <td>6208.0</td>\n",
       "      <td>0</td>\n",
       "    </tr>\n",
       "    <tr>\n",
       "      <th>1475481</th>\n",
       "      <td>pJo7ICjSB0lWzeDQCoQpyUfMKVjiXP5/p4cBhC/KzTc=</td>\n",
       "      <td>2664.0</td>\n",
       "      <td>1</td>\n",
       "    </tr>\n",
       "    <tr>\n",
       "      <th>1475482</th>\n",
       "      <td>pJo7ICjSB0lWzeDQCoQpyUfMKVjiXP5/p4cBhC/KzTc=</td>\n",
       "      <td>354.0</td>\n",
       "      <td>1</td>\n",
       "    </tr>\n",
       "    <tr>\n",
       "      <th>1475483</th>\n",
       "      <td>pJo7ICjSB0lWzeDQCoQpyUfMKVjiXP5/p4cBhC/KzTc=</td>\n",
       "      <td>4264.0</td>\n",
       "      <td>1</td>\n",
       "    </tr>\n",
       "  </tbody>\n",
       "</table>\n",
       "<p>1475484 rows × 3 columns</p>\n",
       "</div>"
      ],
      "text/plain": [
       "                                                 msno  song_id  target\n",
       "0        FGtllVqz18RPiwJj/edr2gV78zirAiY/9SmYvia+kCg=      0.0       1\n",
       "1        Xumu+NIjS6QYVxDS4/t3SawvJ7viT9hPKXmf0RtLNx8=      1.0       0\n",
       "2        Xumu+NIjS6QYVxDS4/t3SawvJ7viT9hPKXmf0RtLNx8=      2.0       1\n",
       "3        Xumu+NIjS6QYVxDS4/t3SawvJ7viT9hPKXmf0RtLNx8=      3.0       1\n",
       "4        FGtllVqz18RPiwJj/edr2gV78zirAiY/9SmYvia+kCg=      4.0       1\n",
       "...                                               ...      ...     ...\n",
       "1475479  +2XBp2p9atTpyVPWac3SEEW41i8Xrnl7Utl/h8T4iOo=   7052.0       1\n",
       "1475480  pJo7ICjSB0lWzeDQCoQpyUfMKVjiXP5/p4cBhC/KzTc=   6208.0       0\n",
       "1475481  pJo7ICjSB0lWzeDQCoQpyUfMKVjiXP5/p4cBhC/KzTc=   2664.0       1\n",
       "1475482  pJo7ICjSB0lWzeDQCoQpyUfMKVjiXP5/p4cBhC/KzTc=    354.0       1\n",
       "1475483  pJo7ICjSB0lWzeDQCoQpyUfMKVjiXP5/p4cBhC/KzTc=   4264.0       1\n",
       "\n",
       "[1475484 rows x 3 columns]"
      ]
     },
     "execution_count": 184,
     "metadata": {},
     "output_type": "execute_result"
    }
   ],
   "source": [
    "predict_target"
   ]
  },
  {
   "cell_type": "code",
   "execution_count": 185,
   "id": "9833781f-f1c3-4b48-bbab-31c52c6c38d0",
   "metadata": {},
   "outputs": [
    {
     "name": "stdout",
     "output_type": "stream",
     "text": [
      "                                               msno  \\\n",
      "0      ++5wYjoMgQHoRuD3GbbvmphZbBBwymzv5Q4l8sywtuU=   \n",
      "1      ++AH7m/EQ4iKe6wSlfO/xXAJx50p+fCeTyF90GoE9Pg=   \n",
      "2      ++e+jsxuQ8UEnmW40od9Rq3rW7+wAum4wooXyZTKJpk=   \n",
      "3      ++xWL5Pbi2CpG4uUugigQahauM0J/sBIRloTNPBybIU=   \n",
      "4      +/SKX44s4ryWQzYzuV7ZKMXqIKQMN1cPz3M8CJ8CFKU=   \n",
      "...                                             ...   \n",
      "28021  zzH8+kEnDu02NMWBPCjio6wOujBZUs7y9o7AWWcvIGo=   \n",
      "28022  zzZBJUYXrb168A4Ff4sA8L2iOH0x4ciKdD6WkV53XaE=   \n",
      "28023  zzompfSaMamqvjyCMYvgUBwYrxh8fHE40z3f73CQoak=   \n",
      "28024  zzqc2ja7z10FtSpagYVcAZXg/gPRq7wcDZuNFj+zJSU=   \n",
      "28025  zzzRi5ek1YCKTGns8C77xwAutE05PAPmz8T/pIIQhzE=   \n",
      "\n",
      "                                    predict_song_id_list  \n",
      "0      [84155.0, 88380.0, 163.0, 49453.0, 5537.0, 227...  \n",
      "1      [15.0, 629.0, 6978.0, 1136.0, 7816.0, 972.0, 1...  \n",
      "2                                      [20934.0, 4691.0]  \n",
      "3                                                     []  \n",
      "4      [21781.0, 2881.0, 1387.0, 346.0, 124.0, 172.0,...  \n",
      "...                                                  ...  \n",
      "28021  [1694.0, 8830.0, 2704.0, 2705.0, 31498.0, 3961...  \n",
      "28022  [3126.0, 4723.0, 3452.0, 4724.0, 8091.0, 8093....  \n",
      "28023  [33810.0, 15031.0, 37614.0, 139476.0, 10778.0,...  \n",
      "28024  [289.0, 185.0, 1291.0, 44941.0, 58958.0, 1110....  \n",
      "28025                                                 []  \n",
      "\n",
      "[28026 rows x 2 columns]\n"
     ]
    }
   ],
   "source": [
    "predict_grouped = predict_target[predict_target['target'] == 1].groupby('msno')['song_id'].apply(list).reset_index()\n",
    "predict_grouped_df = pd.DataFrame({'msno': predict_grouped['msno'], 'predict_song_id_list': predict_grouped['song_id']})\n",
    "predict_grouped_df = predict_grouped_df.sort_values(by='msno')\n",
    "\n",
    "print(predict_grouped_df)"
   ]
  },
  {
   "cell_type": "code",
   "execution_count": 186,
   "id": "d1476435-6714-45bd-85b6-a86acda3a729",
   "metadata": {},
   "outputs": [
    {
     "name": "stdout",
     "output_type": "stream",
     "text": [
      "                                               msno  \\\n",
      "0      ++5wYjoMgQHoRuD3GbbvmphZbBBwymzv5Q4l8sywtuU=   \n",
      "1      ++AH7m/EQ4iKe6wSlfO/xXAJx50p+fCeTyF90GoE9Pg=   \n",
      "2      ++e+jsxuQ8UEnmW40od9Rq3rW7+wAum4wooXyZTKJpk=   \n",
      "3      ++xWL5Pbi2CpG4uUugigQahauM0J/sBIRloTNPBybIU=   \n",
      "4      +/SKX44s4ryWQzYzuV7ZKMXqIKQMN1cPz3M8CJ8CFKU=   \n",
      "...                                             ...   \n",
      "28021  zzH8+kEnDu02NMWBPCjio6wOujBZUs7y9o7AWWcvIGo=   \n",
      "28022  zzZBJUYXrb168A4Ff4sA8L2iOH0x4ciKdD6WkV53XaE=   \n",
      "28023  zzompfSaMamqvjyCMYvgUBwYrxh8fHE40z3f73CQoak=   \n",
      "28024  zzqc2ja7z10FtSpagYVcAZXg/gPRq7wcDZuNFj+zJSU=   \n",
      "28025  zzzRi5ek1YCKTGns8C77xwAutE05PAPmz8T/pIIQhzE=   \n",
      "\n",
      "                                       true_song_id_list  \n",
      "0      [84155.0, 49453.0, 5537.0, 2273.0, 22167.0, 18...  \n",
      "1      [7365.0, 643.0, 1136.0, 1494.0, 13800.0, 12024...  \n",
      "2                               [27047.0, 184.0, 4691.0]  \n",
      "3                                                     []  \n",
      "4      [21781.0, 2881.0, 1387.0, 346.0, 124.0, 172.0,...  \n",
      "...                                                  ...  \n",
      "28021  [1338.0, 9165.0, 41471.0, 8830.0, 17576.0, 396...  \n",
      "28022  [4723.0, 3452.0, 4724.0, 8093.0, 2724.0, 51373...  \n",
      "28023  [25362.0, 15031.0, 3210.0, 139474.0, 17987.0, ...  \n",
      "28024  [48.0, 1361.0, 289.0, 44941.0, 58958.0, 1110.0...  \n",
      "28025                                                 []  \n",
      "\n",
      "[28026 rows x 2 columns]\n"
     ]
    }
   ],
   "source": [
    "true_grouped = true_target[true_target['target'] == 1].groupby('msno')['song_id'].apply(list).reset_index()\n",
    "true_grouped_df = pd.DataFrame({'msno': true_grouped['msno'], 'true_song_id_list': true_grouped['song_id']})\n",
    "true_grouped_df = true_grouped_df.sort_values(by='msno')\n",
    "\n",
    "print(true_grouped_df)"
   ]
  },
  {
   "cell_type": "code",
   "execution_count": 187,
   "id": "f480a0dc-35cd-4df0-a52f-6367097f805e",
   "metadata": {},
   "outputs": [
    {
     "data": {
      "text/plain": [
       "0        [84155.0, 49453.0, 5537.0, 2273.0, 22167.0, 18...\n",
       "1        [7365.0, 643.0, 1136.0, 1494.0, 13800.0, 12024...\n",
       "2                                 [27047.0, 184.0, 4691.0]\n",
       "3                                                       []\n",
       "4        [21781.0, 2881.0, 1387.0, 346.0, 124.0, 172.0,...\n",
       "                               ...                        \n",
       "28021    [1338.0, 9165.0, 41471.0, 8830.0, 17576.0, 396...\n",
       "28022    [4723.0, 3452.0, 4724.0, 8093.0, 2724.0, 51373...\n",
       "28023    [25362.0, 15031.0, 3210.0, 139474.0, 17987.0, ...\n",
       "28024    [48.0, 1361.0, 289.0, 44941.0, 58958.0, 1110.0...\n",
       "28025                                                   []\n",
       "Name: true_song_id_list, Length: 28026, dtype: object"
      ]
     },
     "execution_count": 187,
     "metadata": {},
     "output_type": "execute_result"
    }
   ],
   "source": [
    "true_df = true_grouped_df['true_song_id_list']\n",
    "true_df"
   ]
  },
  {
   "cell_type": "code",
   "execution_count": 188,
   "id": "df6e7acd-32b8-4dc9-833a-5ab40fc7775b",
   "metadata": {},
   "outputs": [
    {
     "data": {
      "text/html": [
       "<div>\n",
       "<style scoped>\n",
       "    .dataframe tbody tr th:only-of-type {\n",
       "        vertical-align: middle;\n",
       "    }\n",
       "\n",
       "    .dataframe tbody tr th {\n",
       "        vertical-align: top;\n",
       "    }\n",
       "\n",
       "    .dataframe thead th {\n",
       "        text-align: right;\n",
       "    }\n",
       "</style>\n",
       "<table border=\"1\" class=\"dataframe\">\n",
       "  <thead>\n",
       "    <tr style=\"text-align: right;\">\n",
       "      <th></th>\n",
       "      <th>msno</th>\n",
       "      <th>predict_song_id_list</th>\n",
       "      <th>true_song_id_list</th>\n",
       "    </tr>\n",
       "  </thead>\n",
       "  <tbody>\n",
       "    <tr>\n",
       "      <th>0</th>\n",
       "      <td>++5wYjoMgQHoRuD3GbbvmphZbBBwymzv5Q4l8sywtuU=</td>\n",
       "      <td>[84155.0, 88380.0, 163.0, 49453.0, 5537.0, 227...</td>\n",
       "      <td>[84155.0, 49453.0, 5537.0, 2273.0, 22167.0, 18...</td>\n",
       "    </tr>\n",
       "    <tr>\n",
       "      <th>1</th>\n",
       "      <td>++AH7m/EQ4iKe6wSlfO/xXAJx50p+fCeTyF90GoE9Pg=</td>\n",
       "      <td>[15.0, 629.0, 6978.0, 1136.0, 7816.0, 972.0, 1...</td>\n",
       "      <td>[7365.0, 643.0, 1136.0, 1494.0, 13800.0, 12024...</td>\n",
       "    </tr>\n",
       "    <tr>\n",
       "      <th>2</th>\n",
       "      <td>++e+jsxuQ8UEnmW40od9Rq3rW7+wAum4wooXyZTKJpk=</td>\n",
       "      <td>[20934.0, 4691.0]</td>\n",
       "      <td>[27047.0, 184.0, 4691.0]</td>\n",
       "    </tr>\n",
       "    <tr>\n",
       "      <th>4</th>\n",
       "      <td>+/SKX44s4ryWQzYzuV7ZKMXqIKQMN1cPz3M8CJ8CFKU=</td>\n",
       "      <td>[21781.0, 2881.0, 1387.0, 346.0, 124.0, 172.0,...</td>\n",
       "      <td>[21781.0, 2881.0, 1387.0, 346.0, 124.0, 172.0,...</td>\n",
       "    </tr>\n",
       "    <tr>\n",
       "      <th>9</th>\n",
       "      <td>+0+XaewkS3za58vHwKCVGwRYRvjig4lTtKDV/tOkzbU=</td>\n",
       "      <td>[7791.0, 29354.0, 29355.0, 29357.0, 55655.0, 1...</td>\n",
       "      <td>[7791.0, 29355.0, 29357.0, 16153.0, 44273.0, 4...</td>\n",
       "    </tr>\n",
       "    <tr>\n",
       "      <th>...</th>\n",
       "      <td>...</td>\n",
       "      <td>...</td>\n",
       "      <td>...</td>\n",
       "    </tr>\n",
       "    <tr>\n",
       "      <th>28019</th>\n",
       "      <td>zyCQN/h38OmzYOsR6ecE+b7GFkO2eCHoxT1tXoFdUjA=</td>\n",
       "      <td>[334.0, 557.0, 247.0, 561.0, 460.0, 48.0, 459....</td>\n",
       "      <td>[557.0, 247.0, 149.0, 91.0, 460.0, 48.0, 1129....</td>\n",
       "    </tr>\n",
       "    <tr>\n",
       "      <th>28021</th>\n",
       "      <td>zzH8+kEnDu02NMWBPCjio6wOujBZUs7y9o7AWWcvIGo=</td>\n",
       "      <td>[1694.0, 8830.0, 2704.0, 2705.0, 31498.0, 3961...</td>\n",
       "      <td>[1338.0, 9165.0, 41471.0, 8830.0, 17576.0, 396...</td>\n",
       "    </tr>\n",
       "    <tr>\n",
       "      <th>28022</th>\n",
       "      <td>zzZBJUYXrb168A4Ff4sA8L2iOH0x4ciKdD6WkV53XaE=</td>\n",
       "      <td>[3126.0, 4723.0, 3452.0, 4724.0, 8091.0, 8093....</td>\n",
       "      <td>[4723.0, 3452.0, 4724.0, 8093.0, 2724.0, 51373...</td>\n",
       "    </tr>\n",
       "    <tr>\n",
       "      <th>28023</th>\n",
       "      <td>zzompfSaMamqvjyCMYvgUBwYrxh8fHE40z3f73CQoak=</td>\n",
       "      <td>[33810.0, 15031.0, 37614.0, 139476.0, 10778.0,...</td>\n",
       "      <td>[25362.0, 15031.0, 3210.0, 139474.0, 17987.0, ...</td>\n",
       "    </tr>\n",
       "    <tr>\n",
       "      <th>28024</th>\n",
       "      <td>zzqc2ja7z10FtSpagYVcAZXg/gPRq7wcDZuNFj+zJSU=</td>\n",
       "      <td>[289.0, 185.0, 1291.0, 44941.0, 58958.0, 1110....</td>\n",
       "      <td>[48.0, 1361.0, 289.0, 44941.0, 58958.0, 1110.0...</td>\n",
       "    </tr>\n",
       "  </tbody>\n",
       "</table>\n",
       "<p>17946 rows × 3 columns</p>\n",
       "</div>"
      ],
      "text/plain": [
       "                                               msno  \\\n",
       "0      ++5wYjoMgQHoRuD3GbbvmphZbBBwymzv5Q4l8sywtuU=   \n",
       "1      ++AH7m/EQ4iKe6wSlfO/xXAJx50p+fCeTyF90GoE9Pg=   \n",
       "2      ++e+jsxuQ8UEnmW40od9Rq3rW7+wAum4wooXyZTKJpk=   \n",
       "4      +/SKX44s4ryWQzYzuV7ZKMXqIKQMN1cPz3M8CJ8CFKU=   \n",
       "9      +0+XaewkS3za58vHwKCVGwRYRvjig4lTtKDV/tOkzbU=   \n",
       "...                                             ...   \n",
       "28019  zyCQN/h38OmzYOsR6ecE+b7GFkO2eCHoxT1tXoFdUjA=   \n",
       "28021  zzH8+kEnDu02NMWBPCjio6wOujBZUs7y9o7AWWcvIGo=   \n",
       "28022  zzZBJUYXrb168A4Ff4sA8L2iOH0x4ciKdD6WkV53XaE=   \n",
       "28023  zzompfSaMamqvjyCMYvgUBwYrxh8fHE40z3f73CQoak=   \n",
       "28024  zzqc2ja7z10FtSpagYVcAZXg/gPRq7wcDZuNFj+zJSU=   \n",
       "\n",
       "                                    predict_song_id_list  \\\n",
       "0      [84155.0, 88380.0, 163.0, 49453.0, 5537.0, 227...   \n",
       "1      [15.0, 629.0, 6978.0, 1136.0, 7816.0, 972.0, 1...   \n",
       "2                                      [20934.0, 4691.0]   \n",
       "4      [21781.0, 2881.0, 1387.0, 346.0, 124.0, 172.0,...   \n",
       "9      [7791.0, 29354.0, 29355.0, 29357.0, 55655.0, 1...   \n",
       "...                                                  ...   \n",
       "28019  [334.0, 557.0, 247.0, 561.0, 460.0, 48.0, 459....   \n",
       "28021  [1694.0, 8830.0, 2704.0, 2705.0, 31498.0, 3961...   \n",
       "28022  [3126.0, 4723.0, 3452.0, 4724.0, 8091.0, 8093....   \n",
       "28023  [33810.0, 15031.0, 37614.0, 139476.0, 10778.0,...   \n",
       "28024  [289.0, 185.0, 1291.0, 44941.0, 58958.0, 1110....   \n",
       "\n",
       "                                       true_song_id_list  \n",
       "0      [84155.0, 49453.0, 5537.0, 2273.0, 22167.0, 18...  \n",
       "1      [7365.0, 643.0, 1136.0, 1494.0, 13800.0, 12024...  \n",
       "2                               [27047.0, 184.0, 4691.0]  \n",
       "4      [21781.0, 2881.0, 1387.0, 346.0, 124.0, 172.0,...  \n",
       "9      [7791.0, 29355.0, 29357.0, 16153.0, 44273.0, 4...  \n",
       "...                                                  ...  \n",
       "28019  [557.0, 247.0, 149.0, 91.0, 460.0, 48.0, 1129....  \n",
       "28021  [1338.0, 9165.0, 41471.0, 8830.0, 17576.0, 396...  \n",
       "28022  [4723.0, 3452.0, 4724.0, 8093.0, 2724.0, 51373...  \n",
       "28023  [25362.0, 15031.0, 3210.0, 139474.0, 17987.0, ...  \n",
       "28024  [48.0, 1361.0, 289.0, 44941.0, 58958.0, 1110.0...  \n",
       "\n",
       "[17946 rows x 3 columns]"
      ]
     },
     "execution_count": 188,
     "metadata": {},
     "output_type": "execute_result"
    }
   ],
   "source": [
    "target_df = pd.merge(predict_grouped_df, true_df, left_index=True, right_index=True)\n",
    "target_df = target_df[(target_df['true_song_id_list'].apply(len) > 0) & (target_df['predict_song_id_list'].apply(len) > 0)]\n",
    "\n",
    "target_df"
   ]
  },
  {
   "cell_type": "markdown",
   "id": "aefbf10a-92b4-4f42-bd0e-1cf0fb298422",
   "metadata": {},
   "source": [
    "**Вычислим значение метрики NDCG@20**"
   ]
  },
  {
   "cell_type": "markdown",
   "id": "f40b0889-dc34-4ca6-a52a-da4819f9e400",
   "metadata": {},
   "source": [
    "Создадим датафрейм, содержащий списки истинных и предсказанных песен для каждого пользователя"
   ]
  },
  {
   "cell_type": "code",
   "execution_count": 190,
   "id": "7ecf51b9-3b03-4694-846f-a1fb0c45f285",
   "metadata": {},
   "outputs": [],
   "source": [
    "target_df = target_df.reset_index()"
   ]
  },
  {
   "cell_type": "code",
   "execution_count": 191,
   "id": "13d63378-66ed-40d6-9b0a-84d92eaf7210",
   "metadata": {},
   "outputs": [
    {
     "data": {
      "text/html": [
       "<div>\n",
       "<style scoped>\n",
       "    .dataframe tbody tr th:only-of-type {\n",
       "        vertical-align: middle;\n",
       "    }\n",
       "\n",
       "    .dataframe tbody tr th {\n",
       "        vertical-align: top;\n",
       "    }\n",
       "\n",
       "    .dataframe thead th {\n",
       "        text-align: right;\n",
       "    }\n",
       "</style>\n",
       "<table border=\"1\" class=\"dataframe\">\n",
       "  <thead>\n",
       "    <tr style=\"text-align: right;\">\n",
       "      <th></th>\n",
       "      <th>index</th>\n",
       "      <th>msno</th>\n",
       "      <th>predict_song_id_list</th>\n",
       "      <th>true_song_id_list</th>\n",
       "    </tr>\n",
       "  </thead>\n",
       "  <tbody>\n",
       "    <tr>\n",
       "      <th>0</th>\n",
       "      <td>0</td>\n",
       "      <td>++5wYjoMgQHoRuD3GbbvmphZbBBwymzv5Q4l8sywtuU=</td>\n",
       "      <td>[84155.0, 88380.0, 163.0, 49453.0, 5537.0, 227...</td>\n",
       "      <td>[84155.0, 49453.0, 5537.0, 2273.0, 22167.0, 18...</td>\n",
       "    </tr>\n",
       "    <tr>\n",
       "      <th>1</th>\n",
       "      <td>1</td>\n",
       "      <td>++AH7m/EQ4iKe6wSlfO/xXAJx50p+fCeTyF90GoE9Pg=</td>\n",
       "      <td>[15.0, 629.0, 6978.0, 1136.0, 7816.0, 972.0, 1...</td>\n",
       "      <td>[7365.0, 643.0, 1136.0, 1494.0, 13800.0, 12024...</td>\n",
       "    </tr>\n",
       "    <tr>\n",
       "      <th>2</th>\n",
       "      <td>2</td>\n",
       "      <td>++e+jsxuQ8UEnmW40od9Rq3rW7+wAum4wooXyZTKJpk=</td>\n",
       "      <td>[20934.0, 4691.0]</td>\n",
       "      <td>[27047.0, 184.0, 4691.0]</td>\n",
       "    </tr>\n",
       "    <tr>\n",
       "      <th>3</th>\n",
       "      <td>4</td>\n",
       "      <td>+/SKX44s4ryWQzYzuV7ZKMXqIKQMN1cPz3M8CJ8CFKU=</td>\n",
       "      <td>[21781.0, 2881.0, 1387.0, 346.0, 124.0, 172.0,...</td>\n",
       "      <td>[21781.0, 2881.0, 1387.0, 346.0, 124.0, 172.0,...</td>\n",
       "    </tr>\n",
       "    <tr>\n",
       "      <th>4</th>\n",
       "      <td>9</td>\n",
       "      <td>+0+XaewkS3za58vHwKCVGwRYRvjig4lTtKDV/tOkzbU=</td>\n",
       "      <td>[7791.0, 29354.0, 29355.0, 29357.0, 55655.0, 1...</td>\n",
       "      <td>[7791.0, 29355.0, 29357.0, 16153.0, 44273.0, 4...</td>\n",
       "    </tr>\n",
       "    <tr>\n",
       "      <th>...</th>\n",
       "      <td>...</td>\n",
       "      <td>...</td>\n",
       "      <td>...</td>\n",
       "      <td>...</td>\n",
       "    </tr>\n",
       "    <tr>\n",
       "      <th>17941</th>\n",
       "      <td>28019</td>\n",
       "      <td>zyCQN/h38OmzYOsR6ecE+b7GFkO2eCHoxT1tXoFdUjA=</td>\n",
       "      <td>[334.0, 557.0, 247.0, 561.0, 460.0, 48.0, 459....</td>\n",
       "      <td>[557.0, 247.0, 149.0, 91.0, 460.0, 48.0, 1129....</td>\n",
       "    </tr>\n",
       "    <tr>\n",
       "      <th>17942</th>\n",
       "      <td>28021</td>\n",
       "      <td>zzH8+kEnDu02NMWBPCjio6wOujBZUs7y9o7AWWcvIGo=</td>\n",
       "      <td>[1694.0, 8830.0, 2704.0, 2705.0, 31498.0, 3961...</td>\n",
       "      <td>[1338.0, 9165.0, 41471.0, 8830.0, 17576.0, 396...</td>\n",
       "    </tr>\n",
       "    <tr>\n",
       "      <th>17943</th>\n",
       "      <td>28022</td>\n",
       "      <td>zzZBJUYXrb168A4Ff4sA8L2iOH0x4ciKdD6WkV53XaE=</td>\n",
       "      <td>[3126.0, 4723.0, 3452.0, 4724.0, 8091.0, 8093....</td>\n",
       "      <td>[4723.0, 3452.0, 4724.0, 8093.0, 2724.0, 51373...</td>\n",
       "    </tr>\n",
       "    <tr>\n",
       "      <th>17944</th>\n",
       "      <td>28023</td>\n",
       "      <td>zzompfSaMamqvjyCMYvgUBwYrxh8fHE40z3f73CQoak=</td>\n",
       "      <td>[33810.0, 15031.0, 37614.0, 139476.0, 10778.0,...</td>\n",
       "      <td>[25362.0, 15031.0, 3210.0, 139474.0, 17987.0, ...</td>\n",
       "    </tr>\n",
       "    <tr>\n",
       "      <th>17945</th>\n",
       "      <td>28024</td>\n",
       "      <td>zzqc2ja7z10FtSpagYVcAZXg/gPRq7wcDZuNFj+zJSU=</td>\n",
       "      <td>[289.0, 185.0, 1291.0, 44941.0, 58958.0, 1110....</td>\n",
       "      <td>[48.0, 1361.0, 289.0, 44941.0, 58958.0, 1110.0...</td>\n",
       "    </tr>\n",
       "  </tbody>\n",
       "</table>\n",
       "<p>17946 rows × 4 columns</p>\n",
       "</div>"
      ],
      "text/plain": [
       "       index                                          msno  \\\n",
       "0          0  ++5wYjoMgQHoRuD3GbbvmphZbBBwymzv5Q4l8sywtuU=   \n",
       "1          1  ++AH7m/EQ4iKe6wSlfO/xXAJx50p+fCeTyF90GoE9Pg=   \n",
       "2          2  ++e+jsxuQ8UEnmW40od9Rq3rW7+wAum4wooXyZTKJpk=   \n",
       "3          4  +/SKX44s4ryWQzYzuV7ZKMXqIKQMN1cPz3M8CJ8CFKU=   \n",
       "4          9  +0+XaewkS3za58vHwKCVGwRYRvjig4lTtKDV/tOkzbU=   \n",
       "...      ...                                           ...   \n",
       "17941  28019  zyCQN/h38OmzYOsR6ecE+b7GFkO2eCHoxT1tXoFdUjA=   \n",
       "17942  28021  zzH8+kEnDu02NMWBPCjio6wOujBZUs7y9o7AWWcvIGo=   \n",
       "17943  28022  zzZBJUYXrb168A4Ff4sA8L2iOH0x4ciKdD6WkV53XaE=   \n",
       "17944  28023  zzompfSaMamqvjyCMYvgUBwYrxh8fHE40z3f73CQoak=   \n",
       "17945  28024  zzqc2ja7z10FtSpagYVcAZXg/gPRq7wcDZuNFj+zJSU=   \n",
       "\n",
       "                                    predict_song_id_list  \\\n",
       "0      [84155.0, 88380.0, 163.0, 49453.0, 5537.0, 227...   \n",
       "1      [15.0, 629.0, 6978.0, 1136.0, 7816.0, 972.0, 1...   \n",
       "2                                      [20934.0, 4691.0]   \n",
       "3      [21781.0, 2881.0, 1387.0, 346.0, 124.0, 172.0,...   \n",
       "4      [7791.0, 29354.0, 29355.0, 29357.0, 55655.0, 1...   \n",
       "...                                                  ...   \n",
       "17941  [334.0, 557.0, 247.0, 561.0, 460.0, 48.0, 459....   \n",
       "17942  [1694.0, 8830.0, 2704.0, 2705.0, 31498.0, 3961...   \n",
       "17943  [3126.0, 4723.0, 3452.0, 4724.0, 8091.0, 8093....   \n",
       "17944  [33810.0, 15031.0, 37614.0, 139476.0, 10778.0,...   \n",
       "17945  [289.0, 185.0, 1291.0, 44941.0, 58958.0, 1110....   \n",
       "\n",
       "                                       true_song_id_list  \n",
       "0      [84155.0, 49453.0, 5537.0, 2273.0, 22167.0, 18...  \n",
       "1      [7365.0, 643.0, 1136.0, 1494.0, 13800.0, 12024...  \n",
       "2                               [27047.0, 184.0, 4691.0]  \n",
       "3      [21781.0, 2881.0, 1387.0, 346.0, 124.0, 172.0,...  \n",
       "4      [7791.0, 29355.0, 29357.0, 16153.0, 44273.0, 4...  \n",
       "...                                                  ...  \n",
       "17941  [557.0, 247.0, 149.0, 91.0, 460.0, 48.0, 1129....  \n",
       "17942  [1338.0, 9165.0, 41471.0, 8830.0, 17576.0, 396...  \n",
       "17943  [4723.0, 3452.0, 4724.0, 8093.0, 2724.0, 51373...  \n",
       "17944  [25362.0, 15031.0, 3210.0, 139474.0, 17987.0, ...  \n",
       "17945  [48.0, 1361.0, 289.0, 44941.0, 58958.0, 1110.0...  \n",
       "\n",
       "[17946 rows x 4 columns]"
      ]
     },
     "execution_count": 191,
     "metadata": {},
     "output_type": "execute_result"
    }
   ],
   "source": [
    "target_df"
   ]
  },
  {
   "cell_type": "code",
   "execution_count": 192,
   "id": "8ea834fc-b1aa-41f7-abd0-ba34a039abdb",
   "metadata": {},
   "outputs": [
    {
     "data": {
      "text/html": [
       "<div>\n",
       "<style scoped>\n",
       "    .dataframe tbody tr th:only-of-type {\n",
       "        vertical-align: middle;\n",
       "    }\n",
       "\n",
       "    .dataframe tbody tr th {\n",
       "        vertical-align: top;\n",
       "    }\n",
       "\n",
       "    .dataframe thead th {\n",
       "        text-align: right;\n",
       "    }\n",
       "</style>\n",
       "<table border=\"1\" class=\"dataframe\">\n",
       "  <thead>\n",
       "    <tr style=\"text-align: right;\">\n",
       "      <th></th>\n",
       "      <th>msno</th>\n",
       "      <th>predict_song_id_list</th>\n",
       "      <th>true_song_id_list</th>\n",
       "    </tr>\n",
       "  </thead>\n",
       "  <tbody>\n",
       "    <tr>\n",
       "      <th>0</th>\n",
       "      <td>++5wYjoMgQHoRuD3GbbvmphZbBBwymzv5Q4l8sywtuU=</td>\n",
       "      <td>[84155.0, 88380.0, 163.0, 49453.0, 5537.0, 227...</td>\n",
       "      <td>[84155.0, 49453.0, 5537.0, 2273.0, 22167.0, 18...</td>\n",
       "    </tr>\n",
       "    <tr>\n",
       "      <th>1</th>\n",
       "      <td>++AH7m/EQ4iKe6wSlfO/xXAJx50p+fCeTyF90GoE9Pg=</td>\n",
       "      <td>[15.0, 629.0, 6978.0, 1136.0, 7816.0, 972.0, 1...</td>\n",
       "      <td>[7365.0, 643.0, 1136.0, 1494.0, 13800.0, 12024...</td>\n",
       "    </tr>\n",
       "    <tr>\n",
       "      <th>2</th>\n",
       "      <td>++e+jsxuQ8UEnmW40od9Rq3rW7+wAum4wooXyZTKJpk=</td>\n",
       "      <td>[20934.0, 4691.0]</td>\n",
       "      <td>[27047.0, 184.0, 4691.0]</td>\n",
       "    </tr>\n",
       "    <tr>\n",
       "      <th>3</th>\n",
       "      <td>+/SKX44s4ryWQzYzuV7ZKMXqIKQMN1cPz3M8CJ8CFKU=</td>\n",
       "      <td>[21781.0, 2881.0, 1387.0, 346.0, 124.0, 172.0,...</td>\n",
       "      <td>[21781.0, 2881.0, 1387.0, 346.0, 124.0, 172.0,...</td>\n",
       "    </tr>\n",
       "    <tr>\n",
       "      <th>4</th>\n",
       "      <td>+0+XaewkS3za58vHwKCVGwRYRvjig4lTtKDV/tOkzbU=</td>\n",
       "      <td>[7791.0, 29354.0, 29355.0, 29357.0, 55655.0, 1...</td>\n",
       "      <td>[7791.0, 29355.0, 29357.0, 16153.0, 44273.0, 4...</td>\n",
       "    </tr>\n",
       "    <tr>\n",
       "      <th>...</th>\n",
       "      <td>...</td>\n",
       "      <td>...</td>\n",
       "      <td>...</td>\n",
       "    </tr>\n",
       "    <tr>\n",
       "      <th>17941</th>\n",
       "      <td>zyCQN/h38OmzYOsR6ecE+b7GFkO2eCHoxT1tXoFdUjA=</td>\n",
       "      <td>[334.0, 557.0, 247.0, 561.0, 460.0, 48.0, 459....</td>\n",
       "      <td>[557.0, 247.0, 149.0, 91.0, 460.0, 48.0, 1129....</td>\n",
       "    </tr>\n",
       "    <tr>\n",
       "      <th>17942</th>\n",
       "      <td>zzH8+kEnDu02NMWBPCjio6wOujBZUs7y9o7AWWcvIGo=</td>\n",
       "      <td>[1694.0, 8830.0, 2704.0, 2705.0, 31498.0, 3961...</td>\n",
       "      <td>[1338.0, 9165.0, 41471.0, 8830.0, 17576.0, 396...</td>\n",
       "    </tr>\n",
       "    <tr>\n",
       "      <th>17943</th>\n",
       "      <td>zzZBJUYXrb168A4Ff4sA8L2iOH0x4ciKdD6WkV53XaE=</td>\n",
       "      <td>[3126.0, 4723.0, 3452.0, 4724.0, 8091.0, 8093....</td>\n",
       "      <td>[4723.0, 3452.0, 4724.0, 8093.0, 2724.0, 51373...</td>\n",
       "    </tr>\n",
       "    <tr>\n",
       "      <th>17944</th>\n",
       "      <td>zzompfSaMamqvjyCMYvgUBwYrxh8fHE40z3f73CQoak=</td>\n",
       "      <td>[33810.0, 15031.0, 37614.0, 139476.0, 10778.0,...</td>\n",
       "      <td>[25362.0, 15031.0, 3210.0, 139474.0, 17987.0, ...</td>\n",
       "    </tr>\n",
       "    <tr>\n",
       "      <th>17945</th>\n",
       "      <td>zzqc2ja7z10FtSpagYVcAZXg/gPRq7wcDZuNFj+zJSU=</td>\n",
       "      <td>[289.0, 185.0, 1291.0, 44941.0, 58958.0, 1110....</td>\n",
       "      <td>[48.0, 1361.0, 289.0, 44941.0, 58958.0, 1110.0...</td>\n",
       "    </tr>\n",
       "  </tbody>\n",
       "</table>\n",
       "<p>17946 rows × 3 columns</p>\n",
       "</div>"
      ],
      "text/plain": [
       "                                               msno  \\\n",
       "0      ++5wYjoMgQHoRuD3GbbvmphZbBBwymzv5Q4l8sywtuU=   \n",
       "1      ++AH7m/EQ4iKe6wSlfO/xXAJx50p+fCeTyF90GoE9Pg=   \n",
       "2      ++e+jsxuQ8UEnmW40od9Rq3rW7+wAum4wooXyZTKJpk=   \n",
       "3      +/SKX44s4ryWQzYzuV7ZKMXqIKQMN1cPz3M8CJ8CFKU=   \n",
       "4      +0+XaewkS3za58vHwKCVGwRYRvjig4lTtKDV/tOkzbU=   \n",
       "...                                             ...   \n",
       "17941  zyCQN/h38OmzYOsR6ecE+b7GFkO2eCHoxT1tXoFdUjA=   \n",
       "17942  zzH8+kEnDu02NMWBPCjio6wOujBZUs7y9o7AWWcvIGo=   \n",
       "17943  zzZBJUYXrb168A4Ff4sA8L2iOH0x4ciKdD6WkV53XaE=   \n",
       "17944  zzompfSaMamqvjyCMYvgUBwYrxh8fHE40z3f73CQoak=   \n",
       "17945  zzqc2ja7z10FtSpagYVcAZXg/gPRq7wcDZuNFj+zJSU=   \n",
       "\n",
       "                                    predict_song_id_list  \\\n",
       "0      [84155.0, 88380.0, 163.0, 49453.0, 5537.0, 227...   \n",
       "1      [15.0, 629.0, 6978.0, 1136.0, 7816.0, 972.0, 1...   \n",
       "2                                      [20934.0, 4691.0]   \n",
       "3      [21781.0, 2881.0, 1387.0, 346.0, 124.0, 172.0,...   \n",
       "4      [7791.0, 29354.0, 29355.0, 29357.0, 55655.0, 1...   \n",
       "...                                                  ...   \n",
       "17941  [334.0, 557.0, 247.0, 561.0, 460.0, 48.0, 459....   \n",
       "17942  [1694.0, 8830.0, 2704.0, 2705.0, 31498.0, 3961...   \n",
       "17943  [3126.0, 4723.0, 3452.0, 4724.0, 8091.0, 8093....   \n",
       "17944  [33810.0, 15031.0, 37614.0, 139476.0, 10778.0,...   \n",
       "17945  [289.0, 185.0, 1291.0, 44941.0, 58958.0, 1110....   \n",
       "\n",
       "                                       true_song_id_list  \n",
       "0      [84155.0, 49453.0, 5537.0, 2273.0, 22167.0, 18...  \n",
       "1      [7365.0, 643.0, 1136.0, 1494.0, 13800.0, 12024...  \n",
       "2                               [27047.0, 184.0, 4691.0]  \n",
       "3      [21781.0, 2881.0, 1387.0, 346.0, 124.0, 172.0,...  \n",
       "4      [7791.0, 29355.0, 29357.0, 16153.0, 44273.0, 4...  \n",
       "...                                                  ...  \n",
       "17941  [557.0, 247.0, 149.0, 91.0, 460.0, 48.0, 1129....  \n",
       "17942  [1338.0, 9165.0, 41471.0, 8830.0, 17576.0, 396...  \n",
       "17943  [4723.0, 3452.0, 4724.0, 8093.0, 2724.0, 51373...  \n",
       "17944  [25362.0, 15031.0, 3210.0, 139474.0, 17987.0, ...  \n",
       "17945  [48.0, 1361.0, 289.0, 44941.0, 58958.0, 1110.0...  \n",
       "\n",
       "[17946 rows x 3 columns]"
      ]
     },
     "execution_count": 192,
     "metadata": {},
     "output_type": "execute_result"
    }
   ],
   "source": [
    "target_df.drop('index', axis=1, inplace=True)\n",
    "target_df"
   ]
  },
  {
   "cell_type": "markdown",
   "id": "c50714bd-7e70-4532-87ee-1a12bca76abc",
   "metadata": {},
   "source": [
    "Сначала вычислим значение метрики для каждого пользователя по отдельности"
   ]
  },
  {
   "cell_type": "code",
   "execution_count": 193,
   "id": "c43de95f-e084-4356-9511-2b27a7fbc70a",
   "metadata": {},
   "outputs": [],
   "source": [
    "from sklearn.metrics import ndcg_score\n",
    "ndcg_list = []\n",
    "for i in range(len(target_df)):\n",
    "    actual = target_df['true_song_id_list'][i]\n",
    "    predicted = target_df['predict_song_id_list'][i]\n",
    "    max_length = max(len(actual), len(predicted))\n",
    "    \n",
    "    actual += [0] * (max_length - len(actual))\n",
    "    predicted += [0] * (max_length - len(predicted))\n",
    "    if len(actual) > 1:\n",
    "        actual = [[int(s) for s in actual]]\n",
    "        predicted = [[int(s) for s in predicted]]\n",
    "        ndcg = ndcg_score(actual, predicted, k = 20)\n",
    "        \n",
    "    else:\n",
    "        if actual[0] == predicted[0]:\n",
    "            ndcg = 1\n",
    "        else:\n",
    "            ndcg = 0\n",
    "        \n",
    "    ndcg_list.append(ndcg)\n"
   ]
  },
  {
   "cell_type": "markdown",
   "id": "b6112c94-376d-460a-add5-b679c9b1e993",
   "metadata": {},
   "source": [
    "**Найдем среднее полученных значений метрики NDCG@20**"
   ]
  },
  {
   "cell_type": "code",
   "execution_count": 197,
   "id": "4ebd8e01-7289-41e7-bc97-68700b21192a",
   "metadata": {},
   "outputs": [
    {
     "name": "stdout",
     "output_type": "stream",
     "text": [
      "Итоговый скор: 0.5483031638690047\n"
     ]
    }
   ],
   "source": [
    "print('Итоговый скор:', sum(ndcg_list)/len(ndcg_list))"
   ]
  }
 ],
 "metadata": {
  "kernelspec": {
   "display_name": "Python 3 (ipykernel)",
   "language": "python",
   "name": "python3"
  },
  "language_info": {
   "codemirror_mode": {
    "name": "ipython",
    "version": 3
   },
   "file_extension": ".py",
   "mimetype": "text/x-python",
   "name": "python",
   "nbconvert_exporter": "python",
   "pygments_lexer": "ipython3",
   "version": "3.10.10"
  }
 },
 "nbformat": 4,
 "nbformat_minor": 5
}
